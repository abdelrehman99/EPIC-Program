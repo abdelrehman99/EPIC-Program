{
  "cells": [
    {
      "cell_type": "markdown",
      "metadata": {
        "id": "kMshD9ytHigC"
      },
      "source": [
        "\n",
        "# Lecture 1: Introduction\n",
        "**A few useful things to know about machine learning**\n",
        "\n",
        "This lecture have materials from mlcourse.ai"
      ]
    },
    {
      "cell_type": "markdown",
      "metadata": {
        "id": "kd7OZLPoJaQH"
      },
      "source": [
        " 8 homeworks (every two weeks)\n",
        "\n",
        " 2 kaggle big homeworks\n",
        "\n",
        " Quizes :)"
      ]
    },
    {
      "cell_type": "code",
      "execution_count": 1,
      "metadata": {
        "colab": {
          "base_uri": "https://localhost:8080/"
        },
        "id": "t_HuAzzAJzWo",
        "outputId": "d8ecf599-1f39-474d-c0c4-9982c78792a5",
        "vscode": {
          "languageId": "shellscript"
        }
      },
      "outputs": [
        {
          "name": "stdout",
          "output_type": "stream",
          "text": [
            "Defaulting to user installation because normal site-packages is not writeable\n",
            "Requirement already satisfied: matplotlib in /home/abdelrehman/.local/lib/python3.10/site-packages (3.8.0)\n",
            "Requirement already satisfied: mglearn in /home/abdelrehman/.local/lib/python3.10/site-packages (0.2.0)\n",
            "Requirement already satisfied: contourpy>=1.0.1 in /home/abdelrehman/.local/lib/python3.10/site-packages (from matplotlib) (1.1.1)\n",
            "Requirement already satisfied: python-dateutil>=2.7 in /home/abdelrehman/.local/lib/python3.10/site-packages (from matplotlib) (2.8.2)\n",
            "Requirement already satisfied: numpy<2,>=1.21 in /home/abdelrehman/.local/lib/python3.10/site-packages (from matplotlib) (1.24.3)\n",
            "Requirement already satisfied: cycler>=0.10 in /home/abdelrehman/.local/lib/python3.10/site-packages (from matplotlib) (0.12.1)\n",
            "Requirement already satisfied: packaging>=20.0 in /home/abdelrehman/.local/lib/python3.10/site-packages (from matplotlib) (23.2)\n",
            "Requirement already satisfied: fonttools>=4.22.0 in /home/abdelrehman/.local/lib/python3.10/site-packages (from matplotlib) (4.43.1)\n",
            "Requirement already satisfied: pillow>=6.2.0 in /usr/lib/python3/dist-packages (from matplotlib) (9.0.1)\n",
            "Requirement already satisfied: kiwisolver>=1.0.1 in /home/abdelrehman/.local/lib/python3.10/site-packages (from matplotlib) (1.4.5)\n",
            "Requirement already satisfied: pyparsing>=2.3.1 in /usr/lib/python3/dist-packages (from matplotlib) (2.4.7)\n",
            "Requirement already satisfied: imageio in /home/abdelrehman/.local/lib/python3.10/site-packages (from mglearn) (2.31.6)\n",
            "Requirement already satisfied: scikit-learn in /home/abdelrehman/.local/lib/python3.10/site-packages (from mglearn) (1.3.2)\n",
            "Requirement already satisfied: pandas in /home/abdelrehman/.local/lib/python3.10/site-packages (from mglearn) (2.1.1)\n",
            "Requirement already satisfied: joblib in /home/abdelrehman/.local/lib/python3.10/site-packages (from mglearn) (1.3.2)\n",
            "Requirement already satisfied: six>=1.5 in /usr/lib/python3/dist-packages (from python-dateutil>=2.7->matplotlib) (1.16.0)\n",
            "Requirement already satisfied: tzdata>=2022.1 in /home/abdelrehman/.local/lib/python3.10/site-packages (from pandas->mglearn) (2023.3)\n",
            "Requirement already satisfied: pytz>=2020.1 in /usr/lib/python3/dist-packages (from pandas->mglearn) (2022.1)\n",
            "Requirement already satisfied: threadpoolctl>=2.0.0 in /home/abdelrehman/.local/lib/python3.10/site-packages (from scikit-learn->mglearn) (3.2.0)\n",
            "Requirement already satisfied: scipy>=1.5.0 in /home/abdelrehman/.local/lib/python3.10/site-packages (from scikit-learn->mglearn) (1.11.3)\n"
          ]
        }
      ],
      "source": [
        "pip install matplotlib mglearn"
      ]
    },
    {
      "cell_type": "code",
      "execution_count": 2,
      "metadata": {
        "colab": {
          "base_uri": "https://localhost:8080/"
        },
        "id": "4SI36tEfLAi1",
        "outputId": "6a7103b5-aa21-4420-e18e-0121247eec18",
        "vscode": {
          "languageId": "shellscript"
        }
      },
      "outputs": [
        {
          "name": "stdout",
          "output_type": "stream",
          "text": [
            "Defaulting to user installation because normal site-packages is not writeable\n",
            "Requirement already satisfied: pandas in /home/abdelrehman/.local/lib/python3.10/site-packages (2.1.1)\n",
            "Requirement already satisfied: numpy in /home/abdelrehman/.local/lib/python3.10/site-packages (1.24.3)\n",
            "Requirement already satisfied: seaborn in /home/abdelrehman/.local/lib/python3.10/site-packages (0.13.0)\n",
            "Requirement already satisfied: jupyter in /home/abdelrehman/.local/lib/python3.10/site-packages (1.0.0)\n",
            "Requirement already satisfied: tzdata>=2022.1 in /home/abdelrehman/.local/lib/python3.10/site-packages (from pandas) (2023.3)\n",
            "Requirement already satisfied: python-dateutil>=2.8.2 in /home/abdelrehman/.local/lib/python3.10/site-packages (from pandas) (2.8.2)\n",
            "Requirement already satisfied: pytz>=2020.1 in /usr/lib/python3/dist-packages (from pandas) (2022.1)\n",
            "Requirement already satisfied: matplotlib!=3.6.1,>=3.3 in /home/abdelrehman/.local/lib/python3.10/site-packages (from seaborn) (3.8.0)\n",
            "Requirement already satisfied: notebook in /home/abdelrehman/.local/lib/python3.10/site-packages (from jupyter) (7.0.6)\n",
            "Requirement already satisfied: ipywidgets in /home/abdelrehman/.local/lib/python3.10/site-packages (from jupyter) (8.1.1)\n",
            "Requirement already satisfied: nbconvert in /home/abdelrehman/.local/lib/python3.10/site-packages (from jupyter) (7.9.2)\n",
            "Requirement already satisfied: qtconsole in /home/abdelrehman/.local/lib/python3.10/site-packages (from jupyter) (5.4.4)\n",
            "Requirement already satisfied: jupyter-console in /home/abdelrehman/.local/lib/python3.10/site-packages (from jupyter) (6.6.3)\n",
            "Requirement already satisfied: ipykernel in /home/abdelrehman/.local/lib/python3.10/site-packages (from jupyter) (6.26.0)\n",
            "Requirement already satisfied: kiwisolver>=1.0.1 in /home/abdelrehman/.local/lib/python3.10/site-packages (from matplotlib!=3.6.1,>=3.3->seaborn) (1.4.5)\n",
            "Requirement already satisfied: pillow>=6.2.0 in /usr/lib/python3/dist-packages (from matplotlib!=3.6.1,>=3.3->seaborn) (9.0.1)\n",
            "Requirement already satisfied: fonttools>=4.22.0 in /home/abdelrehman/.local/lib/python3.10/site-packages (from matplotlib!=3.6.1,>=3.3->seaborn) (4.43.1)\n",
            "Requirement already satisfied: cycler>=0.10 in /home/abdelrehman/.local/lib/python3.10/site-packages (from matplotlib!=3.6.1,>=3.3->seaborn) (0.12.1)\n",
            "Requirement already satisfied: contourpy>=1.0.1 in /home/abdelrehman/.local/lib/python3.10/site-packages (from matplotlib!=3.6.1,>=3.3->seaborn) (1.1.1)\n",
            "Requirement already satisfied: packaging>=20.0 in /home/abdelrehman/.local/lib/python3.10/site-packages (from matplotlib!=3.6.1,>=3.3->seaborn) (23.2)\n",
            "Requirement already satisfied: pyparsing>=2.3.1 in /usr/lib/python3/dist-packages (from matplotlib!=3.6.1,>=3.3->seaborn) (2.4.7)\n",
            "Requirement already satisfied: six>=1.5 in /usr/lib/python3/dist-packages (from python-dateutil>=2.8.2->pandas) (1.16.0)\n",
            "Requirement already satisfied: ipython>=7.23.1 in /home/abdelrehman/.local/lib/python3.10/site-packages (from ipykernel->jupyter) (8.16.1)\n",
            "Requirement already satisfied: traitlets>=5.4.0 in /home/abdelrehman/.local/lib/python3.10/site-packages (from ipykernel->jupyter) (5.12.0)\n",
            "Requirement already satisfied: nest-asyncio in /home/abdelrehman/.local/lib/python3.10/site-packages (from ipykernel->jupyter) (1.5.8)\n",
            "Requirement already satisfied: psutil in /home/abdelrehman/.local/lib/python3.10/site-packages (from ipykernel->jupyter) (5.9.6)\n",
            "Requirement already satisfied: tornado>=6.1 in /home/abdelrehman/.local/lib/python3.10/site-packages (from ipykernel->jupyter) (6.3.3)\n",
            "Requirement already satisfied: matplotlib-inline>=0.1 in /home/abdelrehman/.local/lib/python3.10/site-packages (from ipykernel->jupyter) (0.1.6)\n",
            "Requirement already satisfied: comm>=0.1.1 in /home/abdelrehman/.local/lib/python3.10/site-packages (from ipykernel->jupyter) (0.1.4)\n",
            "Requirement already satisfied: pyzmq>=20 in /home/abdelrehman/.local/lib/python3.10/site-packages (from ipykernel->jupyter) (25.1.1)\n",
            "Requirement already satisfied: jupyter-core!=5.0.*,>=4.12 in /home/abdelrehman/.local/lib/python3.10/site-packages (from ipykernel->jupyter) (5.4.0)\n",
            "Requirement already satisfied: jupyter-client>=6.1.12 in /home/abdelrehman/.local/lib/python3.10/site-packages (from ipykernel->jupyter) (8.5.0)\n",
            "Requirement already satisfied: debugpy>=1.6.5 in /home/abdelrehman/.local/lib/python3.10/site-packages (from ipykernel->jupyter) (1.8.0)\n",
            "Requirement already satisfied: widgetsnbextension~=4.0.9 in /home/abdelrehman/.local/lib/python3.10/site-packages (from ipywidgets->jupyter) (4.0.9)\n",
            "Requirement already satisfied: jupyterlab-widgets~=3.0.9 in /home/abdelrehman/.local/lib/python3.10/site-packages (from ipywidgets->jupyter) (3.0.9)\n",
            "Requirement already satisfied: pygments in /home/abdelrehman/.local/lib/python3.10/site-packages (from jupyter-console->jupyter) (2.16.1)\n",
            "Requirement already satisfied: prompt-toolkit>=3.0.30 in /home/abdelrehman/.local/lib/python3.10/site-packages (from jupyter-console->jupyter) (3.0.39)\n",
            "Requirement already satisfied: nbclient>=0.5.0 in /home/abdelrehman/.local/lib/python3.10/site-packages (from nbconvert->jupyter) (0.8.0)\n",
            "Requirement already satisfied: tinycss2 in /home/abdelrehman/.local/lib/python3.10/site-packages (from nbconvert->jupyter) (1.2.1)\n",
            "Requirement already satisfied: defusedxml in /home/abdelrehman/.local/lib/python3.10/site-packages (from nbconvert->jupyter) (0.7.1)\n",
            "Requirement already satisfied: jupyterlab-pygments in /home/abdelrehman/.local/lib/python3.10/site-packages (from nbconvert->jupyter) (0.2.2)\n",
            "Requirement already satisfied: jinja2>=3.0 in /home/abdelrehman/.local/lib/python3.10/site-packages (from nbconvert->jupyter) (3.1.2)\n",
            "Requirement already satisfied: markupsafe>=2.0 in /usr/lib/python3/dist-packages (from nbconvert->jupyter) (2.0.1)\n",
            "Requirement already satisfied: pandocfilters>=1.4.1 in /home/abdelrehman/.local/lib/python3.10/site-packages (from nbconvert->jupyter) (1.5.0)\n",
            "Requirement already satisfied: nbformat>=5.7 in /home/abdelrehman/.local/lib/python3.10/site-packages (from nbconvert->jupyter) (5.9.2)\n",
            "Requirement already satisfied: beautifulsoup4 in /home/abdelrehman/.local/lib/python3.10/site-packages (from nbconvert->jupyter) (4.12.2)\n",
            "Requirement already satisfied: mistune<4,>=2.0.3 in /home/abdelrehman/.local/lib/python3.10/site-packages (from nbconvert->jupyter) (3.0.2)\n",
            "Requirement already satisfied: bleach!=5.0.0 in /home/abdelrehman/.local/lib/python3.10/site-packages (from nbconvert->jupyter) (6.1.0)\n",
            "Requirement already satisfied: jupyter-server<3,>=2.4.0 in /home/abdelrehman/.local/lib/python3.10/site-packages (from notebook->jupyter) (2.9.1)\n",
            "Requirement already satisfied: jupyterlab-server<3,>=2.22.1 in /home/abdelrehman/.local/lib/python3.10/site-packages (from notebook->jupyter) (2.25.0)\n",
            "Requirement already satisfied: jupyterlab<5,>=4.0.2 in /home/abdelrehman/.local/lib/python3.10/site-packages (from notebook->jupyter) (4.0.7)\n",
            "Requirement already satisfied: notebook-shim<0.3,>=0.2 in /home/abdelrehman/.local/lib/python3.10/site-packages (from notebook->jupyter) (0.2.3)\n",
            "Requirement already satisfied: qtpy>=2.4.0 in /home/abdelrehman/.local/lib/python3.10/site-packages (from qtconsole->jupyter) (2.4.1)\n",
            "Requirement already satisfied: ipython-genutils in /home/abdelrehman/.local/lib/python3.10/site-packages (from qtconsole->jupyter) (0.2.0)\n",
            "Requirement already satisfied: webencodings in /home/abdelrehman/.local/lib/python3.10/site-packages (from bleach!=5.0.0->nbconvert->jupyter) (0.5.1)\n",
            "Requirement already satisfied: jedi>=0.16 in /home/abdelrehman/.local/lib/python3.10/site-packages (from ipython>=7.23.1->ipykernel->jupyter) (0.19.1)\n",
            "Requirement already satisfied: decorator in /home/abdelrehman/.local/lib/python3.10/site-packages (from ipython>=7.23.1->ipykernel->jupyter) (5.1.1)\n",
            "Requirement already satisfied: stack-data in /home/abdelrehman/.local/lib/python3.10/site-packages (from ipython>=7.23.1->ipykernel->jupyter) (0.6.3)\n",
            "Requirement already satisfied: backcall in /home/abdelrehman/.local/lib/python3.10/site-packages (from ipython>=7.23.1->ipykernel->jupyter) (0.2.0)\n",
            "Requirement already satisfied: exceptiongroup in /home/abdelrehman/.local/lib/python3.10/site-packages (from ipython>=7.23.1->ipykernel->jupyter) (1.1.3)\n",
            "Requirement already satisfied: pickleshare in /home/abdelrehman/.local/lib/python3.10/site-packages (from ipython>=7.23.1->ipykernel->jupyter) (0.7.5)\n",
            "Requirement already satisfied: pexpect>4.3 in /usr/lib/python3/dist-packages (from ipython>=7.23.1->ipykernel->jupyter) (4.8.0)\n",
            "Requirement already satisfied: platformdirs>=2.5 in /home/abdelrehman/.local/lib/python3.10/site-packages (from jupyter-core!=5.0.*,>=4.12->ipykernel->jupyter) (3.11.0)\n",
            "Requirement already satisfied: jupyter-server-terminals in /home/abdelrehman/.local/lib/python3.10/site-packages (from jupyter-server<3,>=2.4.0->notebook->jupyter) (0.4.4)\n",
            "Requirement already satisfied: websocket-client in /home/abdelrehman/.local/lib/python3.10/site-packages (from jupyter-server<3,>=2.4.0->notebook->jupyter) (1.6.4)\n",
            "Requirement already satisfied: argon2-cffi in /home/abdelrehman/.local/lib/python3.10/site-packages (from jupyter-server<3,>=2.4.0->notebook->jupyter) (23.1.0)\n",
            "Requirement already satisfied: terminado>=0.8.3 in /home/abdelrehman/.local/lib/python3.10/site-packages (from jupyter-server<3,>=2.4.0->notebook->jupyter) (0.17.1)\n",
            "Requirement already satisfied: jupyter-events>=0.6.0 in /home/abdelrehman/.local/lib/python3.10/site-packages (from jupyter-server<3,>=2.4.0->notebook->jupyter) (0.8.0)\n",
            "Requirement already satisfied: overrides in /home/abdelrehman/.local/lib/python3.10/site-packages (from jupyter-server<3,>=2.4.0->notebook->jupyter) (7.4.0)\n",
            "Requirement already satisfied: send2trash>=1.8.2 in /home/abdelrehman/.local/lib/python3.10/site-packages (from jupyter-server<3,>=2.4.0->notebook->jupyter) (1.8.2)\n",
            "Requirement already satisfied: anyio>=3.1.0 in /home/abdelrehman/.local/lib/python3.10/site-packages (from jupyter-server<3,>=2.4.0->notebook->jupyter) (4.0.0)\n",
            "Requirement already satisfied: prometheus-client in /home/abdelrehman/.local/lib/python3.10/site-packages (from jupyter-server<3,>=2.4.0->notebook->jupyter) (0.17.1)\n",
            "Requirement already satisfied: tomli in /home/abdelrehman/.local/lib/python3.10/site-packages (from jupyterlab<5,>=4.0.2->notebook->jupyter) (2.0.1)\n",
            "Requirement already satisfied: jupyter-lsp>=2.0.0 in /home/abdelrehman/.local/lib/python3.10/site-packages (from jupyterlab<5,>=4.0.2->notebook->jupyter) (2.2.0)\n",
            "Requirement already satisfied: async-lru>=1.0.0 in /home/abdelrehman/.local/lib/python3.10/site-packages (from jupyterlab<5,>=4.0.2->notebook->jupyter) (2.0.4)\n",
            "Requirement already satisfied: babel>=2.10 in /home/abdelrehman/.local/lib/python3.10/site-packages (from jupyterlab-server<3,>=2.22.1->notebook->jupyter) (2.13.1)\n",
            "Requirement already satisfied: requests>=2.31 in /home/abdelrehman/.local/lib/python3.10/site-packages (from jupyterlab-server<3,>=2.22.1->notebook->jupyter) (2.31.0)\n",
            "Requirement already satisfied: json5>=0.9.0 in /home/abdelrehman/.local/lib/python3.10/site-packages (from jupyterlab-server<3,>=2.22.1->notebook->jupyter) (0.9.14)\n",
            "Requirement already satisfied: jsonschema>=4.18.0 in /home/abdelrehman/.local/lib/python3.10/site-packages (from jupyterlab-server<3,>=2.22.1->notebook->jupyter) (4.19.1)\n",
            "Requirement already satisfied: fastjsonschema in /home/abdelrehman/.local/lib/python3.10/site-packages (from nbformat>=5.7->nbconvert->jupyter) (2.18.1)\n",
            "Requirement already satisfied: wcwidth in /home/abdelrehman/.local/lib/python3.10/site-packages (from prompt-toolkit>=3.0.30->jupyter-console->jupyter) (0.2.8)\n",
            "Requirement already satisfied: soupsieve>1.2 in /home/abdelrehman/.local/lib/python3.10/site-packages (from beautifulsoup4->nbconvert->jupyter) (2.5)\n",
            "Requirement already satisfied: sniffio>=1.1 in /home/abdelrehman/.local/lib/python3.10/site-packages (from anyio>=3.1.0->jupyter-server<3,>=2.4.0->notebook->jupyter) (1.3.0)\n",
            "Requirement already satisfied: idna>=2.8 in /usr/lib/python3/dist-packages (from anyio>=3.1.0->jupyter-server<3,>=2.4.0->notebook->jupyter) (3.3)\n",
            "Requirement already satisfied: typing-extensions>=4.0.0 in /home/abdelrehman/.local/lib/python3.10/site-packages (from async-lru>=1.0.0->jupyterlab<5,>=4.0.2->notebook->jupyter) (4.8.0)\n",
            "Requirement already satisfied: parso<0.9.0,>=0.8.3 in /home/abdelrehman/.local/lib/python3.10/site-packages (from jedi>=0.16->ipython>=7.23.1->ipykernel->jupyter) (0.8.3)\n",
            "Requirement already satisfied: jsonschema-specifications>=2023.03.6 in /home/abdelrehman/.local/lib/python3.10/site-packages (from jsonschema>=4.18.0->jupyterlab-server<3,>=2.22.1->notebook->jupyter) (2023.7.1)\n",
            "Requirement already satisfied: referencing>=0.28.4 in /home/abdelrehman/.local/lib/python3.10/site-packages (from jsonschema>=4.18.0->jupyterlab-server<3,>=2.22.1->notebook->jupyter) (0.30.2)\n",
            "Requirement already satisfied: rpds-py>=0.7.1 in /home/abdelrehman/.local/lib/python3.10/site-packages (from jsonschema>=4.18.0->jupyterlab-server<3,>=2.22.1->notebook->jupyter) (0.10.6)\n",
            "Requirement already satisfied: attrs>=22.2.0 in /home/abdelrehman/.local/lib/python3.10/site-packages (from jsonschema>=4.18.0->jupyterlab-server<3,>=2.22.1->notebook->jupyter) (23.1.0)\n",
            "Requirement already satisfied: python-json-logger>=2.0.4 in /home/abdelrehman/.local/lib/python3.10/site-packages (from jupyter-events>=0.6.0->jupyter-server<3,>=2.4.0->notebook->jupyter) (2.0.7)\n",
            "Requirement already satisfied: pyyaml>=5.3 in /usr/lib/python3/dist-packages (from jupyter-events>=0.6.0->jupyter-server<3,>=2.4.0->notebook->jupyter) (5.4.1)\n",
            "Requirement already satisfied: rfc3339-validator in /home/abdelrehman/.local/lib/python3.10/site-packages (from jupyter-events>=0.6.0->jupyter-server<3,>=2.4.0->notebook->jupyter) (0.1.4)\n",
            "Requirement already satisfied: rfc3986-validator>=0.1.1 in /home/abdelrehman/.local/lib/python3.10/site-packages (from jupyter-events>=0.6.0->jupyter-server<3,>=2.4.0->notebook->jupyter) (0.1.1)\n",
            "Requirement already satisfied: certifi>=2017.4.17 in /usr/lib/python3/dist-packages (from requests>=2.31->jupyterlab-server<3,>=2.22.1->notebook->jupyter) (2020.6.20)\n",
            "Requirement already satisfied: urllib3<3,>=1.21.1 in /usr/lib/python3/dist-packages (from requests>=2.31->jupyterlab-server<3,>=2.22.1->notebook->jupyter) (1.26.5)\n",
            "Requirement already satisfied: charset-normalizer<4,>=2 in /home/abdelrehman/.local/lib/python3.10/site-packages (from requests>=2.31->jupyterlab-server<3,>=2.22.1->notebook->jupyter) (3.3.1)\n",
            "Requirement already satisfied: ptyprocess in /usr/lib/python3/dist-packages (from terminado>=0.8.3->jupyter-server<3,>=2.4.0->notebook->jupyter) (0.7.0)\n",
            "Requirement already satisfied: argon2-cffi-bindings in /home/abdelrehman/.local/lib/python3.10/site-packages (from argon2-cffi->jupyter-server<3,>=2.4.0->notebook->jupyter) (21.2.0)\n",
            "Requirement already satisfied: asttokens>=2.1.0 in /home/abdelrehman/.local/lib/python3.10/site-packages (from stack-data->ipython>=7.23.1->ipykernel->jupyter) (2.4.0)\n",
            "Requirement already satisfied: pure-eval in /home/abdelrehman/.local/lib/python3.10/site-packages (from stack-data->ipython>=7.23.1->ipykernel->jupyter) (0.2.2)\n",
            "Requirement already satisfied: executing>=1.2.0 in /home/abdelrehman/.local/lib/python3.10/site-packages (from stack-data->ipython>=7.23.1->ipykernel->jupyter) (2.0.0)\n",
            "Requirement already satisfied: fqdn in /home/abdelrehman/.local/lib/python3.10/site-packages (from jsonschema>=4.18.0->jupyterlab-server<3,>=2.22.1->notebook->jupyter) (1.5.1)\n",
            "Requirement already satisfied: isoduration in /home/abdelrehman/.local/lib/python3.10/site-packages (from jsonschema>=4.18.0->jupyterlab-server<3,>=2.22.1->notebook->jupyter) (20.11.0)\n",
            "Requirement already satisfied: webcolors>=1.11 in /home/abdelrehman/.local/lib/python3.10/site-packages (from jsonschema>=4.18.0->jupyterlab-server<3,>=2.22.1->notebook->jupyter) (1.13)\n",
            "Requirement already satisfied: uri-template in /home/abdelrehman/.local/lib/python3.10/site-packages (from jsonschema>=4.18.0->jupyterlab-server<3,>=2.22.1->notebook->jupyter) (1.3.0)\n",
            "Requirement already satisfied: jsonpointer>1.13 in /home/abdelrehman/.local/lib/python3.10/site-packages (from jsonschema>=4.18.0->jupyterlab-server<3,>=2.22.1->notebook->jupyter) (2.4)\n",
            "Requirement already satisfied: cffi>=1.0.1 in /home/abdelrehman/.local/lib/python3.10/site-packages (from argon2-cffi-bindings->argon2-cffi->jupyter-server<3,>=2.4.0->notebook->jupyter) (1.16.0)\n",
            "Requirement already satisfied: pycparser in /home/abdelrehman/.local/lib/python3.10/site-packages (from cffi>=1.0.1->argon2-cffi-bindings->argon2-cffi->jupyter-server<3,>=2.4.0->notebook->jupyter) (2.21)\n",
            "Requirement already satisfied: arrow>=0.15.0 in /home/abdelrehman/.local/lib/python3.10/site-packages (from isoduration->jsonschema>=4.18.0->jupyterlab-server<3,>=2.22.1->notebook->jupyter) (1.3.0)\n",
            "Requirement already satisfied: types-python-dateutil>=2.8.10 in /home/abdelrehman/.local/lib/python3.10/site-packages (from arrow>=0.15.0->isoduration->jsonschema>=4.18.0->jupyterlab-server<3,>=2.22.1->notebook->jupyter) (2.8.19.14)\n"
          ]
        }
      ],
      "source": [
        "pip install pandas numpy seaborn jupyter"
      ]
    },
    {
      "cell_type": "markdown",
      "metadata": {
        "id": "r-1Mk-90HigE"
      },
      "source": [
        "## Why Machine Learning?\n",
        "- Search engines (e.g. Google)\n",
        "- Recommender systems (e.g. Netflix)\n",
        "- Automatic translation (e.g. Google Translate)\n",
        "- Speech understanding (e.g. Siri, Alexa)\n",
        "- Game playing (e.g. AlphaGo)\n",
        "- Self-driving cars\n",
        "- Personalized medicine\n",
        "- Progress in all sciences: Genetics, astronomy, chemistry, neurology, physics,..."
      ]
    },
    {
      "cell_type": "markdown",
      "metadata": {
        "id": "TonfpB_NHigE"
      },
      "source": [
        "## What is Machine Learning?\n",
        "- Learn to perform a task, based on experience (examples) $X$, minimizing error $\\mathcal{E}$\n",
        "    - E.g. recognizing a person in an image as accurately as possible\n",
        "- Often, we want to learn a function (model) $f$ with some model parameters $\\theta$ that produces the right output $y$\n",
        "\n",
        "$$f_{\\theta}(X) = y$$\n",
        "$$\\underset{\\theta}{\\operatorname{argmin}} \\mathcal{E}(f_{\\theta}(X))$$\n",
        "\n",
        "- Usually part of a _much_ larger system that provides the data $X$ in the right form\n",
        "    - Data needs to be collected, cleaned, normalized, checked for data biases,..."
      ]
    },
    {
      "cell_type": "markdown",
      "metadata": {
        "id": "sbytqH4PHigE"
      },
      "source": [
        "### Inductive bias\n",
        "\n",
        "- In practice, we have to put assumptions into the model: _inductive bias_ $b$\n",
        "    - What should the model look like?\n",
        "        - Mimick human brain: Neural Networks\n",
        "        - Logical combination of inputs: Decision trees, Linear models\n",
        "        - Remember similar examples: Nearest Neighbors, SVMs\n",
        "        - Probability distribution: Bayesian models\n",
        "    - User-defined settings (hyperparameters)\n",
        "        - E.g. depth of tree, network architecture\n",
        "    - Assuptions about the data distribution, e.g. $X \\sim N(\\mu,\\sigma)$\n",
        "- We can _transfer_ knowledge from previous tasks: $f_1, f_2, f_3, ... \\Longrightarrow f_{new}$\n",
        "    - Choose the right model, hyperparameters\n",
        "    - Reuse previously learned values for model parameters $\\theta$\n",
        "- In short:\n",
        "\n",
        "$$\\underset{\\theta,b}{\\operatorname{argmin}} \\mathcal{E}(f_{\\theta, b}(X))$$"
      ]
    },
    {
      "cell_type": "markdown",
      "metadata": {
        "id": "Gl6kLdSiHigF"
      },
      "source": [
        "## Types of machine learning\n",
        "- __Supervised Learning__: learn a _model_ $f$ from _labeled data_ $(X,y)$ (ground truth)\n",
        "    - Given a new input _X_, predict the right output _y_\n",
        "    - Given examples of stars and galaxies, identify new objects in the sky\n",
        "- __Unsupervised Learning__: explore the structure of the data (X) to extract meaningful information\n",
        "    - Given inputs _X_, find which ones are special, similar, anomalous, ...\n",
        "- __Semi-Supervised Learning__: learn a model from (few) labeled and (many) unlabeled examples\n",
        "    - Unlabeled examples add information about which new examples are likely to occur\n",
        "- __Reinforcement Learning__: develop an agent that improves its performance based on interactions with the environment\n",
        "\n",
        "Note: Practical ML systems can combine many types in one system."
      ]
    },
    {
      "cell_type": "markdown",
      "metadata": {
        "id": "_nXioiPjGprT"
      },
      "source": [
        "Grocery list\n",
        "Apple, banana - fruits\n",
        "Tomato, cucumber - vegetable\n",
        "List....\n",
        "Avocado?"
      ]
    },
    {
      "cell_type": "markdown",
      "metadata": {
        "id": "FwAi6jDHHigF"
      },
      "source": [
        "### Supervised Machine Learning\n",
        "\n",
        "- Learn a model from labeled training data, then make predictions\n",
        "- Supervised: we know the correct/desired outcome (label)\n",
        "- Subtypes: _classification_ (predict a class) and _regression_ (predict a numeric value)\n",
        "- Most supervised algorithms that we will see can do both"
      ]
    },
    {
      "cell_type": "markdown",
      "metadata": {
        "id": "WoNDweezHigF"
      },
      "source": [
        "<img src=\"https://raw.githubusercontent.com/ML-course/master/master/notebooks/images/01_supervised.png\" alt=\"ml\" style=\"width:60%\"/>\n"
      ]
    },
    {
      "cell_type": "markdown",
      "metadata": {
        "id": "NeO_HLdkHigG"
      },
      "source": [
        "#### Classification\n",
        "\n",
        "- Predict a _class label_ (category), discrete and unordered\n",
        "    - Can be _binary_ (e.g. spam/not spam) or _multi-class_ (e.g. letter recognition)\n",
        "    - Many classifiers can return a _confidence_ per class\n",
        "- The predictions of the model yield a _decision boundary_ separating the classes"
      ]
    },
    {
      "cell_type": "code",
      "execution_count": 3,
      "metadata": {
        "id": "ybYSSCxMKc6c"
      },
      "outputs": [],
      "source": [
        "fig_scale = 1.5"
      ]
    },
    {
      "cell_type": "code",
      "execution_count": 4,
      "metadata": {
        "colab": {
          "base_uri": "https://localhost:8080/",
          "height": 1000,
          "referenced_widgets": [
            "60c681bf491b4a38986eacd82ed473a0",
            "a315fa36df5e4bff88542b7342b25f13",
            "93b8c5e0a65a4621b5ed1c212773a568",
            "ae81801270b84135900c901e5980cebd",
            "6f32a907286143b7a48372a814f8a4d2",
            "d94ba1731d994907b5f2205f8492246d",
            "333e35f6983b44deb1d7fe7a114bf94a"
          ]
        },
        "id": "UdRlqucmHigG",
        "outputId": "fc9b6937-954c-4cfb-f54a-462482736703",
        "tags": [
          "hide-input"
        ]
      },
      "outputs": [
        {
          "data": {
            "image/png": "[encoded data removed]",
            "text/plain": [
              "<Figure size 1800x600 with 3 Axes>"
            ]
          },
          "metadata": {},
          "output_type": "display_data"
        },
        {
          "data": {
            "application/vnd.jupyter.widget-view+json": {
              "model_id": "97da578e830b41399117944b9e9f7f44",
              "version_major": 2,
              "version_minor": 0
            },
            "text/plain": [
              "interactive(children=(Dropdown(description='classifier', options=(LogisticRegression(), SVC(gamma=2, probabili…"
            ]
          },
          "metadata": {},
          "output_type": "display_data"
        }
      ],
      "source": [
        "from sklearn.linear_model import LogisticRegression\n",
        "from sklearn.svm import SVC\n",
        "from sklearn.neighbors import KNeighborsClassifier\n",
        "from sklearn.datasets import make_moons\n",
        "import ipywidgets as widgets\n",
        "import matplotlib.pyplot as plt\n",
        "from ipywidgets import interact, interact_manual\n",
        "import mglearn\n",
        "\n",
        "# create a synthetic dataset\n",
        "X1, y1 = make_moons(n_samples=70, noise=0.2, random_state=8)\n",
        "\n",
        "# Train classifiers\n",
        "lr = LogisticRegression().fit(X1, y1)\n",
        "svm = SVC(kernel='rbf', gamma=2, probability=True).fit(X1, y1)\n",
        "knn = KNeighborsClassifier(n_neighbors=3).fit(X1, y1)\n",
        "\n",
        "# Plotting\n",
        "@interact\n",
        "def plot_classifier(classifier=[lr,svm,knn]):\n",
        "    fig, axes = plt.subplots(1, 2, figsize=(12*fig_scale, 4*fig_scale))\n",
        "    mglearn.tools.plot_2d_separator(\n",
        "        classifier, X1, ax=axes[0], alpha=.4, cm=mglearn.cm2)\n",
        "    scores_image = mglearn.tools.plot_2d_scores(\n",
        "        classifier, X1, ax=axes[1], alpha=.5, cm=mglearn.ReBl, function='predict_proba')\n",
        "    for ax in axes:\n",
        "        mglearn.discrete_scatter(X1[:, 0], X1[:, 1], y1,\n",
        "                                 markers='.', ax=ax)\n",
        "        ax.set_xlabel(\"Feature 0\")\n",
        "        ax.set_ylabel(\"Feature 1\", labelpad=0)\n",
        "        ax.tick_params(axis='y', pad=0)\n",
        "\n",
        "    cbar = plt.colorbar(scores_image, ax=axes.tolist())\n",
        "    cbar.set_label('Predicted probability', rotation=270, labelpad=6)\n",
        "    cbar.set_alpha(1)\n",
        "    cbar.draw_all()\n",
        "    axes[0].legend([\"Class 0\", \"Class 1\"], ncol=4, loc=(.1, 1.1));"
      ]
    },
    {
      "cell_type": "markdown",
      "metadata": {
        "id": "PFE-Rm_EHigH"
      },
      "source": [
        "##### Example: Flower classification\n",
        "Classify types of Iris flowers (setosa, versicolor, or virginica). How would you do it?\n",
        "\n",
        "<img src=\"https://raw.githubusercontent.com/ML-course/master/master/notebooks/images/01_iris.jpeg\" alt=\"ml\" style=\"width: 75%;\"/>\n"
      ]
    },
    {
      "cell_type": "markdown",
      "metadata": {
        "id": "XJg2aabUHigH"
      },
      "source": [
        "##### Representation: input features and labels\n",
        "- We could take pictures and use them (pixel values) as inputs (-> Deep Learning)\n",
        "- We can manually define a number of input features (variables), e.g. length and width of leaves\n",
        "- Every `example' is a point in a (possibly high-dimensional) space\n",
        "    \n",
        "<img src=\"https://raw.githubusercontent.com/ML-course/master/master/notebooks/images/01_terminology.png\" alt=\"ml\" style=\"float: left; width: 50%;\"/>\n",
        "<img src=\"https://raw.githubusercontent.com/ML-course/master/master/notebooks/images/01_iris3d.png\" alt=\"ml\" style=\"float: left; width: 35%;\"/>"
      ]
    },
    {
      "cell_type": "markdown",
      "metadata": {
        "id": "MacPyfCRHigH"
      },
      "source": [
        "#### Regression\n",
        "- Predict a continuous value, e.g. temperature\n",
        "    - Target variable is numeric\n",
        "    - Some algorithms can return a _confidence interval_\n",
        "- Find the relationship between predictors and the target."
      ]
    },
    {
      "cell_type": "code",
      "execution_count": null,
      "metadata": {
        "colab": {
          "base_uri": "https://localhost:8080/",
          "height": 1000,
          "referenced_widgets": [
            "eae1a6c0a9fe4cd2a24dfe44b8b06693",
            "6f203da87b2f4562adb47c21240d1eba",
            "790c3ad24952498783dd679218f20a17",
            "c241c62cca074ff3abcd007a1654b156",
            "b966a870fee54b0d8fe83a743d2d9617",
            "a55be11361c24243a21d3736fdcc1ad5",
            "8a70c705c11c42f0b317f537b59a98d3"
          ]
        },
        "id": "LXotM_IrHigH",
        "outputId": "42e58cdb-e25b-4e09-fc15-228d74459e24",
        "tags": [
          "hide-input"
        ]
      },
      "outputs": [],
      "source": [
        "from mglearn.datasets import make_wave\n",
        "from mglearn.plot_helpers import cm2\n",
        "from sklearn.linear_model import LinearRegression, BayesianRidge\n",
        "from sklearn.gaussian_process import GaussianProcessRegressor\n",
        "from sklearn.gaussian_process.kernels import RBF\n",
        "import numpy as np\n",
        "\n",
        "X2, y2 = make_wave(n_samples=60)\n",
        "x = np.atleast_2d(np.linspace(-3, 3, 100)).T\n",
        "lr = LinearRegression().fit(X2, y2)\n",
        "ridge = BayesianRidge().fit(X2, y2)\n",
        "gp = GaussianProcessRegressor(kernel=RBF(10, (1e-2, 1e2)), n_restarts_optimizer=9, alpha=0.1, normalize_y=True).fit(X2, y2)\n",
        "\n",
        "@interact\n",
        "def plot_regression(regressor=[lr, ridge, gp]):\n",
        "    line = np.linspace(-3, 3, 100).reshape(-1, 1)\n",
        "    plt.figure(figsize=(5*fig_scale, 5*fig_scale))\n",
        "    plt.plot(X2, y2, 'o', c=cm2(0))\n",
        "    if(regressor.__class__.__name__ == 'LinearRegression'):\n",
        "        y_pred = regressor.predict(x)\n",
        "    else:\n",
        "        y_pred, sigma = regressor.predict(x, return_std=True)\n",
        "        plt.fill(np.concatenate([x, x[::-1]]),\n",
        "             np.concatenate([y_pred - 1.9600 * sigma,\n",
        "                            (y_pred + 1.9600 * sigma)[::-1]]),\n",
        "             alpha=.5, fc='b', ec='None', label='95% confidence interval')\n",
        "\n",
        "    plt.plot(line, y_pred, 'b-')\n",
        "    plt.xlabel(\"Input feature 1\")\n",
        "    plt.ylabel(\"Target\")"
      ]
    },
    {
      "cell_type": "markdown",
      "metadata": {
        "id": "URo6LpTwHigI"
      },
      "source": [
        "### Unsupervised Machine Learning\n",
        "\n",
        "- Unlabeled data, or data with unknown structure\n",
        "- Explore the structure of the data to extract information\n",
        "- Many types, we'll just discuss two."
      ]
    },
    {
      "cell_type": "markdown",
      "metadata": {
        "id": "o98kvJi9HigI"
      },
      "source": [
        "#### Clustering\n",
        "\n",
        "- Organize information into meaningful subgroups (clusters)\n",
        "- Objects in cluster share certain degree of similarity (and dissimilarity to other clusters)\n",
        "- Example: distinguish different types of customers"
      ]
    },
    {
      "cell_type": "code",
      "execution_count": null,
      "metadata": {
        "colab": {
          "base_uri": "https://localhost:8080/",
          "height": 764,
          "referenced_widgets": [
            "b8077cf5d6d04e02a00eefc07effe104",
            "4bc9d302dd4e414da74fcf008c30a8cf",
            "60a835e558d744c3acf97f734bb08788",
            "5ee6c68ff977460e9150acc6b1ad76c5",
            "7d78cab707314ce89e4e396993982148",
            "3e7744b330f14854b079201f2350ee66",
            "e03ba09433c84e3e9eceb65e9686e1a1"
          ]
        },
        "id": "c5-HD1EHHigI",
        "outputId": "b267015a-94f9-4370-910a-b68862de77ad",
        "tags": [
          "hide-input"
        ]
      },
      "outputs": [],
      "source": [
        "# Note: the most recent versions of numpy seem to cause problems for KMeans\n",
        "# Uninstalling and installing the latest version of threadpoolctl fixes this\n",
        "\n",
        "from sklearn.cluster import KMeans\n",
        "from sklearn.datasets import make_blobs\n",
        "\n",
        "nr_samples = 1500\n",
        "\n",
        "@interact\n",
        "def plot_clusters(randomize=(1,100,1)):\n",
        "    # Generate data\n",
        "    X, y = make_blobs(n_samples=nr_samples, cluster_std=[1.0, 1.5, 0.5], random_state=randomize)\n",
        "    # Cluster\n",
        "    y_pred = KMeans(n_clusters=3, random_state=randomize).fit_predict(X)\n",
        "    # PLot\n",
        "    plt.figure(figsize=(5*fig_scale, 5*fig_scale))\n",
        "    plt.scatter(X[:, 0], X[:, 1], c=y_pred)\n",
        "    plt.title(\"KMeans Clusters\")\n",
        "    plt.xlabel(\"Feature 0\")\n",
        "    plt.ylabel(\"Feature 1\")\n"
      ]
    },
    {
      "cell_type": "markdown",
      "metadata": {
        "id": "ZBzdqZ-bHigJ"
      },
      "source": [
        "### Reinforcement learning\n",
        "\n",
        "- Develop an agent that improves its performance based on interactions with the environment\n",
        "    - Example: games like Chess, Go,...\n",
        "- Search a (large) space of actions and states\n",
        "- _Reward function_ defines how well a (series of) actions works\n",
        "- Learn a series of actions (policy) that maximizes reward through exploration"
      ]
    },
    {
      "cell_type": "markdown",
      "metadata": {
        "id": "FQWoPQ9VHigJ"
      },
      "source": [
        "<img src=\"https://raw.githubusercontent.com/ML-course/master/master/notebooks/images/01_rl2.png\" alt=\"ml\" style=\"width: 50%;\"/>\n"
      ]
    },
    {
      "cell_type": "markdown",
      "metadata": {
        "id": "rAdh0zMeTOXY"
      },
      "source": [
        "Pandas is a powerful Python library that makes it easy to analyze data. It is especially useful for working with data stored in table formats such as .csv, .tsv, or .xlsx. With Pandas, you can easily load, process, and analyze data using SQL-like commands. When used in conjunction with Matplotlib and Seaborn, Pandas provides a wealth of opportunities for visualizing and analyzing tabular data.\n",
        "\n",
        "The core data structures in Pandas are Series and DataFrames. A Series is a one-dimensional indexed array of a single data type, while a DataFrame is a two-dimensional table where each column contains data of the same type. Think of a DataFrame as a collection of Series objects. DataFrames are ideal for representing real-world data, with each row representing an instance (such as an observation) and each column representing a feature of that instance."
      ]
    },
    {
      "cell_type": "code",
      "execution_count": null,
      "metadata": {
        "id": "wuDoXys4TPdf"
      },
      "outputs": [],
      "source": [
        "import numpy as np\n",
        "import pandas as pd\n",
        "\n",
        "pd.set_option(\"display.precision\", 2)"
      ]
    },
    {
      "cell_type": "markdown",
      "metadata": {
        "id": "T6u_j9y1Th3L"
      },
      "source": [
        "We demonstrate the main methods in action by analyzing a dataset on the churn rate of telecom operator clients. Let’s read the data (using the read_csv method), and take a look at the first 5 lines using the head method:"
      ]
    },
    {
      "cell_type": "code",
      "execution_count": null,
      "metadata": {
        "id": "aAAw3LKrTiqk"
      },
      "outputs": [],
      "source": [
        "# https://github.com/Yorko/mlcourse.ai repo\n",
        "DATA_URL = \"https://raw.githubusercontent.com/Yorko/mlcourse.ai/main/data/\""
      ]
    },
    {
      "cell_type": "code",
      "execution_count": null,
      "metadata": {
        "colab": {
          "base_uri": "https://localhost:8080/",
          "height": 241
        },
        "id": "VAzvublhTr6o",
        "outputId": "ab464d97-0ce5-45a2-88ee-1afa8d8bd6ab"
      },
      "outputs": [],
      "source": [
        "df = pd.read_csv(DATA_URL + \"telecom_churn.csv\")\n",
        "df.head()"
      ]
    },
    {
      "cell_type": "markdown",
      "metadata": {
        "id": "TlwvEHYjUKE6"
      },
      "source": [
        " In Jupyter notebooks, Pandas DataFrames are printed as these pretty tables seen above while print(df.head()) is less nicely formatted. By default, Pandas displays 20 columns and 60 rows, so, if your DataFrame is bigger, use the set_option function as shown in the example below:"
      ]
    },
    {
      "cell_type": "code",
      "execution_count": null,
      "metadata": {
        "id": "6BBsyPG-UKpJ"
      },
      "outputs": [],
      "source": [
        "pd.set_option('display.max_columns', 100)\n",
        "pd.set_option('display.max_rows', 100)"
      ]
    },
    {
      "cell_type": "markdown",
      "metadata": {
        "id": "RT6_ZA34Urok"
      },
      "source": [
        "Recall that each row corresponds to one client, an instance, and columns are features of this instance.\n",
        "\n",
        "Let’s have a look at data dimensionality, feature names, and feature types."
      ]
    },
    {
      "cell_type": "code",
      "execution_count": null,
      "metadata": {
        "colab": {
          "base_uri": "https://localhost:8080/"
        },
        "id": "zOFX1y-nUlDP",
        "outputId": "79200a56-7834-4d7b-9ccc-19b03e8f2377"
      },
      "outputs": [],
      "source": [
        "print(df.shape)"
      ]
    },
    {
      "cell_type": "markdown",
      "metadata": {
        "id": "xRe3v71TUwhd"
      },
      "source": [
        "Recall that each row corresponds to one client, an instance, and columns are features of this instance.\n",
        "\n",
        "Let’s have a look at data dimensionality, feature names, and feature types."
      ]
    },
    {
      "cell_type": "code",
      "execution_count": null,
      "metadata": {
        "colab": {
          "base_uri": "https://localhost:8080/"
        },
        "id": "rZWwN8oRUpCj",
        "outputId": "57779e2c-66d9-4912-f135-3e9309b1fd63"
      },
      "outputs": [],
      "source": [
        "print(df.columns)"
      ]
    },
    {
      "cell_type": "markdown",
      "metadata": {
        "id": "Bea-oqvOU8Fk"
      },
      "source": [
        "We can use the info() method to output some general information about the dataframe:"
      ]
    },
    {
      "cell_type": "code",
      "execution_count": null,
      "metadata": {
        "colab": {
          "base_uri": "https://localhost:8080/"
        },
        "id": "yBCRDO8RU5XM",
        "outputId": "1063f847-2463-4f34-f5c4-836e408b4df4"
      },
      "outputs": [],
      "source": [
        "print(df.info())"
      ]
    },
    {
      "cell_type": "markdown",
      "metadata": {
        "id": "XtN9YvG7VAOR"
      },
      "source": [
        "bool, int64, float64 and object are the data types of our features. We see that one feature is logical (bool), 3 features are of type object, and 16 features are numeric. With this same method, we can easily see if there are any missing values. Here, there are none because each column contains 3333 observations, the same number of rows we saw before with shape.\n",
        "\n",
        "We can change the column type with the astype method. Let’s apply this method to the Churn feature to convert it into int64:"
      ]
    },
    {
      "cell_type": "code",
      "execution_count": null,
      "metadata": {
        "colab": {
          "base_uri": "https://localhost:8080/",
          "height": 459
        },
        "id": "mhufArpgLRSs",
        "outputId": "9cb8da32-4608-4306-9461-138d066d1651"
      },
      "outputs": [],
      "source": [
        "df.isna()"
      ]
    },
    {
      "cell_type": "code",
      "execution_count": null,
      "metadata": {
        "id": "rY2VY-IfVAoJ"
      },
      "outputs": [],
      "source": [
        "df[\"Churn\"] = df[\"Churn\"].astype(\"int64\")"
      ]
    },
    {
      "cell_type": "code",
      "execution_count": null,
      "metadata": {
        "colab": {
          "base_uri": "https://localhost:8080/"
        },
        "id": "ElkyaW3KeW6b",
        "outputId": "65eca8d7-0210-48f7-8a64-69c56afd9788"
      },
      "outputs": [],
      "source": [
        "df[\"Voice mail plan\"].astype(\"bool\").value_counts()"
      ]
    },
    {
      "cell_type": "markdown",
      "metadata": {
        "id": "HGXDHm1SVEBv"
      },
      "source": [
        "The describe method shows basic statistical characteristics of each numerical feature (int64 and float64 types): number of non-missing values, mean, standard deviation, range, median, 0.25 and 0.75 quartiles."
      ]
    },
    {
      "cell_type": "code",
      "execution_count": null,
      "metadata": {
        "colab": {
          "base_uri": "https://localhost:8080/",
          "height": 335
        },
        "id": "6c50SzzNVF_Q",
        "outputId": "3ec9bf67-7e77-433f-b60f-ac6441958571"
      },
      "outputs": [],
      "source": [
        "df.describe()"
      ]
    },
    {
      "cell_type": "markdown",
      "metadata": {
        "id": "ui86fVrJVM8E"
      },
      "source": [
        "In order to see statistics on non-numerical features, one has to explicitly indicate data types of interest in the include parameter."
      ]
    },
    {
      "cell_type": "code",
      "execution_count": null,
      "metadata": {
        "colab": {
          "base_uri": "https://localhost:8080/",
          "height": 175
        },
        "id": "vzI1J-e0VKgu",
        "outputId": "b4c7bbbb-ef5e-4909-f27c-a0eeb1a9e1f6"
      },
      "outputs": [],
      "source": [
        "df.describe(include=[\"object\", \"bool\"])"
      ]
    },
    {
      "cell_type": "markdown",
      "metadata": {
        "id": "WUsHr3ptVYQG"
      },
      "source": [
        "For categorical (type object) and boolean (type bool) features we can use the value_counts method. Let’s take a look at the distribution of Churn:"
      ]
    },
    {
      "cell_type": "code",
      "execution_count": null,
      "metadata": {
        "colab": {
          "base_uri": "https://localhost:8080/"
        },
        "id": "WQj8McrKVXWZ",
        "outputId": "edb26213-c45b-469e-e140-21baf0ebda08"
      },
      "outputs": [],
      "source": [
        "df[\"Churn\"].value_counts()"
      ]
    },
    {
      "cell_type": "markdown",
      "metadata": {
        "id": "MGsmG_wYVb0w"
      },
      "source": [
        "2850 users out of 3333 are loyal; their Churn value is 0. To calculate fractions, pass normalize=True to the value_counts function."
      ]
    },
    {
      "cell_type": "code",
      "execution_count": null,
      "metadata": {
        "colab": {
          "base_uri": "https://localhost:8080/"
        },
        "id": "Q5IL3qWiWMMY",
        "outputId": "b2fe244c-625d-40d3-afe6-8788e09df7c1"
      },
      "outputs": [],
      "source": [
        "df[\"Churn\"].value_counts(normalize=True)"
      ]
    },
    {
      "cell_type": "markdown",
      "metadata": {
        "id": "g5ZPjTcbVwOo"
      },
      "source": [
        "\n",
        "### Sorting\n",
        "\n",
        "A `DataFrame` can be sorted by the value of one of the variables (i.e columns). For example, we can sort by *Total day charge* (use `ascending=False` to sort in descending order):\n"
      ]
    },
    {
      "cell_type": "code",
      "execution_count": null,
      "metadata": {
        "colab": {
          "base_uri": "https://localhost:8080/",
          "height": 241
        },
        "id": "Y8CZ_nPoVwOo",
        "outputId": "3cc6cd75-f74a-4907-97c5-b78419cbf734"
      },
      "outputs": [],
      "source": [
        "df.sort_values(by=\"Total day charge\", ascending=False).head()"
      ]
    },
    {
      "cell_type": "markdown",
      "metadata": {
        "id": "vqB_lToZVwOo"
      },
      "source": [
        "We can also sort by multiple columns:"
      ]
    },
    {
      "cell_type": "code",
      "execution_count": null,
      "metadata": {
        "colab": {
          "base_uri": "https://localhost:8080/",
          "height": 241
        },
        "id": "t8DEWJXPVwOo",
        "outputId": "811a01c0-8248-449e-b283-e3301a92f85f"
      },
      "outputs": [],
      "source": [
        "df.sort_values(by=[\"Churn\", \"Total day charge\"], ascending=[True, False]).head()"
      ]
    },
    {
      "cell_type": "markdown",
      "metadata": {
        "id": "--hICAMkVwOo"
      },
      "source": [
        "\n",
        "### Indexing and retrieving data\n",
        "\n",
        "A `DataFrame` can be indexed in a few different ways.\n",
        "\n",
        "To get a single column, you can use a `DataFrame['Name']` construction. Let's use this to answer a question about that column alone: **what is the proportion of churned users in our dataframe?**\n",
        "\n"
      ]
    },
    {
      "cell_type": "code",
      "execution_count": null,
      "metadata": {
        "colab": {
          "base_uri": "https://localhost:8080/"
        },
        "id": "mUyl5gccVwOp",
        "outputId": "47b6bacc-9bf5-4a31-ed2c-e74a8a59df69"
      },
      "outputs": [],
      "source": [
        "df[\"Churn\"].mean()"
      ]
    },
    {
      "cell_type": "markdown",
      "metadata": {
        "id": "DbDUiy89VwOp"
      },
      "source": [
        "\n",
        "14.5% is actually quite bad for a company; such a churn rate can make the company go bankrupt.\n",
        "\n",
        "**Boolean indexing** with one column is also very convenient. The syntax is `df[P(df['Name'])]`, where `P` is some logical condition that is checked for each element of the `Name` column. The result of such indexing is the `DataFrame` consisting only of rows that satisfy the `P` condition on the `Name` column.\n",
        "\n",
        "Let's use it to answer the question:\n",
        "\n",
        "**What are average values of numerical features for churned users?**\n"
      ]
    },
    {
      "cell_type": "code",
      "execution_count": null,
      "metadata": {
        "colab": {
          "base_uri": "https://localhost:8080/"
        },
        "id": "7csacslEVwOp",
        "outputId": "c7fafbaa-36e7-491e-f60f-c06e97297eaf"
      },
      "outputs": [],
      "source": [
        "df[df[\"Churn\"] == 1].mean()"
      ]
    },
    {
      "cell_type": "code",
      "execution_count": null,
      "metadata": {
        "colab": {
          "base_uri": "https://localhost:8080/"
        },
        "id": "X54b6HBPf-Gg",
        "outputId": "0a1796c2-1321-45ac-ab70-1404c147c372"
      },
      "outputs": [],
      "source": [
        "df[df[\"Churn\"] == 0].mean()"
      ]
    },
    {
      "cell_type": "markdown",
      "metadata": {
        "id": "GLDs6UiTVwOp"
      },
      "source": [
        "**How much time (on average) do churned users spend on the phone during daytime?**"
      ]
    },
    {
      "cell_type": "code",
      "execution_count": null,
      "metadata": {
        "id": "ZRhw3ls-VwOp"
      },
      "outputs": [],
      "source": [
        "df[df[\"Churn\"] == 1][\"Total day minutes\"].mean()"
      ]
    },
    {
      "cell_type": "markdown",
      "metadata": {
        "id": "vcvVcSOrVwOp"
      },
      "source": [
        "\n",
        "**What is the maximum length of international calls among loyal users (`Churn == 0`) who do not have an international plan?**\n",
        "\n"
      ]
    },
    {
      "cell_type": "code",
      "execution_count": null,
      "metadata": {
        "id": "X0DCIlvQVwOp"
      },
      "outputs": [],
      "source": [
        "df[(df[\"Churn\"] == 0) & (df[\"International plan\"] == \"No\")][\"Total intl minutes\"].max()"
      ]
    },
    {
      "cell_type": "markdown",
      "metadata": {
        "id": "Oq2mX9qLVwOp"
      },
      "source": [
        "\n",
        "DataFrames can be indexed by column name (label) or row name (index) or by the serial number of a row. The `loc` method is used for **indexing by name**, while `iloc()` is used for **indexing by number**.\n",
        "\n",
        "In the first case below, we say *\"give us the values of the rows with index from 0 to 5 (inclusive) and columns labeled from State to Area code (inclusive)\"*. In the second case, we say *\"give us the values of the first five rows in the first three columns\"* (as in a typical Python slice: the maximal value is not included).\n"
      ]
    },
    {
      "cell_type": "code",
      "execution_count": null,
      "metadata": {
        "colab": {
          "base_uri": "https://localhost:8080/",
          "height": 238
        },
        "id": "Bfvt6nL0VwOp",
        "outputId": "637ec9c7-dec9-4f92-c5bd-276202aafe7c"
      },
      "outputs": [],
      "source": [
        "df.loc[0:5, \"State\":\"Area code\"]"
      ]
    },
    {
      "cell_type": "code",
      "execution_count": null,
      "metadata": {
        "colab": {
          "base_uri": "https://localhost:8080/",
          "height": 206
        },
        "id": "lQtM5yeEVwOp",
        "outputId": "17099bf4-b061-419d-a313-58d8bbed071f"
      },
      "outputs": [],
      "source": [
        "df.iloc[0:5, 0:3]"
      ]
    },
    {
      "cell_type": "markdown",
      "metadata": {
        "id": "CgovqG1oVwOq"
      },
      "source": [
        "If we need the first or the last line of the data frame, we can use the `df[:1]` or `df[-1:]` construction:"
      ]
    },
    {
      "cell_type": "code",
      "execution_count": null,
      "metadata": {
        "colab": {
          "base_uri": "https://localhost:8080/",
          "height": 115
        },
        "id": "vCu-UVzyVwOq",
        "outputId": "1aebb77e-91b0-4c42-9817-4b555dfadeda"
      },
      "outputs": [],
      "source": [
        "df[-1:]"
      ]
    },
    {
      "cell_type": "code",
      "execution_count": null,
      "metadata": {
        "colab": {
          "base_uri": "https://localhost:8080/",
          "height": 115
        },
        "id": "X_wlbALQhD5f",
        "outputId": "8642875b-c23f-468c-bedf-8e700d56d947"
      },
      "outputs": [],
      "source": [
        "df[:1]"
      ]
    },
    {
      "cell_type": "markdown",
      "metadata": {
        "id": "S6748VOtVwOq"
      },
      "source": [
        "\n",
        "### Applying Functions to Cells, Columns and Rows\n",
        "\n",
        "**To apply functions to each column, use `apply()`:**\n"
      ]
    },
    {
      "cell_type": "code",
      "execution_count": null,
      "metadata": {
        "colab": {
          "base_uri": "https://localhost:8080/"
        },
        "id": "Z-OVZm7sVwOq",
        "outputId": "f0763242-f262-405e-8bef-52b6f58c4649"
      },
      "outputs": [],
      "source": [
        "df.apply(np.max)"
      ]
    },
    {
      "cell_type": "markdown",
      "metadata": {
        "id": "5DBLXMrUVwOq"
      },
      "source": [
        "The `apply` method can also be used to apply a function to each row. To do this, specify `axis=1`. Lambda functions are very convenient in such scenarios. For example, if we need to select all states starting with 'W', we can do it like this:"
      ]
    },
    {
      "cell_type": "code",
      "execution_count": null,
      "metadata": {
        "colab": {
          "base_uri": "https://localhost:8080/",
          "height": 241
        },
        "id": "05JXSm9dVwOq",
        "outputId": "ca2c987f-65e3-45a7-c944-a6aa26f2fd14"
      },
      "outputs": [],
      "source": [
        "df[df[\"State\"].apply(lambda state: state[0] == \"W\")].head()"
      ]
    },
    {
      "cell_type": "markdown",
      "metadata": {
        "id": "sLSFJ9HXVwOr"
      },
      "source": [
        "The `map` method can be used to **replace values in a column** by passing a dictionary of the form `{old_value: new_value}` as its argument:"
      ]
    },
    {
      "cell_type": "code",
      "execution_count": null,
      "metadata": {
        "colab": {
          "base_uri": "https://localhost:8080/",
          "height": 241
        },
        "id": "UfMxyuHVVwOr",
        "outputId": "26d40f53-3d0c-4a5e-d58e-650854730247"
      },
      "outputs": [],
      "source": [
        "d = {\"No\": False, \"Yes\": True}\n",
        "df[\"International plan\"] = df[\"International plan\"].map(d)\n",
        "df.head()"
      ]
    },
    {
      "cell_type": "markdown",
      "metadata": {
        "id": "uNbNgyMfVwOr"
      },
      "source": [
        "Almost the same thing can be done with the `replace` method.\n",
        "\n",
        "<details>\n",
        "<summary>Difference in treating values that are absent in the mapping dictionary</summary>\n",
        "<p>\n",
        "There's a slight difference. `replace` method will not do anything with values not found in the mapping dictionary, while `map` will change them to NaNs).\n",
        "\n",
        "```python\n",
        "a_series = pd.Series(['a', 'b', 'c'])\n",
        "a_series.replace({'a': 1, 'b': 2})     # 1, 2, c\n",
        "a_series.map({'a': 1, 'b': 2})     # 1, 2, NaN\n",
        "```\n",
        "</p>\n",
        "</details>\n",
        "\n"
      ]
    },
    {
      "cell_type": "code",
      "execution_count": null,
      "metadata": {
        "id": "or9HxNAGVwOr"
      },
      "outputs": [],
      "source": [
        "df = df.replace({\"Voice mail plan\": d})\n",
        "df.head()"
      ]
    },
    {
      "cell_type": "markdown",
      "metadata": {
        "id": "38sMRkMDVwOr"
      },
      "source": [
        "\n",
        "### Grouping\n",
        "\n",
        "In general, grouping data in Pandas works as follows:\n"
      ]
    },
    {
      "cell_type": "markdown",
      "metadata": {
        "id": "L3Tvz4u3VwOr"
      },
      "source": [
        "\n",
        "```python\n",
        "df.groupby(by=grouping_columns)[columns_to_show].function()\n",
        "```"
      ]
    },
    {
      "cell_type": "markdown",
      "metadata": {
        "id": "eai50P5YVwOr"
      },
      "source": [
        "\n",
        "1. First, the `groupby` method divides the `grouping_columns` by their values. They become a new index in the resulting dataframe.\n",
        "2. Then, columns of interest are selected (`columns_to_show`). If `columns_to_show` is not included, all non groupby clauses will be included.\n",
        "3. Finally, one or several functions are applied to the obtained groups per selected columns.\n",
        "\n",
        "Here is an example where we group the data according to the values of the `Churn` variable and display statistics of three columns in each group:"
      ]
    },
    {
      "cell_type": "code",
      "execution_count": null,
      "metadata": {
        "colab": {
          "base_uri": "https://localhost:8080/",
          "height": 175
        },
        "id": "RoDCCr87VwOr",
        "outputId": "3ff387b1-2f62-489f-8a98-1ba78de4457b"
      },
      "outputs": [],
      "source": [
        "columns_to_show = [\"Total day minutes\", \"Total eve minutes\", \"Total night minutes\"]\n",
        "\n",
        "df.groupby([\"Churn\"])[columns_to_show].describe(percentiles=[])"
      ]
    },
    {
      "cell_type": "code",
      "execution_count": null,
      "metadata": {
        "colab": {
          "base_uri": "https://localhost:8080/"
        },
        "id": "EfUve5CZiyd0",
        "outputId": "61e266b1-604d-454b-8f9c-3f370ed60f85"
      },
      "outputs": [],
      "source": [
        "df.groupby([\"Churn\"])[columns_to_show]"
      ]
    },
    {
      "cell_type": "markdown",
      "metadata": {
        "id": "gbhFqYBFVwOr"
      },
      "source": [
        "Let’s do the same thing, but slightly differently by passing a list of functions to `agg()`:"
      ]
    },
    {
      "cell_type": "code",
      "execution_count": null,
      "metadata": {
        "colab": {
          "base_uri": "https://localhost:8080/",
          "height": 175
        },
        "id": "3tmrhYYRVwOr",
        "outputId": "afab8b1f-f95b-437c-fb43-d31a8b24ccbb"
      },
      "outputs": [],
      "source": [
        "columns_to_show = [\"Total day minutes\", \"Total eve minutes\", \"Total night minutes\"]\n",
        "\n",
        "df.groupby([\"Churn\"])[columns_to_show].agg([np.mean, np.std, np.min, np.max])"
      ]
    },
    {
      "cell_type": "markdown",
      "metadata": {
        "id": "yht_TJg8VwOr"
      },
      "source": [
        "\n",
        "### Summary tables\n",
        "\n",
        "Suppose we want to see how the observations in our dataset are distributed in the context of two variables - `Churn` and `International plan`. To do so, we can build a **contingency table** using the `crosstab` method:\n",
        "\n"
      ]
    },
    {
      "cell_type": "code",
      "execution_count": null,
      "metadata": {
        "colab": {
          "base_uri": "https://localhost:8080/",
          "height": 143
        },
        "id": "EGlmR4kcVwOr",
        "outputId": "f5c39ed8-b499-4a89-f44d-16b8df33a921"
      },
      "outputs": [],
      "source": [
        "pd.crosstab(df[\"Churn\"], df[\"International plan\"])"
      ]
    },
    {
      "cell_type": "code",
      "execution_count": null,
      "metadata": {
        "colab": {
          "base_uri": "https://localhost:8080/",
          "height": 143
        },
        "id": "Wmb3upaOVwOs",
        "outputId": "3f4d92fb-2baa-4afb-e92a-43f3e658e46c"
      },
      "outputs": [],
      "source": [
        "pd.crosstab(df[\"Churn\"], df[\"Voice mail plan\"], normalize=True)"
      ]
    },
    {
      "cell_type": "markdown",
      "metadata": {
        "id": "nHX7A1ElVwOs"
      },
      "source": [
        "We can see that most of the users are loyal and do not use additional services (International Plan/Voice mail).\n",
        "\n",
        "This will resemble **pivot tables** to those familiar with Excel. And, of course, pivot tables are implemented in Pandas: the `pivot_table` method takes the following parameters:\n",
        "\n",
        "* `values` – a list of variables to calculate statistics for,\n",
        "* `index` – a list of variables to group data by,\n",
        "* `aggfunc` – what statistics we need to calculate for groups, ex. sum, mean, maximum, minimum or something else.\n",
        "\n",
        "Let’s take a look at the average number of day, evening, and night calls by area code:"
      ]
    },
    {
      "cell_type": "code",
      "execution_count": null,
      "metadata": {
        "colab": {
          "base_uri": "https://localhost:8080/",
          "height": 175
        },
        "id": "wy6cVaTXVwOs",
        "outputId": "072e3dda-832a-4dd0-a8be-69c2f0470fe5"
      },
      "outputs": [],
      "source": [
        "df.pivot_table(\n",
        "    [\"Total day calls\", \"Total eve calls\", \"Total night calls\"],\n",
        "    [\"Area code\"],\n",
        "    aggfunc=\"mean\",\n",
        ")"
      ]
    },
    {
      "cell_type": "markdown",
      "metadata": {
        "id": "daX9zAu9VwOs"
      },
      "source": [
        "\n",
        "### DataFrame transformations\n",
        "\n",
        "Like many other things in Pandas, adding columns to a DataFrame is doable in many ways.\n",
        "\n",
        "For example, if we want to calculate the total number of calls for all users, let’s create the `total_calls` Series and paste it into the DataFrame:\n",
        "\n"
      ]
    },
    {
      "cell_type": "code",
      "execution_count": null,
      "metadata": {
        "colab": {
          "base_uri": "https://localhost:8080/",
          "height": 369
        },
        "id": "ochtdsUTVwOs",
        "outputId": "376b6914-55ed-4552-c1c7-7be84d429ca4"
      },
      "outputs": [],
      "source": [
        "total_calls = (\n",
        "    df[\"Total day calls\"]\n",
        "    + df[\"Total eve calls\"]\n",
        "    + df[\"Total night calls\"]\n",
        "    + df[\"Total intl calls\"]\n",
        ")\n",
        "df.insert(loc=len(df.columns), column=\"Total calls\", value=total_calls)\n",
        "# loc parameter is the number of columns after which to insert the Series object\n",
        "# we set it to len(df.columns) to paste it at the very end of the dataframe\n",
        "df.head()"
      ]
    },
    {
      "cell_type": "markdown",
      "metadata": {
        "id": "vnPnk50OVwOt"
      },
      "source": [
        "It is possible to add a column more easily without creating an intermediate Series instance:"
      ]
    },
    {
      "cell_type": "code",
      "execution_count": null,
      "metadata": {
        "id": "M1mBfSZ_VwOt"
      },
      "outputs": [],
      "source": [
        "df[\"Total charge\"] = (\n",
        "    df[\"Total day charge\"]\n",
        "    + df[\"Total eve charge\"]\n",
        "    + df[\"Total night charge\"]\n",
        "    + df[\"Total intl charge\"]\n",
        ")\n",
        "df.head()"
      ]
    },
    {
      "cell_type": "markdown",
      "metadata": {
        "id": "ixkNdNi9VwOt"
      },
      "source": [
        "To delete columns or rows, use the `drop` method, passing the required indexes and the `axis` parameter (`1` if you delete columns, and nothing or `0` if you delete rows). The `inplace` argument tells whether to change the original DataFrame. With `inplace=False`, the `drop` method doesn't change the existing DataFrame and returns a new one with dropped rows or columns. With `inplace=True`, it alters the DataFrame."
      ]
    },
    {
      "cell_type": "code",
      "execution_count": null,
      "metadata": {
        "colab": {
          "base_uri": "https://localhost:8080/",
          "height": 376
        },
        "id": "bVyJU3cEVwOt",
        "outputId": "e4a94aad-beec-4dfa-e260-2e4c76078f72"
      },
      "outputs": [],
      "source": [
        "# get rid of just created columns\n",
        "df.drop([\"Total charge\", \"Total calls\"], axis=1, inplace=True)\n",
        "# and here’s how you can delete rows\n",
        "df.drop([1, 2]).head()"
      ]
    },
    {
      "cell_type": "code",
      "execution_count": null,
      "metadata": {
        "id": "HxCIP_dRkB-N"
      },
      "outputs": [],
      "source": [
        "df = df.drop([\"Total charge\", \"Total calls\"], axis=1)\n"
      ]
    },
    {
      "cell_type": "markdown",
      "metadata": {
        "id": "fr5mjIZfVwOt"
      },
      "source": [
        "## 2. First attempt at predicting telecom churn\n",
        "\n",
        "\n",
        "Let's see how churn rate is related to the *International plan* feature. We’ll do this using a `crosstab` contingency table and also through visual analysis with `Seaborn`.\n"
      ]
    },
    {
      "cell_type": "code",
      "execution_count": null,
      "metadata": {
        "colab": {
          "base_uri": "https://localhost:8080/",
          "height": 175
        },
        "id": "cz5ZWbjIVwOt",
        "outputId": "201ca666-97ad-4eca-8be7-a9750322a535"
      },
      "outputs": [],
      "source": [
        "pd.crosstab(df[\"Churn\"], df[\"International plan\"], margins=True)"
      ]
    },
    {
      "cell_type": "code",
      "execution_count": null,
      "metadata": {
        "id": "Ngct2GyWVwOu"
      },
      "outputs": [],
      "source": [
        "# some imports to set up plotting\n",
        "import matplotlib.pyplot as plt\n",
        "# !pip install seaborn\n",
        "import seaborn as sns\n",
        "\n",
        "# import some nice vis settings\n",
        "sns.set()\n",
        "# Graphics in the Retina format are more sharp and legible\n",
        "%config InlineBackend.figure_format = 'retina'"
      ]
    },
    {
      "cell_type": "code",
      "execution_count": null,
      "metadata": {
        "colab": {
          "base_uri": "https://localhost:8080/",
          "height": 456
        },
        "id": "1Jz1gZCUVwOu",
        "outputId": "701e002b-6c34-4786-e1db-606c91b9eba4"
      },
      "outputs": [],
      "source": [
        "sns.countplot(x=\"International plan\", hue=\"Churn\", data=df);"
      ]
    },
    {
      "cell_type": "markdown",
      "metadata": {
        "id": "ndQFVMRoVwOu"
      },
      "source": [
        "\n",
        "We see that, with *International Plan*, the churn rate is much higher, which is an interesting observation! Perhaps large and poorly controlled expenses with international calls are very conflict-prone and lead to dissatisfaction among the telecom operator's customers.\n",
        "\n",
        "Next, let’s look at another important feature – *Customer service calls*. Let’s also make a summary table and a picture."
      ]
    },
    {
      "cell_type": "code",
      "execution_count": null,
      "metadata": {
        "colab": {
          "base_uri": "https://localhost:8080/",
          "height": 175
        },
        "id": "dLr8bPXDVwOu",
        "outputId": "62907341-8e71-490a-fbec-f9ab14bd03b8"
      },
      "outputs": [],
      "source": [
        "pd.crosstab(df[\"Churn\"], df[\"Customer service calls\"], margins=True)"
      ]
    },
    {
      "cell_type": "code",
      "execution_count": null,
      "metadata": {
        "colab": {
          "base_uri": "https://localhost:8080/",
          "height": 456
        },
        "id": "X8DNqgYMVwOu",
        "outputId": "5863bc22-ad6e-4948-d1d3-4eff9c2f3ea2"
      },
      "outputs": [],
      "source": [
        "sns.countplot(x=\"Customer service calls\", hue=\"Churn\", data=df);"
      ]
    },
    {
      "cell_type": "markdown",
      "metadata": {
        "id": "dwRmO0HwVwOu"
      },
      "source": [
        "Although it's not so obvious from the summary table, it's easy to see from the above plot that the churn rate increases sharply from 4 customer service calls and above.\n",
        "\n",
        "Now let's add a binary feature to our DataFrame – `Customer service calls > 3`. And once again, let's see how it relates to churn."
      ]
    },
    {
      "cell_type": "code",
      "execution_count": null,
      "metadata": {
        "colab": {
          "base_uri": "https://localhost:8080/",
          "height": 175
        },
        "id": "NWtIYMcUVwOu",
        "outputId": "a6ccc67c-4d69-4aab-a975-e6dc8a6434dd"
      },
      "outputs": [],
      "source": [
        "df[\"Many_service_calls\"] = (df[\"Customer service calls\"] > 3).astype(\"int\")\n",
        "\n",
        "pd.crosstab(df[\"Many_service_calls\"], df[\"Churn\"], margins=True)"
      ]
    },
    {
      "cell_type": "code",
      "execution_count": null,
      "metadata": {
        "colab": {
          "base_uri": "https://localhost:8080/",
          "height": 456
        },
        "id": "1ZI9NfbwVwOu",
        "outputId": "1b5dc0b7-3f76-404a-ee7a-0c28113e5ff9"
      },
      "outputs": [],
      "source": [
        "sns.countplot(x=\"Many_service_calls\", hue=\"Churn\", data=df);"
      ]
    },
    {
      "cell_type": "markdown",
      "metadata": {
        "id": "axa0XUBnVwOu"
      },
      "source": [
        "\n",
        "Let’s construct another contingency table that relates *Churn* with both *International plan* and freshly created *Many_service_calls*.\n",
        "\n"
      ]
    },
    {
      "cell_type": "code",
      "execution_count": null,
      "metadata": {
        "colab": {
          "base_uri": "https://localhost:8080/",
          "height": 143
        },
        "id": "aRl4UBlIVwOv",
        "outputId": "cd7d93a6-0212-4e64-a8ee-ec6293522717"
      },
      "outputs": [],
      "source": [
        "pd.crosstab(df[\"Many_service_calls\"] & df[\"International plan\"], df[\"Churn\"])"
      ]
    },
    {
      "cell_type": "markdown",
      "metadata": {
        "id": "ySRsIIbslfWc"
      },
      "source": [
        "Churn 0 We predict 1 - False positive(9)\n",
        "\n",
        "Churn 1 We predict 0 - False negative(464)\n"
      ]
    },
    {
      "cell_type": "markdown",
      "metadata": {
        "id": "GkQewVjYVwOw"
      },
      "source": [
        "Therefore, predicting that a customer is not loyal (*Churn*=1) in the case when the number of calls to the service center is greater than 3 and the *International Plan* is added (and predicting *Churn*=0 otherwise), we might expect an accuracy of 85.8% (we are mistaken only 464 + 9 times). This number, 85.8%, that we got through this very simple reasoning serves as a good starting point (*baseline*) for the further machine learning models that we will build.\n",
        "\n",
        "As we move on through this course, recall that, before the advent of machine learning, the data analysis process looked something like this. Let's recap what we've covered:\n",
        "    \n",
        "- The share of loyal clients in the dataset is 85.5%. The most naive model that always predicts a \"loyal customer\" on such data will guess right in about 85.5% of all cases. That is, the proportion of correct answers (*accuracy*) of subsequent models should be no less than this number, and will hopefully be significantly higher;\n",
        "- With the help of a simple prediction that can be expressed by the following formula: `International plan = True & Customer Service calls > 3 => Churn = 1, else Churn = 0`, we can expect a guessing rate of 85.8%, which is just above 85.5%. Subsequently, we'll talk about decision trees and figure out how to find such rules **automatically** based only on the input data;\n",
        "- We got these two baselines without applying machine learning, and they’ll serve as the starting point for our subsequent models. If it turns out that with enormous effort, we increase accuracy by only 0.5%, persay, then possibly we are doing something wrong, and it suffices to confine ourselves to a simple \"if-else\" model with two conditions;\n",
        "- Before training complex models, it is recommended to wrangle the data a bit, make some plots, and check simple assumptions. Moreover, in business applications of machine learning, they usually start with simple solutions and then experiment with more complex ones.\n",
        "\n"
      ]
    },
    {
      "cell_type": "markdown",
      "metadata": {
        "id": "vOENEd10mHvU"
      },
      "source": [
        "Thank you!"
      ]
    }
  ],
  "metadata": {
    "anaconda-cloud": {},
    "celltoolbar": "Slideshow",
    "colab": {
      "provenance": []
    },
    "hide_input": false,
    "kernelspec": {
      "display_name": "Python 3 (ipykernel)",
      "language": "python",
      "name": "python3"
    },
    "language_info": {
      "codemirror_mode": {
        "name": "ipython",
        "version": 3
      },
      "file_extension": ".py",
      "mimetype": "text/x-python",
      "name": "python",
      "nbconvert_exporter": "python",
      "pygments_lexer": "ipython3",
      "version": "3.10.12"
    },
    "latex_metadata": {
      "author": "Joaquin Vanschoren",
      "title": "Introduction"
    },
    "widgets": {
      "application/vnd.jupyter.widget-state+json": {
        "333e35f6983b44deb1d7fe7a114bf94a": {
          "model_module": "@jupyter-widgets/base",
          "model_module_version": "1.2.0",
          "model_name": "LayoutModel",
          "state": {
            "_model_module": "@jupyter-widgets/base",
            "_model_module_version": "1.2.0",
            "_model_name": "LayoutModel",
            "_view_count": null,
            "_view_module": "@jupyter-widgets/base",
            "_view_module_version": "1.2.0",
            "_view_name": "LayoutView",
            "align_content": null,
            "align_items": null,
            "align_self": null,
            "border": null,
            "bottom": null,
            "display": null,
            "flex": null,
            "flex_flow": null,
            "grid_area": null,
            "grid_auto_columns": null,
            "grid_auto_flow": null,
            "grid_auto_rows": null,
            "grid_column": null,
            "grid_gap": null,
            "grid_row": null,
            "grid_template_areas": null,
            "grid_template_columns": null,
            "grid_template_rows": null,
            "height": null,
            "justify_content": null,
            "justify_items": null,
            "left": null,
            "margin": null,
            "max_height": null,
            "max_width": null,
            "min_height": null,
            "min_width": null,
            "object_fit": null,
            "object_position": null,
            "order": null,
            "overflow": null,
            "overflow_x": null,
            "overflow_y": null,
            "padding": null,
            "right": null,
            "top": null,
            "visibility": null,
            "width": null
          }
        },
        "3e7744b330f14854b079201f2350ee66": {
          "model_module": "@jupyter-widgets/controls",
          "model_module_version": "1.5.0",
          "model_name": "SliderStyleModel",
          "state": {
            "_model_module": "@jupyter-widgets/controls",
            "_model_module_version": "1.5.0",
            "_model_name": "SliderStyleModel",
            "_view_count": null,
            "_view_module": "@jupyter-widgets/base",
            "_view_module_version": "1.2.0",
            "_view_name": "StyleView",
            "description_width": "",
            "handle_color": null
          }
        },
        "4bc9d302dd4e414da74fcf008c30a8cf": {
          "model_module": "@jupyter-widgets/controls",
          "model_module_version": "1.5.0",
          "model_name": "IntSliderModel",
          "state": {
            "_dom_classes": [],
            "_model_module": "@jupyter-widgets/controls",
            "_model_module_version": "1.5.0",
            "_model_name": "IntSliderModel",
            "_view_count": null,
            "_view_module": "@jupyter-widgets/controls",
            "_view_module_version": "1.5.0",
            "_view_name": "IntSliderView",
            "continuous_update": true,
            "description": "randomize",
            "description_tooltip": null,
            "disabled": false,
            "layout": "IPY_MODEL_7d78cab707314ce89e4e396993982148",
            "max": 100,
            "min": 1,
            "orientation": "horizontal",
            "readout": true,
            "readout_format": "d",
            "step": 1,
            "style": "IPY_MODEL_3e7744b330f14854b079201f2350ee66",
            "value": 50
          }
        },
        "5ee6c68ff977460e9150acc6b1ad76c5": {
          "model_module": "@jupyter-widgets/base",
          "model_module_version": "1.2.0",
          "model_name": "LayoutModel",
          "state": {
            "_model_module": "@jupyter-widgets/base",
            "_model_module_version": "1.2.0",
            "_model_name": "LayoutModel",
            "_view_count": null,
            "_view_module": "@jupyter-widgets/base",
            "_view_module_version": "1.2.0",
            "_view_name": "LayoutView",
            "align_content": null,
            "align_items": null,
            "align_self": null,
            "border": null,
            "bottom": null,
            "display": null,
            "flex": null,
            "flex_flow": null,
            "grid_area": null,
            "grid_auto_columns": null,
            "grid_auto_flow": null,
            "grid_auto_rows": null,
            "grid_column": null,
            "grid_gap": null,
            "grid_row": null,
            "grid_template_areas": null,
            "grid_template_columns": null,
            "grid_template_rows": null,
            "height": null,
            "justify_content": null,
            "justify_items": null,
            "left": null,
            "margin": null,
            "max_height": null,
            "max_width": null,
            "min_height": null,
            "min_width": null,
            "object_fit": null,
            "object_position": null,
            "order": null,
            "overflow": null,
            "overflow_x": null,
            "overflow_y": null,
            "padding": null,
            "right": null,
            "top": null,
            "visibility": null,
            "width": null
          }
        },
        "60a835e558d744c3acf97f734bb08788": {
          "model_module": "@jupyter-widgets/output",
          "model_module_version": "1.0.0",
          "model_name": "OutputModel",
          "state": {
            "_dom_classes": [],
            "_model_module": "@jupyter-widgets/output",
            "_model_module_version": "1.0.0",
            "_model_name": "OutputModel",
            "_view_count": null,
            "_view_module": "@jupyter-widgets/output",
            "_view_module_version": "1.0.0",
            "_view_name": "OutputView",
            "layout": "IPY_MODEL_e03ba09433c84e3e9eceb65e9686e1a1",
            "msg_id": "",
            "outputs": [
              {
                "name": "stderr",
                "output_type": "stream",
                "text": [
                  "/usr/local/lib/python3.10/dist-packages/sklearn/cluster/_kmeans.py:870: FutureWarning: The default value of `n_init` will change from 10 to 'auto' in 1.4. Set the value of `n_init` explicitly to suppress the warning\n",
                  "  warnings.warn(\n"
                ]
              }
            ]
          }
        },
        "60c681bf491b4a38986eacd82ed473a0": {
          "model_module": "@jupyter-widgets/controls",
          "model_module_version": "1.5.0",
          "model_name": "VBoxModel",
          "state": {
            "_dom_classes": [
              "widget-interact"
            ],
            "_model_module": "@jupyter-widgets/controls",
            "_model_module_version": "1.5.0",
            "_model_name": "VBoxModel",
            "_view_count": null,
            "_view_module": "@jupyter-widgets/controls",
            "_view_module_version": "1.5.0",
            "_view_name": "VBoxView",
            "box_style": "",
            "children": [
              "IPY_MODEL_a315fa36df5e4bff88542b7342b25f13",
              "IPY_MODEL_93b8c5e0a65a4621b5ed1c212773a568"
            ],
            "layout": "IPY_MODEL_ae81801270b84135900c901e5980cebd"
          }
        },
        "6f203da87b2f4562adb47c21240d1eba": {
          "model_module": "@jupyter-widgets/controls",
          "model_module_version": "1.5.0",
          "model_name": "DropdownModel",
          "state": {
            "_dom_classes": [],
            "_model_module": "@jupyter-widgets/controls",
            "_model_module_version": "1.5.0",
            "_model_name": "DropdownModel",
            "_options_labels": [
              "LinearRegression()",
              "BayesianRidge()",
              "GaussianProcessRegressor(alpha=0.1, kernel=RBF(length_scale=10),\n                         n_restarts_optimizer=9, normalize_y=True)"
            ],
            "_view_count": null,
            "_view_module": "@jupyter-widgets/controls",
            "_view_module_version": "1.5.0",
            "_view_name": "DropdownView",
            "description": "regressor",
            "description_tooltip": null,
            "disabled": false,
            "index": 2,
            "layout": "IPY_MODEL_b966a870fee54b0d8fe83a743d2d9617",
            "style": "IPY_MODEL_a55be11361c24243a21d3736fdcc1ad5"
          }
        },
        "6f32a907286143b7a48372a814f8a4d2": {
          "model_module": "@jupyter-widgets/base",
          "model_module_version": "1.2.0",
          "model_name": "LayoutModel",
          "state": {
            "_model_module": "@jupyter-widgets/base",
            "_model_module_version": "1.2.0",
            "_model_name": "LayoutModel",
            "_view_count": null,
            "_view_module": "@jupyter-widgets/base",
            "_view_module_version": "1.2.0",
            "_view_name": "LayoutView",
            "align_content": null,
            "align_items": null,
            "align_self": null,
            "border": null,
            "bottom": null,
            "display": null,
            "flex": null,
            "flex_flow": null,
            "grid_area": null,
            "grid_auto_columns": null,
            "grid_auto_flow": null,
            "grid_auto_rows": null,
            "grid_column": null,
            "grid_gap": null,
            "grid_row": null,
            "grid_template_areas": null,
            "grid_template_columns": null,
            "grid_template_rows": null,
            "height": null,
            "justify_content": null,
            "justify_items": null,
            "left": null,
            "margin": null,
            "max_height": null,
            "max_width": null,
            "min_height": null,
            "min_width": null,
            "object_fit": null,
            "object_position": null,
            "order": null,
            "overflow": null,
            "overflow_x": null,
            "overflow_y": null,
            "padding": null,
            "right": null,
            "top": null,
            "visibility": null,
            "width": null
          }
        },
        "790c3ad24952498783dd679218f20a17": {
          "model_module": "@jupyter-widgets/output",
          "model_module_version": "1.0.0",
          "model_name": "OutputModel",
          "state": {
            "_dom_classes": [],
            "_model_module": "@jupyter-widgets/output",
            "_model_module_version": "1.0.0",
            "_model_name": "OutputModel",
            "_view_count": null,
            "_view_module": "@jupyter-widgets/output",
            "_view_module_version": "1.0.0",
            "_view_name": "OutputView",
            "layout": "IPY_MODEL_8a70c705c11c42f0b317f537b59a98d3",
            "msg_id": "",
            "outputs": []
          }
        },
        "7d78cab707314ce89e4e396993982148": {
          "model_module": "@jupyter-widgets/base",
          "model_module_version": "1.2.0",
          "model_name": "LayoutModel",
          "state": {
            "_model_module": "@jupyter-widgets/base",
            "_model_module_version": "1.2.0",
            "_model_name": "LayoutModel",
            "_view_count": null,
            "_view_module": "@jupyter-widgets/base",
            "_view_module_version": "1.2.0",
            "_view_name": "LayoutView",
            "align_content": null,
            "align_items": null,
            "align_self": null,
            "border": null,
            "bottom": null,
            "display": null,
            "flex": null,
            "flex_flow": null,
            "grid_area": null,
            "grid_auto_columns": null,
            "grid_auto_flow": null,
            "grid_auto_rows": null,
            "grid_column": null,
            "grid_gap": null,
            "grid_row": null,
            "grid_template_areas": null,
            "grid_template_columns": null,
            "grid_template_rows": null,
            "height": null,
            "justify_content": null,
            "justify_items": null,
            "left": null,
            "margin": null,
            "max_height": null,
            "max_width": null,
            "min_height": null,
            "min_width": null,
            "object_fit": null,
            "object_position": null,
            "order": null,
            "overflow": null,
            "overflow_x": null,
            "overflow_y": null,
            "padding": null,
            "right": null,
            "top": null,
            "visibility": null,
            "width": null
          }
        },
        "8a70c705c11c42f0b317f537b59a98d3": {
          "model_module": "@jupyter-widgets/base",
          "model_module_version": "1.2.0",
          "model_name": "LayoutModel",
          "state": {
            "_model_module": "@jupyter-widgets/base",
            "_model_module_version": "1.2.0",
            "_model_name": "LayoutModel",
            "_view_count": null,
            "_view_module": "@jupyter-widgets/base",
            "_view_module_version": "1.2.0",
            "_view_name": "LayoutView",
            "align_content": null,
            "align_items": null,
            "align_self": null,
            "border": null,
            "bottom": null,
            "display": null,
            "flex": null,
            "flex_flow": null,
            "grid_area": null,
            "grid_auto_columns": null,
            "grid_auto_flow": null,
            "grid_auto_rows": null,
            "grid_column": null,
            "grid_gap": null,
            "grid_row": null,
            "grid_template_areas": null,
            "grid_template_columns": null,
            "grid_template_rows": null,
            "height": null,
            "justify_content": null,
            "justify_items": null,
            "left": null,
            "margin": null,
            "max_height": null,
            "max_width": null,
            "min_height": null,
            "min_width": null,
            "object_fit": null,
            "object_position": null,
            "order": null,
            "overflow": null,
            "overflow_x": null,
            "overflow_y": null,
            "padding": null,
            "right": null,
            "top": null,
            "visibility": null,
            "width": null
          }
        },
        "93b8c5e0a65a4621b5ed1c212773a568": {
          "model_module": "@jupyter-widgets/output",
          "model_module_version": "1.0.0",
          "model_name": "OutputModel",
          "state": {
            "_dom_classes": [],
            "_model_module": "@jupyter-widgets/output",
            "_model_module_version": "1.0.0",
            "_model_name": "OutputModel",
            "_view_count": null,
            "_view_module": "@jupyter-widgets/output",
            "_view_module_version": "1.0.0",
            "_view_name": "OutputView",
            "layout": "IPY_MODEL_333e35f6983b44deb1d7fe7a114bf94a",
            "msg_id": "",
            "outputs": [
              {
                "name": "stderr",
                "output_type": "stream",
                "text": [
                  "<ipython-input-25-f0b07b3a950c>:36: MatplotlibDeprecationWarning: The draw_all function was deprecated in Matplotlib 3.6 and will be removed two minor releases later. Use fig.draw_without_rendering() instead.\n",
                  "  cbar.draw_all()\n"
                ]
              }
            ]
          }
        },
        "a315fa36df5e4bff88542b7342b25f13": {
          "model_module": "@jupyter-widgets/controls",
          "model_module_version": "1.5.0",
          "model_name": "DropdownModel",
          "state": {
            "_dom_classes": [],
            "_model_module": "@jupyter-widgets/controls",
            "_model_module_version": "1.5.0",
            "_model_name": "DropdownModel",
            "_options_labels": [
              "LogisticRegression()",
              "SVC(gamma=2, probability=True)",
              "KNeighborsClassifier(n_neighbors=3)"
            ],
            "_view_count": null,
            "_view_module": "@jupyter-widgets/controls",
            "_view_module_version": "1.5.0",
            "_view_name": "DropdownView",
            "description": "classifier",
            "description_tooltip": null,
            "disabled": false,
            "index": 2,
            "layout": "IPY_MODEL_6f32a907286143b7a48372a814f8a4d2",
            "style": "IPY_MODEL_d94ba1731d994907b5f2205f8492246d"
          }
        },
        "a55be11361c24243a21d3736fdcc1ad5": {
          "model_module": "@jupyter-widgets/controls",
          "model_module_version": "1.5.0",
          "model_name": "DescriptionStyleModel",
          "state": {
            "_model_module": "@jupyter-widgets/controls",
            "_model_module_version": "1.5.0",
            "_model_name": "DescriptionStyleModel",
            "_view_count": null,
            "_view_module": "@jupyter-widgets/base",
            "_view_module_version": "1.2.0",
            "_view_name": "StyleView",
            "description_width": ""
          }
        },
        "ae81801270b84135900c901e5980cebd": {
          "model_module": "@jupyter-widgets/base",
          "model_module_version": "1.2.0",
          "model_name": "LayoutModel",
          "state": {
            "_model_module": "@jupyter-widgets/base",
            "_model_module_version": "1.2.0",
            "_model_name": "LayoutModel",
            "_view_count": null,
            "_view_module": "@jupyter-widgets/base",
            "_view_module_version": "1.2.0",
            "_view_name": "LayoutView",
            "align_content": null,
            "align_items": null,
            "align_self": null,
            "border": null,
            "bottom": null,
            "display": null,
            "flex": null,
            "flex_flow": null,
            "grid_area": null,
            "grid_auto_columns": null,
            "grid_auto_flow": null,
            "grid_auto_rows": null,
            "grid_column": null,
            "grid_gap": null,
            "grid_row": null,
            "grid_template_areas": null,
            "grid_template_columns": null,
            "grid_template_rows": null,
            "height": null,
            "justify_content": null,
            "justify_items": null,
            "left": null,
            "margin": null,
            "max_height": null,
            "max_width": null,
            "min_height": null,
            "min_width": null,
            "object_fit": null,
            "object_position": null,
            "order": null,
            "overflow": null,
            "overflow_x": null,
            "overflow_y": null,
            "padding": null,
            "right": null,
            "top": null,
            "visibility": null,
            "width": null
          }
        },
        "b8077cf5d6d04e02a00eefc07effe104": {
          "model_module": "@jupyter-widgets/controls",
          "model_module_version": "1.5.0",
          "model_name": "VBoxModel",
          "state": {
            "_dom_classes": [
              "widget-interact"
            ],
            "_model_module": "@jupyter-widgets/controls",
            "_model_module_version": "1.5.0",
            "_model_name": "VBoxModel",
            "_view_count": null,
            "_view_module": "@jupyter-widgets/controls",
            "_view_module_version": "1.5.0",
            "_view_name": "VBoxView",
            "box_style": "",
            "children": [
              "IPY_MODEL_4bc9d302dd4e414da74fcf008c30a8cf",
              "IPY_MODEL_60a835e558d744c3acf97f734bb08788"
            ],
            "layout": "IPY_MODEL_5ee6c68ff977460e9150acc6b1ad76c5"
          }
        },
        "b966a870fee54b0d8fe83a743d2d9617": {
          "model_module": "@jupyter-widgets/base",
          "model_module_version": "1.2.0",
          "model_name": "LayoutModel",
          "state": {
            "_model_module": "@jupyter-widgets/base",
            "_model_module_version": "1.2.0",
            "_model_name": "LayoutModel",
            "_view_count": null,
            "_view_module": "@jupyter-widgets/base",
            "_view_module_version": "1.2.0",
            "_view_name": "LayoutView",
            "align_content": null,
            "align_items": null,
            "align_self": null,
            "border": null,
            "bottom": null,
            "display": null,
            "flex": null,
            "flex_flow": null,
            "grid_area": null,
            "grid_auto_columns": null,
            "grid_auto_flow": null,
            "grid_auto_rows": null,
            "grid_column": null,
            "grid_gap": null,
            "grid_row": null,
            "grid_template_areas": null,
            "grid_template_columns": null,
            "grid_template_rows": null,
            "height": null,
            "justify_content": null,
            "justify_items": null,
            "left": null,
            "margin": null,
            "max_height": null,
            "max_width": null,
            "min_height": null,
            "min_width": null,
            "object_fit": null,
            "object_position": null,
            "order": null,
            "overflow": null,
            "overflow_x": null,
            "overflow_y": null,
            "padding": null,
            "right": null,
            "top": null,
            "visibility": null,
            "width": null
          }
        },
        "c241c62cca074ff3abcd007a1654b156": {
          "model_module": "@jupyter-widgets/base",
          "model_module_version": "1.2.0",
          "model_name": "LayoutModel",
          "state": {
            "_model_module": "@jupyter-widgets/base",
            "_model_module_version": "1.2.0",
            "_model_name": "LayoutModel",
            "_view_count": null,
            "_view_module": "@jupyter-widgets/base",
            "_view_module_version": "1.2.0",
            "_view_name": "LayoutView",
            "align_content": null,
            "align_items": null,
            "align_self": null,
            "border": null,
            "bottom": null,
            "display": null,
            "flex": null,
            "flex_flow": null,
            "grid_area": null,
            "grid_auto_columns": null,
            "grid_auto_flow": null,
            "grid_auto_rows": null,
            "grid_column": null,
            "grid_gap": null,
            "grid_row": null,
            "grid_template_areas": null,
            "grid_template_columns": null,
            "grid_template_rows": null,
            "height": null,
            "justify_content": null,
            "justify_items": null,
            "left": null,
            "margin": null,
            "max_height": null,
            "max_width": null,
            "min_height": null,
            "min_width": null,
            "object_fit": null,
            "object_position": null,
            "order": null,
            "overflow": null,
            "overflow_x": null,
            "overflow_y": null,
            "padding": null,
            "right": null,
            "top": null,
            "visibility": null,
            "width": null
          }
        },
        "d94ba1731d994907b5f2205f8492246d": {
          "model_module": "@jupyter-widgets/controls",
          "model_module_version": "1.5.0",
          "model_name": "DescriptionStyleModel",
          "state": {
            "_model_module": "@jupyter-widgets/controls",
            "_model_module_version": "1.5.0",
            "_model_name": "DescriptionStyleModel",
            "_view_count": null,
            "_view_module": "@jupyter-widgets/base",
            "_view_module_version": "1.2.0",
            "_view_name": "StyleView",
            "description_width": ""
          }
        },
        "e03ba09433c84e3e9eceb65e9686e1a1": {
          "model_module": "@jupyter-widgets/base",
          "model_module_version": "1.2.0",
          "model_name": "LayoutModel",
          "state": {
            "_model_module": "@jupyter-widgets/base",
            "_model_module_version": "1.2.0",
            "_model_name": "LayoutModel",
            "_view_count": null,
            "_view_module": "@jupyter-widgets/base",
            "_view_module_version": "1.2.0",
            "_view_name": "LayoutView",
            "align_content": null,
            "align_items": null,
            "align_self": null,
            "border": null,
            "bottom": null,
            "display": null,
            "flex": null,
            "flex_flow": null,
            "grid_area": null,
            "grid_auto_columns": null,
            "grid_auto_flow": null,
            "grid_auto_rows": null,
            "grid_column": null,
            "grid_gap": null,
            "grid_row": null,
            "grid_template_areas": null,
            "grid_template_columns": null,
            "grid_template_rows": null,
            "height": null,
            "justify_content": null,
            "justify_items": null,
            "left": null,
            "margin": null,
            "max_height": null,
            "max_width": null,
            "min_height": null,
            "min_width": null,
            "object_fit": null,
            "object_position": null,
            "order": null,
            "overflow": null,
            "overflow_x": null,
            "overflow_y": null,
            "padding": null,
            "right": null,
            "top": null,
            "visibility": null,
            "width": null
          }
        },
        "eae1a6c0a9fe4cd2a24dfe44b8b06693": {
          "model_module": "@jupyter-widgets/controls",
          "model_module_version": "1.5.0",
          "model_name": "VBoxModel",
          "state": {
            "_dom_classes": [
              "widget-interact"
            ],
            "_model_module": "@jupyter-widgets/controls",
            "_model_module_version": "1.5.0",
            "_model_name": "VBoxModel",
            "_view_count": null,
            "_view_module": "@jupyter-widgets/controls",
            "_view_module_version": "1.5.0",
            "_view_name": "VBoxView",
            "box_style": "",
            "children": [
              "IPY_MODEL_6f203da87b2f4562adb47c21240d1eba",
              "IPY_MODEL_790c3ad24952498783dd679218f20a17"
            ],
            "layout": "IPY_MODEL_c241c62cca074ff3abcd007a1654b156"
          }
        }
      }
    }
  },
  "nbformat": 4,
  "nbformat_minor": 0
}
