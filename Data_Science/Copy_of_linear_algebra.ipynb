{
  "cells": [
    {
      "cell_type": "markdown",
      "id": "9998bb38",
      "metadata": {
        "id": "9998bb38",
        "origin_pos": 1
      },
      "source": [
        "# Linear Algebra\n",
        ":label:`sec_linear-algebra`\n",
        "\n",
        "By now, we can load datasets into tensors\n",
        "and manipulate these tensors\n",
        "with basic mathematical operations.\n",
        "To start building sophisticated models,\n",
        "we will also need a few tools from linear algebra.\n",
        "This section offers a gentle introduction\n",
        "to the most essential concepts,\n",
        "starting from scalar arithmetic\n",
        "and ramping up to matrix multiplication.\n"
      ]
    },
    {
      "cell_type": "code",
      "execution_count": null,
      "id": "MyVGUKXBEway",
      "metadata": {
        "id": "MyVGUKXBEway"
      },
      "outputs": [],
      "source": [
        "import numpy as np"
      ]
    },
    {
      "cell_type": "markdown",
      "id": "d5f6cdef",
      "metadata": {
        "id": "d5f6cdef",
        "origin_pos": 6
      },
      "source": [
        "## Scalars\n",
        "\n",
        "\n",
        "Most everyday mathematics\n",
        "consists of manipulating\n",
        "numbers one at a time.\n",
        "Formally, we call these values *scalars*.\n",
        "For example, the temperature in Palo Alto\n",
        "is a balmy $72$ degrees Fahrenheit.\n",
        "If you wanted to convert the temperature to Celsius\n",
        "you would evaluate the expression\n",
        "$c = \\frac{5}{9}(f - 32)$, setting $f$ to $72$.\n",
        "In this equation, the values\n",
        "$5$, $9$, and $32$ are constant scalars.\n",
        "The variables $c$ and $f$\n",
        "in general represent unknown scalars.\n",
        "\n",
        "We denote scalars\n",
        "by ordinary lower-cased letters\n",
        "(e.g., $x$, $y$, and $z$)\n",
        "and the space of all (continuous)\n",
        "*real-valued* scalars by $\\mathbb{R}$.\n",
        "For expedience, we will skip past\n",
        "rigorous definitions of *spaces*:\n",
        "just remember that the expression $x \\in \\mathbb{R}$\n",
        "is a formal way to say that $x$ is a real-valued scalar.\n",
        "The symbol $\\in$ (pronounced \"in\")\n",
        "denotes membership in a set.\n",
        "For example, $x, y \\in \\{0, 1\\}$\n",
        "indicates that $x$ and $y$ are variables\n",
        "that can only take values $0$ or $1$.\n",
        "\n",
        "(**Scalars are implemented as tensors\n",
        "that contain only one element.**)\n",
        "Below, we assign two scalars\n",
        "and perform the familiar addition, multiplication,\n",
        "division, and exponentiation operations.\n"
      ]
    },
    {
      "cell_type": "code",
      "execution_count": null,
      "id": "529fd246",
      "metadata": {
        "colab": {
          "base_uri": "https://localhost:8080/"
        },
        "execution": {
          "iopub.execute_input": "2023-08-18T21:50:12.962473Z",
          "iopub.status.busy": "2023-08-18T21:50:12.961835Z",
          "iopub.status.idle": "2023-08-18T21:50:12.974573Z",
          "shell.execute_reply": "2023-08-18T21:50:12.973770Z"
        },
        "id": "529fd246",
        "origin_pos": 7,
        "outputId": "fe3e206e-57de-41de-8bf9-846acf39e0eb",
        "tab": [
          "mxnet"
        ]
      },
      "outputs": [
        {
          "data": {
            "text/plain": [
              "(5.0, 6.0, 1.5, 9.0)"
            ]
          },
          "execution_count": 28,
          "metadata": {},
          "output_type": "execute_result"
        }
      ],
      "source": [
        "x = np.array(3.0)\n",
        "y = np.array(2.0)\n",
        "\n",
        "x + y, x * y, x / y, x ** y"
      ]
    },
    {
      "cell_type": "markdown",
      "id": "961d05f3",
      "metadata": {
        "id": "961d05f3",
        "origin_pos": 11
      },
      "source": [
        "## Vectors\n",
        "\n",
        "For current purposes, [**you can think of a vector as a fixed-length array of scalars.**]\n",
        "As with their code counterparts,\n",
        "we call these scalars the *elements* of the vector\n",
        "(synonyms include *entries* and *components*).\n",
        "When vectors represent examples from real-world datasets,\n",
        "their values hold some real-world significance.\n",
        "For example, if we were training a model to predict\n",
        "the risk of a loan defaulting,\n",
        "we might associate each applicant with a vector\n",
        "whose components correspond to quantities\n",
        "like their income, length of employment,\n",
        "or number of previous defaults.\n",
        "If we were studying the risk of heart attack,\n",
        "each vector might represent a patient\n",
        "and its components might correspond to\n",
        "their most recent vital signs, cholesterol levels,\n",
        "minutes of exercise per day, etc.\n",
        "We denote vectors by bold lowercase letters,\n",
        "(e.g., $\\mathbf{x}$, $\\mathbf{y}$, and $\\mathbf{z}$).\n",
        "\n",
        "Vectors are implemented as $1^{\\textrm{st}}$-order tensors.\n",
        "In general, such tensors can have arbitrary lengths,\n",
        "subject to memory limitations. Caution: in Python, as in most programming languages, vector indices start at $0$, also known as *zero-based indexing*, whereas in linear algebra subscripts begin at $1$ (one-based indexing).\n"
      ]
    },
    {
      "cell_type": "code",
      "execution_count": null,
      "id": "b885455c",
      "metadata": {
        "colab": {
          "base_uri": "https://localhost:8080/"
        },
        "execution": {
          "iopub.execute_input": "2023-08-18T21:50:12.978081Z",
          "iopub.status.busy": "2023-08-18T21:50:12.977632Z",
          "iopub.status.idle": "2023-08-18T21:50:12.983805Z",
          "shell.execute_reply": "2023-08-18T21:50:12.982851Z"
        },
        "id": "b885455c",
        "origin_pos": 12,
        "outputId": "719758a8-48c5-4340-fb7b-00c016004047",
        "tab": [
          "mxnet"
        ]
      },
      "outputs": [
        {
          "data": {
            "text/plain": [
              "array([0, 1, 2])"
            ]
          },
          "execution_count": 29,
          "metadata": {},
          "output_type": "execute_result"
        }
      ],
      "source": [
        "x = np.arange(3)\n",
        "x"
      ]
    },
    {
      "cell_type": "markdown",
      "id": "5dfa69f3",
      "metadata": {
        "id": "5dfa69f3",
        "origin_pos": 16
      },
      "source": [
        "We can refer to an element of a vector by using a subscript.\n",
        "For example, $x_2$ denotes the second element of $\\mathbf{x}$.\n",
        "Since $x_2$ is a scalar, we do not bold it.\n",
        "By default, we visualize vectors\n",
        "by stacking their elements vertically.\n",
        "\n",
        "$$\\mathbf{x} =\\begin{bmatrix}x_{1}  \\\\ \\vdots  \\\\x_{n}\\end{bmatrix},$$\n",
        ":eqlabel:`eq_vec_def`\n",
        "\n",
        "Here $x_1, \\ldots, x_n$ are elements of the vector.\n",
        "Later on, we will distinguish between such *column vectors*\n",
        "and *row vectors* whose elements are stacked horizontally.\n",
        "Recall that [**we access a tensor's elements via indexing.**]\n"
      ]
    },
    {
      "cell_type": "code",
      "execution_count": null,
      "id": "46591eb9",
      "metadata": {
        "colab": {
          "base_uri": "https://localhost:8080/"
        },
        "execution": {
          "iopub.execute_input": "2023-08-18T21:50:12.987272Z",
          "iopub.status.busy": "2023-08-18T21:50:12.986576Z",
          "iopub.status.idle": "2023-08-18T21:50:12.992960Z",
          "shell.execute_reply": "2023-08-18T21:50:12.992137Z"
        },
        "id": "46591eb9",
        "origin_pos": 17,
        "outputId": "38c7fa0e-9701-42bd-850f-467b71e0b50e",
        "tab": [
          "mxnet"
        ]
      },
      "outputs": [
        {
          "data": {
            "text/plain": [
              "2"
            ]
          },
          "execution_count": 30,
          "metadata": {},
          "output_type": "execute_result"
        }
      ],
      "source": [
        "x[2]"
      ]
    },
    {
      "cell_type": "markdown",
      "id": "f7fcef75",
      "metadata": {
        "id": "f7fcef75",
        "origin_pos": 18
      },
      "source": [
        "To indicate that a vector contains $n$ elements,\n",
        "we write $\\mathbf{x} \\in \\mathbb{R}^n$.\n",
        "Formally, we call $n$ the *dimensionality* of the vector.\n",
        "[**In code, this corresponds to the tensor's length**],\n",
        "accessible via Python's built-in `len` function.\n"
      ]
    },
    {
      "cell_type": "code",
      "execution_count": null,
      "id": "ccc41158",
      "metadata": {
        "colab": {
          "base_uri": "https://localhost:8080/"
        },
        "execution": {
          "iopub.execute_input": "2023-08-18T21:50:12.996243Z",
          "iopub.status.busy": "2023-08-18T21:50:12.995678Z",
          "iopub.status.idle": "2023-08-18T21:50:13.001053Z",
          "shell.execute_reply": "2023-08-18T21:50:12.999875Z"
        },
        "id": "ccc41158",
        "origin_pos": 19,
        "outputId": "d4752890-28e6-4ce4-d23d-b5a49aac64a4",
        "tab": [
          "mxnet"
        ]
      },
      "outputs": [
        {
          "data": {
            "text/plain": [
              "3"
            ]
          },
          "execution_count": 31,
          "metadata": {},
          "output_type": "execute_result"
        }
      ],
      "source": [
        "len(x)"
      ]
    },
    {
      "cell_type": "markdown",
      "id": "8e055553",
      "metadata": {
        "id": "8e055553",
        "origin_pos": 20
      },
      "source": [
        "We can also access the length via the `shape` attribute.\n",
        "The shape is a tuple that indicates a tensor's length along each axis.\n",
        "(**Tensors with just one axis have shapes with just one element.**)\n"
      ]
    },
    {
      "cell_type": "code",
      "execution_count": null,
      "id": "79ca0e65",
      "metadata": {
        "colab": {
          "base_uri": "https://localhost:8080/"
        },
        "execution": {
          "iopub.execute_input": "2023-08-18T21:50:13.004710Z",
          "iopub.status.busy": "2023-08-18T21:50:13.004014Z",
          "iopub.status.idle": "2023-08-18T21:50:13.008982Z",
          "shell.execute_reply": "2023-08-18T21:50:13.008186Z"
        },
        "id": "79ca0e65",
        "origin_pos": 21,
        "outputId": "4166afe6-2855-4d7e-e187-a4fd5c143cf8",
        "tab": [
          "mxnet"
        ]
      },
      "outputs": [
        {
          "data": {
            "text/plain": [
              "(3,)"
            ]
          },
          "execution_count": 32,
          "metadata": {},
          "output_type": "execute_result"
        }
      ],
      "source": [
        "x.shape"
      ]
    },
    {
      "cell_type": "markdown",
      "id": "726acfae",
      "metadata": {
        "id": "726acfae",
        "origin_pos": 22
      },
      "source": [
        "Oftentimes, the word \"dimension\" gets overloaded\n",
        "to mean both the number of axes\n",
        "and the length along a particular axis.\n",
        "To avoid this confusion,\n",
        "we use *order* to refer to the number of axes\n",
        "and *dimensionality* exclusively to refer\n",
        "to the number of components.\n",
        "\n",
        "\n",
        "## Matrices\n",
        "\n",
        "Just as scalars are $0^{\\textrm{th}}$-order tensors\n",
        "and vectors are $1^{\\textrm{st}}$-order tensors,\n",
        "matrices are $2^{\\textrm{nd}}$-order tensors.\n",
        "We denote matrices by bold capital letters\n",
        "(e.g., $\\mathbf{X}$, $\\mathbf{Y}$, and $\\mathbf{Z}$),\n",
        "and represent them in code by tensors with two axes.\n",
        "The expression $\\mathbf{A} \\in \\mathbb{R}^{m \\times n}$\n",
        "indicates that a matrix $\\mathbf{A}$\n",
        "contains $m \\times n$ real-valued scalars,\n",
        "arranged as $m$ rows and $n$ columns.\n",
        "When $m = n$, we say that a matrix is *square*.\n",
        "Visually, we can illustrate any matrix as a table.\n",
        "To refer to an individual element,\n",
        "we subscript both the row and column indices, e.g.,\n",
        "$a_{ij}$ is the value that belongs to $\\mathbf{A}$'s\n",
        "$i^{\\textrm{th}}$ row and $j^{\\textrm{th}}$ column:\n",
        "\n",
        "$$\\mathbf{A}=\\begin{bmatrix} a_{11} & a_{12} & \\cdots & a_{1n} \\\\ a_{21} & a_{22} & \\cdots & a_{2n} \\\\ \\vdots & \\vdots & \\ddots & \\vdots \\\\ a_{m1} & a_{m2} & \\cdots & a_{mn} \\\\ \\end{bmatrix}.$$\n",
        ":eqlabel:`eq_matrix_def`\n",
        "\n",
        "\n",
        "In code, we represent a matrix $\\mathbf{A} \\in \\mathbb{R}^{m \\times n}$\n",
        "by a $2^{\\textrm{nd}}$-order tensor with shape ($m$, $n$).\n",
        "[**We can convert any appropriately sized $m \\times n$ tensor\n",
        "into an $m \\times n$ matrix**]\n",
        "by passing the desired shape to `reshape`:\n"
      ]
    },
    {
      "cell_type": "code",
      "execution_count": null,
      "id": "89c21c9b",
      "metadata": {
        "colab": {
          "base_uri": "https://localhost:8080/"
        },
        "execution": {
          "iopub.execute_input": "2023-08-18T21:50:13.012268Z",
          "iopub.status.busy": "2023-08-18T21:50:13.011697Z",
          "iopub.status.idle": "2023-08-18T21:50:13.017759Z",
          "shell.execute_reply": "2023-08-18T21:50:13.016701Z"
        },
        "id": "89c21c9b",
        "origin_pos": 23,
        "outputId": "b7e8a188-b063-4219-ec9b-2f3b653b8bc0",
        "tab": [
          "mxnet"
        ]
      },
      "outputs": [
        {
          "data": {
            "text/plain": [
              "array([[0, 1],\n",
              "       [2, 3],\n",
              "       [4, 5]])"
            ]
          },
          "execution_count": 33,
          "metadata": {},
          "output_type": "execute_result"
        }
      ],
      "source": [
        "A = np.arange(6).reshape(3, 2)\n",
        "A"
      ]
    },
    {
      "cell_type": "markdown",
      "id": "7230b74c",
      "metadata": {
        "id": "7230b74c",
        "origin_pos": 27
      },
      "source": [
        "Sometimes we want to flip the axes.\n",
        "When we exchange a matrix's rows and columns,\n",
        "the result is called its *transpose*.\n",
        "Formally, we signify a matrix $\\mathbf{A}$'s transpose\n",
        "by $\\mathbf{A}^\\top$ and if $\\mathbf{B} = \\mathbf{A}^\\top$,\n",
        "then $b_{ij} = a_{ji}$ for all $i$ and $j$.\n",
        "Thus, the transpose of an $m \\times n$ matrix\n",
        "is an $n \\times m$ matrix:\n",
        "\n",
        "$$\n",
        "\\mathbf{A}^\\top =\n",
        "\\begin{bmatrix}\n",
        "    a_{11} & a_{21} & \\dots  & a_{m1} \\\\\n",
        "    a_{12} & a_{22} & \\dots  & a_{m2} \\\\\n",
        "    \\vdots & \\vdots & \\ddots  & \\vdots \\\\\n",
        "    a_{1n} & a_{2n} & \\dots  & a_{mn}\n",
        "\\end{bmatrix}.\n",
        "$$\n",
        "\n",
        "In code, we can access any (**matrix's transpose**) as follows:\n"
      ]
    },
    {
      "cell_type": "code",
      "execution_count": null,
      "id": "f37c0080",
      "metadata": {
        "colab": {
          "base_uri": "https://localhost:8080/"
        },
        "execution": {
          "iopub.execute_input": "2023-08-18T21:50:13.021459Z",
          "iopub.status.busy": "2023-08-18T21:50:13.020634Z",
          "iopub.status.idle": "2023-08-18T21:50:13.027274Z",
          "shell.execute_reply": "2023-08-18T21:50:13.025729Z"
        },
        "id": "f37c0080",
        "origin_pos": 28,
        "outputId": "b81cc3eb-8a21-469a-a9bb-be9555e1c5e0",
        "tab": [
          "mxnet"
        ]
      },
      "outputs": [
        {
          "data": {
            "text/plain": [
              "array([[0, 2, 4],\n",
              "       [1, 3, 5]])"
            ]
          },
          "execution_count": 34,
          "metadata": {},
          "output_type": "execute_result"
        }
      ],
      "source": [
        "A.T"
      ]
    },
    {
      "cell_type": "markdown",
      "id": "4a1b6969",
      "metadata": {
        "id": "4a1b6969",
        "origin_pos": 30
      },
      "source": [
        "[**Symmetric matrices are the subset of square matrices\n",
        "that are equal to their own transposes:\n",
        "$\\mathbf{A} = \\mathbf{A}^\\top$.**]\n",
        "The following matrix is symmetric:\n"
      ]
    },
    {
      "cell_type": "code",
      "execution_count": null,
      "id": "23d7fa6e",
      "metadata": {
        "colab": {
          "base_uri": "https://localhost:8080/"
        },
        "execution": {
          "iopub.execute_input": "2023-08-18T21:50:13.030892Z",
          "iopub.status.busy": "2023-08-18T21:50:13.030207Z",
          "iopub.status.idle": "2023-08-18T21:50:13.036721Z",
          "shell.execute_reply": "2023-08-18T21:50:13.035973Z"
        },
        "id": "23d7fa6e",
        "origin_pos": 31,
        "outputId": "c472d82d-d811-4abe-8e45-27c46097d4fa",
        "tab": [
          "mxnet"
        ]
      },
      "outputs": [
        {
          "data": {
            "text/plain": [
              "array([[ True,  True,  True],\n",
              "       [ True,  True,  True],\n",
              "       [ True,  True,  True]])"
            ]
          },
          "execution_count": 35,
          "metadata": {},
          "output_type": "execute_result"
        }
      ],
      "source": [
        "A = np.array([[1, 2, 3], [2, 0, 4], [3, 4, 5]])\n",
        "A == A.T"
      ]
    },
    {
      "cell_type": "markdown",
      "id": "c4e97461",
      "metadata": {
        "id": "c4e97461",
        "origin_pos": 35
      },
      "source": [
        "Matrices are useful for representing datasets.\n",
        "Typically, rows correspond to individual records\n",
        "and columns correspond to distinct attributes.\n",
        "\n",
        "\n",
        "\n",
        "## Tensors\n",
        "\n",
        "While you can go far in your machine learning journey\n",
        "with only scalars, vectors, and matrices,\n",
        "eventually you may need to work with\n",
        "higher-order [**tensors**].\n",
        "Tensors (**give us a generic way of describing\n",
        "extensions to $n^{\\textrm{th}}$-order arrays.**)\n",
        "We call software objects of the *tensor class* \"tensors\"\n",
        "precisely because they too can have arbitrary numbers of axes.\n",
        "While it may be confusing to use the word\n",
        "*tensor* for both the mathematical object\n",
        "and its realization in code,\n",
        "our meaning should usually be clear from context.\n",
        "We denote general tensors by capital letters\n",
        "with a special font face\n",
        "(e.g., $\\mathsf{X}$, $\\mathsf{Y}$, and $\\mathsf{Z}$)\n",
        "and their indexing mechanism\n",
        "(e.g., $x_{ijk}$ and $[\\mathsf{X}]_{1, 2i-1, 3}$)\n",
        "follows naturally from that of matrices.\n",
        "\n",
        "Tensors will become more important\n",
        "when we start working with images.\n",
        "Each image arrives as a $3^{\\textrm{rd}}$-order tensor\n",
        "with axes corresponding to the height, width, and *channel*.\n",
        "At each spatial location, the intensities\n",
        "of each color (red, green, and blue)\n",
        "are stacked along the channel.\n",
        "Furthermore, a collection of images is represented\n",
        "in code by a $4^{\\textrm{th}}$-order tensor,\n",
        "where distinct images are indexed\n",
        "along the first axis.\n",
        "Higher-order tensors are constructed, as were vectors and matrices,\n",
        "by growing the number of shape components.\n"
      ]
    },
    {
      "cell_type": "code",
      "execution_count": null,
      "id": "11e592f9",
      "metadata": {
        "colab": {
          "base_uri": "https://localhost:8080/"
        },
        "execution": {
          "iopub.execute_input": "2023-08-18T21:50:13.040138Z",
          "iopub.status.busy": "2023-08-18T21:50:13.039450Z",
          "iopub.status.idle": "2023-08-18T21:50:13.045492Z",
          "shell.execute_reply": "2023-08-18T21:50:13.044700Z"
        },
        "id": "11e592f9",
        "origin_pos": 36,
        "outputId": "d8a316a6-6e63-4278-c705-129dfa89d040",
        "tab": [
          "mxnet"
        ]
      },
      "outputs": [
        {
          "data": {
            "text/plain": [
              "array([[[ 0,  1,  2,  3],\n",
              "        [ 4,  5,  6,  7],\n",
              "        [ 8,  9, 10, 11]],\n",
              "\n",
              "       [[12, 13, 14, 15],\n",
              "        [16, 17, 18, 19],\n",
              "        [20, 21, 22, 23]]])"
            ]
          },
          "execution_count": 36,
          "metadata": {},
          "output_type": "execute_result"
        }
      ],
      "source": [
        "np.arange(24).reshape(2, 3, 4)"
      ]
    },
    {
      "cell_type": "markdown",
      "id": "943103cd",
      "metadata": {
        "id": "943103cd",
        "origin_pos": 40
      },
      "source": [
        "## Basic Properties of Tensor Arithmetic\n",
        "\n",
        "Scalars, vectors, matrices,\n",
        "and higher-order tensors\n",
        "all have some handy properties.\n",
        "For example, elementwise operations\n",
        "produce outputs that have the\n",
        "same shape as their operands.\n"
      ]
    },
    {
      "cell_type": "code",
      "execution_count": null,
      "id": "6df74376",
      "metadata": {
        "colab": {
          "base_uri": "https://localhost:8080/"
        },
        "execution": {
          "iopub.execute_input": "2023-08-18T21:50:13.048882Z",
          "iopub.status.busy": "2023-08-18T21:50:13.048213Z",
          "iopub.status.idle": "2023-08-18T21:50:13.054770Z",
          "shell.execute_reply": "2023-08-18T21:50:13.053984Z"
        },
        "id": "6df74376",
        "origin_pos": 41,
        "outputId": "91a5f49f-6714-440d-9e7f-1e5dc9a56e93",
        "tab": [
          "mxnet"
        ]
      },
      "outputs": [
        {
          "data": {
            "text/plain": [
              "(array([[0, 1, 2],\n",
              "        [3, 4, 5]]),\n",
              " array([[ 0,  2,  4],\n",
              "        [ 6,  8, 10]]))"
            ]
          },
          "execution_count": 37,
          "metadata": {},
          "output_type": "execute_result"
        }
      ],
      "source": [
        "A = np.arange(6).reshape(2, 3)\n",
        "B = A.copy()  # Assign a copy of A to B by allocating new memory\n",
        "A, A + B"
      ]
    },
    {
      "cell_type": "markdown",
      "id": "794639f9",
      "metadata": {
        "id": "794639f9",
        "origin_pos": 45
      },
      "source": [
        "The [**elementwise product of two matrices\n",
        "is called their *Hadamard product***] (denoted $\\odot$).\n",
        "We can spell out the entries\n",
        "of the Hadamard product of two matrices\n",
        "$\\mathbf{A}, \\mathbf{B} \\in \\mathbb{R}^{m \\times n}$:\n",
        "\n",
        "\n",
        "\n",
        "$$\n",
        "\\mathbf{A} \\odot \\mathbf{B} =\n",
        "\\begin{bmatrix}\n",
        "    a_{11}  b_{11} & a_{12}  b_{12} & \\dots  & a_{1n}  b_{1n} \\\\\n",
        "    a_{21}  b_{21} & a_{22}  b_{22} & \\dots  & a_{2n}  b_{2n} \\\\\n",
        "    \\vdots & \\vdots & \\ddots & \\vdots \\\\\n",
        "    a_{m1}  b_{m1} & a_{m2}  b_{m2} & \\dots  & a_{mn}  b_{mn}\n",
        "\\end{bmatrix}.\n",
        "$$\n"
      ]
    },
    {
      "cell_type": "code",
      "execution_count": null,
      "id": "a8991e78",
      "metadata": {
        "colab": {
          "base_uri": "https://localhost:8080/"
        },
        "execution": {
          "iopub.execute_input": "2023-08-18T21:50:13.058096Z",
          "iopub.status.busy": "2023-08-18T21:50:13.057446Z",
          "iopub.status.idle": "2023-08-18T21:50:13.063054Z",
          "shell.execute_reply": "2023-08-18T21:50:13.062244Z"
        },
        "id": "a8991e78",
        "origin_pos": 46,
        "outputId": "6fa63d1e-b1eb-423d-87ed-7d3170f7e71b",
        "tab": [
          "mxnet"
        ]
      },
      "outputs": [
        {
          "data": {
            "text/plain": [
              "array([[ 0,  1,  4],\n",
              "       [ 9, 16, 25]])"
            ]
          },
          "execution_count": 38,
          "metadata": {},
          "output_type": "execute_result"
        }
      ],
      "source": [
        "A * B"
      ]
    },
    {
      "cell_type": "markdown",
      "id": "4e74b427",
      "metadata": {
        "id": "4e74b427",
        "origin_pos": 47
      },
      "source": [
        "[**Adding or multiplying a scalar and a tensor**] produces a result\n",
        "with the same shape as the original tensor.\n",
        "Here, each element of the tensor is added to (or multiplied by) the scalar.\n"
      ]
    },
    {
      "cell_type": "code",
      "execution_count": null,
      "id": "c0c82840",
      "metadata": {
        "colab": {
          "base_uri": "https://localhost:8080/"
        },
        "execution": {
          "iopub.execute_input": "2023-08-18T21:50:13.066631Z",
          "iopub.status.busy": "2023-08-18T21:50:13.066083Z",
          "iopub.status.idle": "2023-08-18T21:50:13.072782Z",
          "shell.execute_reply": "2023-08-18T21:50:13.071947Z"
        },
        "id": "c0c82840",
        "origin_pos": 48,
        "outputId": "d24f95cf-2932-452d-815a-601cffe34194",
        "tab": [
          "mxnet"
        ]
      },
      "outputs": [
        {
          "data": {
            "text/plain": [
              "(array([[[ 2,  3,  4,  5],\n",
              "         [ 6,  7,  8,  9],\n",
              "         [10, 11, 12, 13]],\n",
              " \n",
              "        [[14, 15, 16, 17],\n",
              "         [18, 19, 20, 21],\n",
              "         [22, 23, 24, 25]]]),\n",
              " (2, 3, 4))"
            ]
          },
          "execution_count": 39,
          "metadata": {},
          "output_type": "execute_result"
        }
      ],
      "source": [
        "a = 2\n",
        "X = np.arange(24).reshape(2, 3, 4)\n",
        "a + X, (a * X).shape"
      ]
    },
    {
      "cell_type": "markdown",
      "id": "295c4085",
      "metadata": {
        "id": "295c4085",
        "origin_pos": 52
      },
      "source": [
        "## Reduction\n",
        ":label:`subsec_lin-alg-reduction`\n",
        "\n",
        "Often, we wish to calculate [**the sum of a tensor's elements.**]\n",
        "To express the sum of the elements in a vector $\\mathbf{x}$ of length $n$,\n",
        "we write $\\sum_{i=1}^n x_i$. There is a simple function for it:\n"
      ]
    },
    {
      "cell_type": "code",
      "execution_count": null,
      "id": "4d833b52",
      "metadata": {
        "colab": {
          "base_uri": "https://localhost:8080/"
        },
        "execution": {
          "iopub.execute_input": "2023-08-18T21:50:13.076045Z",
          "iopub.status.busy": "2023-08-18T21:50:13.075491Z",
          "iopub.status.idle": "2023-08-18T21:50:13.081494Z",
          "shell.execute_reply": "2023-08-18T21:50:13.080697Z"
        },
        "id": "4d833b52",
        "origin_pos": 53,
        "outputId": "2a4761cc-678c-43e0-f241-1bc9eb812969",
        "tab": [
          "mxnet"
        ]
      },
      "outputs": [
        {
          "data": {
            "text/plain": [
              "(array([0, 1, 2]), 3)"
            ]
          },
          "execution_count": 40,
          "metadata": {},
          "output_type": "execute_result"
        }
      ],
      "source": [
        "x = np.arange(3)\n",
        "x, x.sum()"
      ]
    },
    {
      "cell_type": "markdown",
      "id": "3a772fab",
      "metadata": {
        "id": "3a772fab",
        "origin_pos": 57
      },
      "source": [
        "To express [**sums over the elements of tensors of arbitrary shape**],\n",
        "we simply sum over all its axes.\n",
        "For example, the sum of the elements\n",
        "of an $m \\times n$ matrix $\\mathbf{A}$\n",
        "could be written $\\sum_{i=1}^{m} \\sum_{j=1}^{n} a_{ij}$.\n"
      ]
    },
    {
      "cell_type": "code",
      "execution_count": null,
      "id": "e1beaee8",
      "metadata": {
        "colab": {
          "base_uri": "https://localhost:8080/"
        },
        "execution": {
          "iopub.execute_input": "2023-08-18T21:50:13.084834Z",
          "iopub.status.busy": "2023-08-18T21:50:13.084273Z",
          "iopub.status.idle": "2023-08-18T21:50:13.089845Z",
          "shell.execute_reply": "2023-08-18T21:50:13.089065Z"
        },
        "id": "e1beaee8",
        "origin_pos": 58,
        "outputId": "96ec6648-c4f2-4ae5-e29b-7da3a64c6382",
        "tab": [
          "mxnet"
        ]
      },
      "outputs": [
        {
          "data": {
            "text/plain": [
              "((2, 3), 15)"
            ]
          },
          "execution_count": 41,
          "metadata": {},
          "output_type": "execute_result"
        }
      ],
      "source": [
        "A.shape, A.sum()"
      ]
    },
    {
      "cell_type": "markdown",
      "id": "2dbd358e",
      "metadata": {
        "id": "2dbd358e",
        "origin_pos": 60
      },
      "source": [
        "By default, invoking the sum function\n",
        "*reduces* a tensor along all of its axes,\n",
        "eventually producing a scalar.\n",
        "Our libraries also allow us to [**specify the axes\n",
        "along which the tensor should be reduced.**]\n",
        "To sum over all elements along the rows (axis 0),\n",
        "we specify `axis=0` in `sum`.\n",
        "Since the input matrix reduces along axis 0\n",
        "to generate the output vector,\n",
        "this axis is missing from the shape of the output.\n"
      ]
    },
    {
      "cell_type": "code",
      "execution_count": null,
      "id": "fdb61485",
      "metadata": {
        "colab": {
          "base_uri": "https://localhost:8080/"
        },
        "execution": {
          "iopub.execute_input": "2023-08-18T21:50:13.093666Z",
          "iopub.status.busy": "2023-08-18T21:50:13.092861Z",
          "iopub.status.idle": "2023-08-18T21:50:13.099263Z",
          "shell.execute_reply": "2023-08-18T21:50:13.098485Z"
        },
        "id": "fdb61485",
        "origin_pos": 61,
        "outputId": "648c45c1-b241-4c27-93be-abf754db04ee",
        "tab": [
          "mxnet"
        ]
      },
      "outputs": [
        {
          "data": {
            "text/plain": [
              "((2, 3), (3,))"
            ]
          },
          "execution_count": 42,
          "metadata": {},
          "output_type": "execute_result"
        }
      ],
      "source": [
        "A.shape, A.sum(axis=0).shape"
      ]
    },
    {
      "cell_type": "markdown",
      "id": "32d343c5",
      "metadata": {
        "id": "32d343c5",
        "origin_pos": 63
      },
      "source": [
        "Specifying `axis=1` will reduce the column dimension (axis 1) by summing up elements of all the columns.\n"
      ]
    },
    {
      "cell_type": "code",
      "execution_count": null,
      "id": "ca69b093",
      "metadata": {
        "colab": {
          "base_uri": "https://localhost:8080/"
        },
        "execution": {
          "iopub.execute_input": "2023-08-18T21:50:13.102547Z",
          "iopub.status.busy": "2023-08-18T21:50:13.102011Z",
          "iopub.status.idle": "2023-08-18T21:50:13.107364Z",
          "shell.execute_reply": "2023-08-18T21:50:13.106584Z"
        },
        "id": "ca69b093",
        "origin_pos": 64,
        "outputId": "33430434-409d-41ee-e705-5fdf222d6579",
        "tab": [
          "mxnet"
        ]
      },
      "outputs": [
        {
          "data": {
            "text/plain": [
              "((2, 3), (2,))"
            ]
          },
          "execution_count": 43,
          "metadata": {},
          "output_type": "execute_result"
        }
      ],
      "source": [
        "A.shape, A.sum(axis=1).shape"
      ]
    },
    {
      "cell_type": "markdown",
      "id": "edc76918",
      "metadata": {
        "id": "edc76918",
        "origin_pos": 66
      },
      "source": [
        "Reducing a matrix along both rows and columns via summation\n",
        "is equivalent to summing up all the elements of the matrix.\n"
      ]
    },
    {
      "cell_type": "code",
      "execution_count": null,
      "id": "c30445e5",
      "metadata": {
        "colab": {
          "base_uri": "https://localhost:8080/"
        },
        "execution": {
          "iopub.execute_input": "2023-08-18T21:50:13.110694Z",
          "iopub.status.busy": "2023-08-18T21:50:13.110164Z",
          "iopub.status.idle": "2023-08-18T21:50:13.115836Z",
          "shell.execute_reply": "2023-08-18T21:50:13.115053Z"
        },
        "id": "c30445e5",
        "origin_pos": 67,
        "outputId": "8431e46a-449c-42e9-9e43-6e7a0ecda1fe",
        "tab": [
          "mxnet"
        ]
      },
      "outputs": [
        {
          "data": {
            "text/plain": [
              "True"
            ]
          },
          "execution_count": 44,
          "metadata": {},
          "output_type": "execute_result"
        }
      ],
      "source": [
        "np.sum(A,axis=(0, 1)) == A.sum()  # Same as A.sum()"
      ]
    },
    {
      "cell_type": "markdown",
      "id": "74403fde",
      "metadata": {
        "id": "74403fde",
        "origin_pos": 69
      },
      "source": [
        "[**A related quantity is the *mean*, also called the *average*.**]\n",
        "We calculate the mean by dividing the sum\n",
        "by the total number of elements.\n",
        "Because computing the mean is so common,\n",
        "it gets a dedicated library function\n",
        "that works analogously to `sum`.\n"
      ]
    },
    {
      "cell_type": "code",
      "execution_count": null,
      "id": "f1a7a1cf",
      "metadata": {
        "colab": {
          "base_uri": "https://localhost:8080/"
        },
        "execution": {
          "iopub.execute_input": "2023-08-18T21:50:13.119038Z",
          "iopub.status.busy": "2023-08-18T21:50:13.118520Z",
          "iopub.status.idle": "2023-08-18T21:50:13.124535Z",
          "shell.execute_reply": "2023-08-18T21:50:13.123730Z"
        },
        "id": "f1a7a1cf",
        "origin_pos": 70,
        "outputId": "0f0bf1c4-9ae0-49e5-8208-4e705c31f823",
        "tab": [
          "mxnet"
        ]
      },
      "outputs": [
        {
          "data": {
            "text/plain": [
              "(2.5, 2.5)"
            ]
          },
          "execution_count": 45,
          "metadata": {},
          "output_type": "execute_result"
        }
      ],
      "source": [
        "A.mean(), A.sum() / A.size"
      ]
    },
    {
      "cell_type": "markdown",
      "id": "58d466fc",
      "metadata": {
        "id": "58d466fc",
        "origin_pos": 73
      },
      "source": [
        "Likewise, the function for calculating the mean\n",
        "can also reduce a tensor along specific axes.\n"
      ]
    },
    {
      "cell_type": "code",
      "execution_count": null,
      "id": "a9d3f7c8",
      "metadata": {
        "colab": {
          "base_uri": "https://localhost:8080/"
        },
        "execution": {
          "iopub.execute_input": "2023-08-18T21:50:13.127891Z",
          "iopub.status.busy": "2023-08-18T21:50:13.127338Z",
          "iopub.status.idle": "2023-08-18T21:50:13.133724Z",
          "shell.execute_reply": "2023-08-18T21:50:13.132941Z"
        },
        "id": "a9d3f7c8",
        "origin_pos": 74,
        "outputId": "062c2c46-7df8-4d01-d086-252ca158c41c",
        "tab": [
          "mxnet"
        ]
      },
      "outputs": [
        {
          "data": {
            "text/plain": [
              "(array([1.5, 2.5, 3.5]), array([1.5, 2.5, 3.5]))"
            ]
          },
          "execution_count": 46,
          "metadata": {},
          "output_type": "execute_result"
        }
      ],
      "source": [
        "A.mean(axis=0), A.sum(axis=0) / A.shape[0]"
      ]
    },
    {
      "cell_type": "markdown",
      "id": "fd779739",
      "metadata": {
        "id": "fd779739",
        "origin_pos": 76
      },
      "source": [
        "## Non-Reduction Sum\n",
        ":label:`subsec_lin-alg-non-reduction`\n",
        "\n",
        "Sometimes it can be useful to [**keep the number of axes unchanged**]\n",
        "when invoking the function for calculating the sum or mean.\n",
        "This matters when we want to use the broadcast mechanism.\n"
      ]
    },
    {
      "cell_type": "code",
      "execution_count": null,
      "id": "8e5d634a",
      "metadata": {
        "colab": {
          "base_uri": "https://localhost:8080/"
        },
        "execution": {
          "iopub.execute_input": "2023-08-18T21:50:13.136970Z",
          "iopub.status.busy": "2023-08-18T21:50:13.136449Z",
          "iopub.status.idle": "2023-08-18T21:50:13.142107Z",
          "shell.execute_reply": "2023-08-18T21:50:13.141328Z"
        },
        "id": "8e5d634a",
        "origin_pos": 77,
        "outputId": "5ae7f85d-4bf4-42f8-e5f8-6a345f711ea1",
        "tab": [
          "mxnet"
        ]
      },
      "outputs": [
        {
          "data": {
            "text/plain": [
              "(array([[ 3],\n",
              "        [12]]),\n",
              " (2, 1))"
            ]
          },
          "execution_count": 47,
          "metadata": {},
          "output_type": "execute_result"
        }
      ],
      "source": [
        "sum_A = A.sum(axis=1, keepdims=True)\n",
        "sum_A, sum_A.shape"
      ]
    },
    {
      "cell_type": "markdown",
      "id": "18dc9df0",
      "metadata": {
        "id": "18dc9df0",
        "origin_pos": 79
      },
      "source": [
        "For instance, since `sum_A` keeps its two axes after summing each row,\n",
        "we can (**divide `A` by `sum_A` with broadcasting**)\n",
        "to create a matrix where each row sums up to $1$.\n"
      ]
    },
    {
      "cell_type": "code",
      "execution_count": null,
      "id": "c571da23",
      "metadata": {
        "colab": {
          "base_uri": "https://localhost:8080/"
        },
        "execution": {
          "iopub.execute_input": "2023-08-18T21:50:13.145294Z",
          "iopub.status.busy": "2023-08-18T21:50:13.144782Z",
          "iopub.status.idle": "2023-08-18T21:50:13.150078Z",
          "shell.execute_reply": "2023-08-18T21:50:13.149301Z"
        },
        "id": "c571da23",
        "origin_pos": 80,
        "outputId": "0558f57c-ba58-4fec-bdfa-2f7c60f3d4f8",
        "tab": [
          "mxnet"
        ]
      },
      "outputs": [
        {
          "data": {
            "text/plain": [
              "array([[0.        , 0.33333333, 0.66666667],\n",
              "       [0.25      , 0.33333333, 0.41666667]])"
            ]
          },
          "execution_count": 48,
          "metadata": {},
          "output_type": "execute_result"
        }
      ],
      "source": [
        "A / sum_A"
      ]
    },
    {
      "cell_type": "markdown",
      "id": "a7773962",
      "metadata": {
        "id": "a7773962",
        "origin_pos": 81
      },
      "source": [
        "If we want to calculate [**the cumulative sum of elements of `A` along some axis**],\n",
        "say `axis=0` (row by row), we can call the `cumsum` function.\n",
        "By design, this function does not reduce the input tensor along any axis.\n"
      ]
    },
    {
      "cell_type": "code",
      "execution_count": null,
      "id": "51e3323b",
      "metadata": {
        "colab": {
          "base_uri": "https://localhost:8080/"
        },
        "execution": {
          "iopub.execute_input": "2023-08-18T21:50:13.153395Z",
          "iopub.status.busy": "2023-08-18T21:50:13.152758Z",
          "iopub.status.idle": "2023-08-18T21:50:13.158261Z",
          "shell.execute_reply": "2023-08-18T21:50:13.157481Z"
        },
        "id": "51e3323b",
        "origin_pos": 82,
        "outputId": "2e87dffe-3bbc-4eb2-e3dd-f129681cc13b",
        "tab": [
          "mxnet"
        ]
      },
      "outputs": [
        {
          "data": {
            "text/plain": [
              "array([[0, 1, 2],\n",
              "       [3, 5, 7]])"
            ]
          },
          "execution_count": 49,
          "metadata": {},
          "output_type": "execute_result"
        }
      ],
      "source": [
        "A.cumsum(axis=0)"
      ]
    },
    {
      "cell_type": "markdown",
      "id": "a84e43b7",
      "metadata": {
        "id": "a84e43b7",
        "origin_pos": 84
      },
      "source": [
        "## Dot Products\n",
        "\n",
        "So far, we have only performed elementwise operations, sums, and averages.\n",
        "And if this was all we could do, linear algebra\n",
        "would not deserve its own section.\n",
        "Fortunately, this is where things get more interesting.\n",
        "One of the most fundamental operations is the dot product.\n",
        "Given two vectors $\\mathbf{x}, \\mathbf{y} \\in \\mathbb{R}^d$,\n",
        "their *dot product* $\\mathbf{x}^\\top \\mathbf{y}$ (also known as *inner product*, $\\langle \\mathbf{x}, \\mathbf{y}  \\rangle$)\n",
        "is a sum over the products of the elements at the same position:\n",
        "$\\mathbf{x}^\\top \\mathbf{y} = \\sum_{i=1}^{d} x_i y_i$.\n",
        "\n",
        "[~~The *dot product* of two vectors is a sum over the products of the elements at the same position~~]\n"
      ]
    },
    {
      "cell_type": "code",
      "execution_count": null,
      "id": "e57ea305",
      "metadata": {
        "colab": {
          "base_uri": "https://localhost:8080/"
        },
        "execution": {
          "iopub.execute_input": "2023-08-18T21:50:13.161596Z",
          "iopub.status.busy": "2023-08-18T21:50:13.160965Z",
          "iopub.status.idle": "2023-08-18T21:50:13.167276Z",
          "shell.execute_reply": "2023-08-18T21:50:13.166512Z"
        },
        "id": "e57ea305",
        "origin_pos": 85,
        "outputId": "408f61cc-4cce-4c1a-fcac-446693b76117",
        "tab": [
          "mxnet"
        ]
      },
      "outputs": [
        {
          "data": {
            "text/plain": [
              "(array([0, 1, 2]), array([1., 1., 1.]), 3.0)"
            ]
          },
          "execution_count": 50,
          "metadata": {},
          "output_type": "execute_result"
        }
      ],
      "source": [
        "y = np.ones(3)\n",
        "x, y, np.dot(x, y)"
      ]
    },
    {
      "cell_type": "markdown",
      "id": "537f578b",
      "metadata": {
        "id": "537f578b",
        "origin_pos": 89
      },
      "source": [
        "Equivalently, (**we can calculate the dot product of two vectors\n",
        "by performing an elementwise multiplication followed by a sum:**)\n"
      ]
    },
    {
      "cell_type": "code",
      "execution_count": null,
      "id": "99aa438c",
      "metadata": {
        "colab": {
          "base_uri": "https://localhost:8080/"
        },
        "execution": {
          "iopub.execute_input": "2023-08-18T21:50:13.170520Z",
          "iopub.status.busy": "2023-08-18T21:50:13.170001Z",
          "iopub.status.idle": "2023-08-18T21:50:13.175477Z",
          "shell.execute_reply": "2023-08-18T21:50:13.174677Z"
        },
        "id": "99aa438c",
        "origin_pos": 90,
        "outputId": "c2568111-49c4-41cf-b5c7-127d9412cfcf",
        "tab": [
          "mxnet"
        ]
      },
      "outputs": [
        {
          "data": {
            "text/plain": [
              "3.0"
            ]
          },
          "execution_count": 51,
          "metadata": {},
          "output_type": "execute_result"
        }
      ],
      "source": [
        "np.sum(x * y)"
      ]
    },
    {
      "cell_type": "markdown",
      "id": "02c02cd2",
      "metadata": {
        "id": "02c02cd2",
        "origin_pos": 94
      },
      "source": [
        "Dot products are useful in a wide range of contexts.\n",
        "For example, given some set of values,\n",
        "denoted by a vector $\\mathbf{x}  \\in \\mathbb{R}^n$,\n",
        "and a set of weights, denoted by $\\mathbf{w} \\in \\mathbb{R}^n$,\n",
        "the weighted sum of the values in $\\mathbf{x}$\n",
        "according to the weights $\\mathbf{w}$\n",
        "could be expressed as the dot product $\\mathbf{x}^\\top \\mathbf{w}$.\n",
        "When the weights are nonnegative\n",
        "and sum to $1$, i.e., $\\left(\\sum_{i=1}^{n} {w_i} = 1\\right)$,\n",
        "the dot product expresses a *weighted average*.\n",
        "After normalizing two vectors to have unit length,\n",
        "the dot products express the cosine of the angle between them.\n",
        "Later in this section, we will formally introduce this notion of *length*.\n",
        "\n",
        "\n",
        "## Matrix--Vector Products\n",
        "\n",
        "Now that we know how to calculate dot products,\n",
        "we can begin to understand the *product*\n",
        "between an $m \\times n$ matrix $\\mathbf{A}$\n",
        "and an $n$-dimensional vector $\\mathbf{x}$.\n",
        "To start off, we visualize our matrix\n",
        "in terms of its row vectors\n",
        "\n",
        "$$\\mathbf{A}=\n",
        "\\begin{bmatrix}\n",
        "\\mathbf{a}^\\top_{1} \\\\\n",
        "\\mathbf{a}^\\top_{2} \\\\\n",
        "\\vdots \\\\\n",
        "\\mathbf{a}^\\top_m \\\\\n",
        "\\end{bmatrix},$$\n",
        "\n",
        "where each $\\mathbf{a}^\\top_{i} \\in \\mathbb{R}^n$\n",
        "is a row vector representing the $i^\\textrm{th}$ row\n",
        "of the matrix $\\mathbf{A}$.\n",
        "\n",
        "[**The matrix--vector product $\\mathbf{A}\\mathbf{x}$\n",
        "is simply a column vector of length $m$,\n",
        "whose $i^\\textrm{th}$ element is the dot product\n",
        "$\\mathbf{a}^\\top_i \\mathbf{x}$:**]\n",
        "\n",
        "$$\n",
        "\\mathbf{A}\\mathbf{x}\n",
        "= \\begin{bmatrix}\n",
        "\\mathbf{a}^\\top_{1} \\\\\n",
        "\\mathbf{a}^\\top_{2} \\\\\n",
        "\\vdots \\\\\n",
        "\\mathbf{a}^\\top_m \\\\\n",
        "\\end{bmatrix}\\mathbf{x}\n",
        "= \\begin{bmatrix}\n",
        " \\mathbf{a}^\\top_{1} \\mathbf{x}  \\\\\n",
        " \\mathbf{a}^\\top_{2} \\mathbf{x} \\\\\n",
        "\\vdots\\\\\n",
        " \\mathbf{a}^\\top_{m} \\mathbf{x}\\\\\n",
        "\\end{bmatrix}.\n",
        "$$\n",
        "\n",
        "We can think of multiplication with a matrix\n",
        "$\\mathbf{A}\\in \\mathbb{R}^{m \\times n}$\n",
        "as a transformation that projects vectors\n",
        "from $\\mathbb{R}^{n}$ to $\\mathbb{R}^{m}$.\n",
        "These transformations are remarkably useful.\n",
        "For example, we can represent rotations\n",
        "as multiplications by certain square matrices.\n",
        "Matrix--vector products also describe\n",
        "the key calculation involved in computing\n",
        "the outputs of each layer in a neural network\n",
        "given the outputs from the previous layer.\n"
      ]
    },
    {
      "cell_type": "markdown",
      "id": "fe109781",
      "metadata": {
        "id": "fe109781",
        "origin_pos": 95,
        "tab": [
          "mxnet"
        ]
      },
      "source": [
        "To express a matrix--vector product in code,\n",
        "we use the same `dot` function.\n",
        "The operation is inferred\n",
        "based on the type of the arguments.\n",
        "Note that the column dimension of `A`\n",
        "(its length along axis 1)\n",
        "must be the same as the dimension of `x` (its length).\n"
      ]
    },
    {
      "cell_type": "code",
      "execution_count": null,
      "id": "1fe318a5",
      "metadata": {
        "colab": {
          "base_uri": "https://localhost:8080/"
        },
        "execution": {
          "iopub.execute_input": "2023-08-18T21:50:13.178937Z",
          "iopub.status.busy": "2023-08-18T21:50:13.178296Z",
          "iopub.status.idle": "2023-08-18T21:50:13.183928Z",
          "shell.execute_reply": "2023-08-18T21:50:13.183139Z"
        },
        "id": "1fe318a5",
        "origin_pos": 98,
        "outputId": "c58310f9-8f43-432a-80ef-dce057571631",
        "tab": [
          "mxnet"
        ]
      },
      "outputs": [
        {
          "data": {
            "text/plain": [
              "((2, 3), (3,), array([ 5, 14]))"
            ]
          },
          "execution_count": 52,
          "metadata": {},
          "output_type": "execute_result"
        }
      ],
      "source": [
        "A.shape, x.shape, np.dot(A, x)"
      ]
    },
    {
      "cell_type": "markdown",
      "id": "cd5d4232",
      "metadata": {
        "id": "cd5d4232",
        "origin_pos": 102
      },
      "source": [
        "## Matrix--Matrix Multiplication\n",
        "\n",
        "Once you have gotten the hang of dot products and matrix--vector products,\n",
        "then *matrix--matrix multiplication* should be straightforward.\n",
        "\n",
        "Say that we have two matrices\n",
        "$\\mathbf{A} \\in \\mathbb{R}^{n \\times k}$\n",
        "and $\\mathbf{B} \\in \\mathbb{R}^{k \\times m}$:\n",
        "\n",
        "$$\\mathbf{A}=\\begin{bmatrix}\n",
        " a_{11} & a_{12} & \\cdots & a_{1k} \\\\\n",
        " a_{21} & a_{22} & \\cdots & a_{2k} \\\\\n",
        "\\vdots & \\vdots & \\ddots & \\vdots \\\\\n",
        " a_{n1} & a_{n2} & \\cdots & a_{nk} \\\\\n",
        "\\end{bmatrix},\\quad\n",
        "\\mathbf{B}=\\begin{bmatrix}\n",
        " b_{11} & b_{12} & \\cdots & b_{1m} \\\\\n",
        " b_{21} & b_{22} & \\cdots & b_{2m} \\\\\n",
        "\\vdots & \\vdots & \\ddots & \\vdots \\\\\n",
        " b_{k1} & b_{k2} & \\cdots & b_{km} \\\\\n",
        "\\end{bmatrix}.$$\n",
        "\n",
        "\n",
        "Let $\\mathbf{a}^\\top_{i} \\in \\mathbb{R}^k$ denote\n",
        "the row vector representing the $i^\\textrm{th}$ row\n",
        "of the matrix $\\mathbf{A}$\n",
        "and let $\\mathbf{b}_{j} \\in \\mathbb{R}^k$ denote\n",
        "the column vector from the $j^\\textrm{th}$ column\n",
        "of the matrix $\\mathbf{B}$:\n",
        "\n",
        "$$\\mathbf{A}=\n",
        "\\begin{bmatrix}\n",
        "\\mathbf{a}^\\top_{1} \\\\\n",
        "\\mathbf{a}^\\top_{2} \\\\\n",
        "\\vdots \\\\\n",
        "\\mathbf{a}^\\top_n \\\\\n",
        "\\end{bmatrix},\n",
        "\\quad \\mathbf{B}=\\begin{bmatrix}\n",
        " \\mathbf{b}_{1} & \\mathbf{b}_{2} & \\cdots & \\mathbf{b}_{m} \\\\\n",
        "\\end{bmatrix}.\n",
        "$$\n",
        "\n",
        "\n",
        "To form the matrix product $\\mathbf{C} \\in \\mathbb{R}^{n \\times m}$,\n",
        "we simply compute each element $c_{ij}$\n",
        "as the dot product between\n",
        "the $i^{\\textrm{th}}$ row of $\\mathbf{A}$\n",
        "and the $j^{\\textrm{th}}$ column of $\\mathbf{B}$,\n",
        "i.e., $\\mathbf{a}^\\top_i \\mathbf{b}_j$:\n",
        "\n",
        "$$\\mathbf{C} = \\mathbf{AB} = \\begin{bmatrix}\n",
        "\\mathbf{a}^\\top_{1} \\\\\n",
        "\\mathbf{a}^\\top_{2} \\\\\n",
        "\\vdots \\\\\n",
        "\\mathbf{a}^\\top_n \\\\\n",
        "\\end{bmatrix}\n",
        "\\begin{bmatrix}\n",
        " \\mathbf{b}_{1} & \\mathbf{b}_{2} & \\cdots & \\mathbf{b}_{m} \\\\\n",
        "\\end{bmatrix}\n",
        "= \\begin{bmatrix}\n",
        "\\mathbf{a}^\\top_{1} \\mathbf{b}_1 & \\mathbf{a}^\\top_{1}\\mathbf{b}_2& \\cdots & \\mathbf{a}^\\top_{1} \\mathbf{b}_m \\\\\n",
        " \\mathbf{a}^\\top_{2}\\mathbf{b}_1 & \\mathbf{a}^\\top_{2} \\mathbf{b}_2 & \\cdots & \\mathbf{a}^\\top_{2} \\mathbf{b}_m \\\\\n",
        " \\vdots & \\vdots & \\ddots &\\vdots\\\\\n",
        "\\mathbf{a}^\\top_{n} \\mathbf{b}_1 & \\mathbf{a}^\\top_{n}\\mathbf{b}_2& \\cdots& \\mathbf{a}^\\top_{n} \\mathbf{b}_m\n",
        "\\end{bmatrix}.\n",
        "$$\n",
        "\n",
        "[**We can think of the matrix--matrix multiplication $\\mathbf{AB}$\n",
        "as performing $m$ matrix--vector products\n",
        "or $m \\times n$ dot products\n",
        "and stitching the results together\n",
        "to form an $n \\times m$ matrix.**]\n",
        "In the following snippet,\n",
        "we perform matrix multiplication on `A` and `B`.\n",
        "Here, `A` is a matrix with two rows and three columns,\n",
        "and `B` is a matrix with three rows and four columns.\n",
        "After multiplication, we obtain a matrix with two rows and four columns.\n"
      ]
    },
    {
      "cell_type": "code",
      "execution_count": null,
      "id": "4454dbca",
      "metadata": {
        "colab": {
          "base_uri": "https://localhost:8080/"
        },
        "execution": {
          "iopub.execute_input": "2023-08-18T21:50:13.187271Z",
          "iopub.status.busy": "2023-08-18T21:50:13.186658Z",
          "iopub.status.idle": "2023-08-18T21:50:13.192573Z",
          "shell.execute_reply": "2023-08-18T21:50:13.191727Z"
        },
        "id": "4454dbca",
        "origin_pos": 103,
        "outputId": "eae612f3-ee08-4acd-cad7-42070c4d5b8a",
        "tab": [
          "mxnet"
        ]
      },
      "outputs": [
        {
          "data": {
            "text/plain": [
              "array([[ 3.,  3.,  3.,  3.],\n",
              "       [12., 12., 12., 12.]])"
            ]
          },
          "execution_count": 53,
          "metadata": {},
          "output_type": "execute_result"
        }
      ],
      "source": [
        "B = np.ones(shape=(3, 4))\n",
        "np.dot(A, B)"
      ]
    },
    {
      "cell_type": "markdown",
      "id": "b64d11be",
      "metadata": {
        "id": "b64d11be",
        "origin_pos": 107
      },
      "source": [
        "The term *matrix--matrix multiplication* is\n",
        "often simplified to *matrix multiplication*,\n",
        "and should not be confused with the Hadamard product.\n",
        "\n",
        "\n",
        "## Norms\n",
        ":label:`subsec_lin-algebra-norms`\n",
        "\n",
        "Some of the most useful operators in linear algebra are *norms*.\n",
        "Informally, the norm of a vector tells us how *big* it is.\n",
        "For instance, the $\\ell_2$ norm measures\n",
        "the (Euclidean) length of a vector.\n",
        "Here, we are employing a notion of *size* that concerns the magnitude of a vector's components\n",
        "(not its dimensionality).\n",
        "\n",
        "A norm is a function $\\| \\cdot \\|$ that maps a vector\n",
        "to a scalar and satisfies the following three properties:\n",
        "\n",
        "1. Given any vector $\\mathbf{x}$, if we scale (all elements of) the vector\n",
        "   by a scalar $\\alpha \\in \\mathbb{R}$, its norm scales accordingly:\n",
        "   $$\\|\\alpha \\mathbf{x}\\| = |\\alpha| \\|\\mathbf{x}\\|.$$\n",
        "2. For any vectors $\\mathbf{x}$ and $\\mathbf{y}$:\n",
        "   norms satisfy the triangle inequality:\n",
        "   $$\\|\\mathbf{x} + \\mathbf{y}\\| \\leq \\|\\mathbf{x}\\| + \\|\\mathbf{y}\\|.$$\n",
        "3. The norm of a vector is nonnegative and it only vanishes if the vector is zero:\n",
        "   $$\\|\\mathbf{x}\\| > 0 \\textrm{ for all } \\mathbf{x} \\neq 0.$$\n",
        "\n",
        "Many functions are valid norms and different norms\n",
        "encode different notions of size.\n",
        "The Euclidean norm that we all learned in elementary school geometry\n",
        "when calculating the hypotenuse of a right triangle\n",
        "is the square root of the sum of squares of a vector's elements.\n",
        "Formally, this is called [**the $\\ell_2$ *norm***] and expressed as\n",
        "\n",
        "(**$$\\|\\mathbf{x}\\|_2 = \\sqrt{\\sum_{i=1}^n x_i^2}.$$**)\n",
        "\n",
        "The method `norm` calculates the $\\ell_2$ norm.\n"
      ]
    },
    {
      "cell_type": "code",
      "execution_count": null,
      "id": "c2896e54",
      "metadata": {
        "colab": {
          "base_uri": "https://localhost:8080/"
        },
        "execution": {
          "iopub.execute_input": "2023-08-18T21:50:13.197417Z",
          "iopub.status.busy": "2023-08-18T21:50:13.196163Z",
          "iopub.status.idle": "2023-08-18T21:50:13.206726Z",
          "shell.execute_reply": "2023-08-18T21:50:13.205501Z"
        },
        "id": "c2896e54",
        "origin_pos": 108,
        "outputId": "f4bcfc5b-9169-47f5-8755-8dc543dd0b8d",
        "tab": [
          "mxnet"
        ]
      },
      "outputs": [
        {
          "data": {
            "text/plain": [
              "5.0"
            ]
          },
          "execution_count": 54,
          "metadata": {},
          "output_type": "execute_result"
        }
      ],
      "source": [
        "u = np.array([3, -4])\n",
        "np.linalg.norm(u)"
      ]
    },
    {
      "cell_type": "markdown",
      "id": "bcde5ed0",
      "metadata": {
        "id": "bcde5ed0",
        "origin_pos": 112
      },
      "source": [
        "[**The $\\ell_1$ norm**] is also common\n",
        "and the associated measure is called the Manhattan distance.\n",
        "By definition, the $\\ell_1$ norm sums\n",
        "the absolute values of a vector's elements:\n",
        "\n",
        "(**$$\\|\\mathbf{x}\\|_1 = \\sum_{i=1}^n \\left|x_i \\right|.$$**)\n",
        "\n",
        "Compared to the $\\ell_2$ norm, it is less sensitive to outliers.\n",
        "To compute the $\\ell_1$ norm,\n",
        "we compose the absolute value\n",
        "with the sum operation.\n"
      ]
    },
    {
      "cell_type": "code",
      "execution_count": null,
      "id": "e92f61f5",
      "metadata": {
        "colab": {
          "base_uri": "https://localhost:8080/"
        },
        "execution": {
          "iopub.execute_input": "2023-08-18T21:50:13.212804Z",
          "iopub.status.busy": "2023-08-18T21:50:13.212323Z",
          "iopub.status.idle": "2023-08-18T21:50:13.221092Z",
          "shell.execute_reply": "2023-08-18T21:50:13.219860Z"
        },
        "id": "e92f61f5",
        "origin_pos": 113,
        "outputId": "6c12c998-bd64-45a4-c072-36bab10e59d6",
        "tab": [
          "mxnet"
        ]
      },
      "outputs": [
        {
          "data": {
            "text/plain": [
              "7"
            ]
          },
          "execution_count": 55,
          "metadata": {},
          "output_type": "execute_result"
        }
      ],
      "source": [
        "np.abs(u).sum()"
      ]
    },
    {
      "cell_type": "markdown",
      "id": "187dcd7a",
      "metadata": {
        "id": "187dcd7a",
        "origin_pos": 117
      },
      "source": [
        "Both the $\\ell_2$ and $\\ell_1$ norms are special cases\n",
        "of the more general $\\ell_p$ *norms*:\n",
        "\n",
        "$$\\|\\mathbf{x}\\|_p = \\left(\\sum_{i=1}^n \\left|x_i \\right|^p \\right)^{1/p}.$$\n",
        "\n",
        "In the case of matrices, matters are more complicated.\n",
        "After all, matrices can be viewed both as collections of individual entries\n",
        "*and* as objects that operate on vectors and transform them into other vectors.\n",
        "For instance, we can ask by how much longer\n",
        "the matrix--vector product $\\mathbf{X} \\mathbf{v}$\n",
        "could be relative to $\\mathbf{v}$.\n",
        "This line of thought leads to what is called the *spectral* norm.\n",
        "For now, we introduce [**the *Frobenius norm*,\n",
        "which is much easier to compute**] and defined as\n",
        "the square root of the sum of the squares\n",
        "of a matrix's elements:\n",
        "\n",
        "[**$$\\|\\mathbf{X}\\|_\\textrm{F} = \\sqrt{\\sum_{i=1}^m \\sum_{j=1}^n x_{ij}^2}.$$**]\n",
        "\n",
        "The Frobenius norm behaves as if it were\n",
        "an $\\ell_2$ norm of a matrix-shaped vector.\n",
        "Invoking the following function will calculate\n",
        "the Frobenius norm of a matrix.\n"
      ]
    },
    {
      "cell_type": "code",
      "execution_count": null,
      "id": "7f48ace6",
      "metadata": {
        "colab": {
          "base_uri": "https://localhost:8080/"
        },
        "execution": {
          "iopub.execute_input": "2023-08-18T21:50:13.226537Z",
          "iopub.status.busy": "2023-08-18T21:50:13.225848Z",
          "iopub.status.idle": "2023-08-18T21:50:13.236685Z",
          "shell.execute_reply": "2023-08-18T21:50:13.235344Z"
        },
        "id": "7f48ace6",
        "origin_pos": 118,
        "outputId": "6e638c90-f794-4d9b-b227-830d460f4404",
        "tab": [
          "mxnet"
        ]
      },
      "outputs": [
        {
          "data": {
            "text/plain": [
              "6.0"
            ]
          },
          "execution_count": 56,
          "metadata": {},
          "output_type": "execute_result"
        }
      ],
      "source": [
        "np.linalg.norm(np.ones((4, 9)))"
      ]
    },
    {
      "cell_type": "code",
      "execution_count": null,
      "id": "8hvo3uZPFbLp",
      "metadata": {
        "id": "8hvo3uZPFbLp"
      },
      "outputs": [],
      "source": []
    },
    {
      "cell_type": "markdown",
      "id": "cKTXtJRZFbrz",
      "metadata": {
        "id": "cKTXtJRZFbrz"
      },
      "source": [
        "Powered by d2l.ai"
      ]
    },
    {
      "cell_type": "code",
      "execution_count": null,
      "id": "qn3Cla4dl4Sz",
      "metadata": {
        "colab": {
          "base_uri": "https://localhost:8080/"
        },
        "id": "qn3Cla4dl4Sz",
        "outputId": "6dc7de16-afb9-42d9-9e72-318e33b4a7e1"
      },
      "outputs": [
        {
          "data": {
            "text/plain": [
              "array([[ 0.        , -1.22474487,  1.33630621],\n",
              "       [ 1.22474487,  0.        , -0.26726124],\n",
              "       [-1.22474487,  1.22474487, -1.06904497]])"
            ]
          },
          "execution_count": 2,
          "metadata": {},
          "output_type": "execute_result"
        }
      ],
      "source": [
        "from sklearn import preprocessing\n",
        "import numpy as np\n",
        "X_train = np.array([[ 1., -1.,  2.],\n",
        "                   [ 2.,  0.,  0.],\n",
        "                     [ 0.,  1., -1.]])\n",
        "scaler = preprocessing.StandardScaler().fit(X_train)\n",
        "\n",
        "X_scaled = scaler.transform(X_train)\n",
        "X_scaled\n"
      ]
    },
    {
      "cell_type": "markdown",
      "id": "6UDlI_dZmKhu",
      "metadata": {
        "id": "6UDlI_dZmKhu"
      },
      "source": [
        "The standard score of a sample x is calculated as:\n",
        "\n",
        "    z = (x - u) / s\n",
        "\n",
        "where u is the mean of the training samples or zero if with_mean=False, and s is the standard deviation of the training samples or one if with_std=False."
      ]
    },
    {
      "cell_type": "code",
      "execution_count": null,
      "id": "xmRBpt6Fl-yd",
      "metadata": {
        "colab": {
          "base_uri": "https://localhost:8080/"
        },
        "id": "xmRBpt6Fl-yd",
        "outputId": "6b3f09c3-862d-48a7-de4a-7f4678b6fade"
      },
      "outputs": [
        {
          "data": {
            "text/plain": [
              "array([[0.5       , 0.        , 1.        ],\n",
              "       [1.        , 0.5       , 0.33333333],\n",
              "       [0.        , 1.        , 0.        ]])"
            ]
          },
          "execution_count": 3,
          "metadata": {},
          "output_type": "execute_result"
        }
      ],
      "source": [
        "from sklearn import preprocessing\n",
        "import numpy as np\n",
        "X_train = np.array([[ 1., -1.,  2.],\n",
        "                   [ 2.,  0.,  0.],\n",
        "                     [ 0.,  1., -1.]])\n",
        "scaler = preprocessing.MinMaxScaler().fit(X_train)\n",
        "\n",
        "X_scaled = scaler.transform(X_train)\n",
        "X_scaled\n"
      ]
    },
    {
      "cell_type": "markdown",
      "id": "yQNId6JtmLTM",
      "metadata": {
        "id": "yQNId6JtmLTM"
      },
      "source": [
        "The transformation is given by:\n",
        "\n",
        "X_std = (X - X.min(axis=0)) / (X.max(axis=0) - X.min(axis=0))\n",
        "\n",
        "X_scaled = X_std * (max - min) + min\n"
      ]
    }
  ],
  "metadata": {
    "colab": {
      "provenance": []
    },
    "kernelspec": {
      "display_name": "Python 3",
      "name": "python3"
    },
    "language_info": {
      "name": "python"
    },
    "required_libs": []
  },
  "nbformat": 4,
  "nbformat_minor": 5
}
