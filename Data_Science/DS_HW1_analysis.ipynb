{
  "cells": [
    {
      "cell_type": "markdown",
      "metadata": {
        "id": "d98nNwrkutHn"
      },
      "source": [
        "\n",
        "\n",
        "Dear students, in this homework, you will analyze the Titanic dataset. Please read the tasks carefully and ask any questions you have on Discord. The homework consists of 10 tasks with a total of 10 points, but bonus points may be awarded for accuracy in task 10. Good luck and have fun!"
      ]
    },
    {
      "cell_type": "code",
      "execution_count": 1,
      "metadata": {
        "id": "-hW8Jpt2fwf1"
      },
      "outputs": [],
      "source": [
        "import pandas as pd"
      ]
    },
    {
      "cell_type": "markdown",
      "metadata": {
        "id": "2SjYM6MpgJSH"
      },
      "source": [
        "##Task 1. Read the data and display top 5 rows(0.5 pt)"
      ]
    },
    {
      "cell_type": "code",
      "execution_count": 2,
      "metadata": {
        "id": "ism1cUWYk-N1"
      },
      "outputs": [
        {
          "data": {
            "text/html": [
              "<div>\n",
              "<style scoped>\n",
              "    .dataframe tbody tr th:only-of-type {\n",
              "        vertical-align: middle;\n",
              "    }\n",
              "\n",
              "    .dataframe tbody tr th {\n",
              "        vertical-align: top;\n",
              "    }\n",
              "\n",
              "    .dataframe thead th {\n",
              "        text-align: right;\n",
              "    }\n",
              "</style>\n",
              "<table border=\"1\" class=\"dataframe\">\n",
              "  <thead>\n",
              "    <tr style=\"text-align: right;\">\n",
              "      <th></th>\n",
              "      <th>PassengerId</th>\n",
              "      <th>Survived</th>\n",
              "      <th>Pclass</th>\n",
              "      <th>Name</th>\n",
              "      <th>Sex</th>\n",
              "      <th>Age</th>\n",
              "      <th>SibSp</th>\n",
              "      <th>Parch</th>\n",
              "      <th>Ticket</th>\n",
              "      <th>Fare</th>\n",
              "      <th>Cabin</th>\n",
              "      <th>Embarked</th>\n",
              "    </tr>\n",
              "  </thead>\n",
              "  <tbody>\n",
              "    <tr>\n",
              "      <th>0</th>\n",
              "      <td>1</td>\n",
              "      <td>0</td>\n",
              "      <td>3</td>\n",
              "      <td>Braund, Mr. Owen Harris</td>\n",
              "      <td>male</td>\n",
              "      <td>22.0</td>\n",
              "      <td>1</td>\n",
              "      <td>0</td>\n",
              "      <td>A/5 21171</td>\n",
              "      <td>7.2500</td>\n",
              "      <td>NaN</td>\n",
              "      <td>S</td>\n",
              "    </tr>\n",
              "    <tr>\n",
              "      <th>1</th>\n",
              "      <td>2</td>\n",
              "      <td>1</td>\n",
              "      <td>1</td>\n",
              "      <td>Cumings, Mrs. John Bradley (Florence Briggs Th...</td>\n",
              "      <td>female</td>\n",
              "      <td>38.0</td>\n",
              "      <td>1</td>\n",
              "      <td>0</td>\n",
              "      <td>PC 17599</td>\n",
              "      <td>71.2833</td>\n",
              "      <td>C85</td>\n",
              "      <td>C</td>\n",
              "    </tr>\n",
              "    <tr>\n",
              "      <th>2</th>\n",
              "      <td>3</td>\n",
              "      <td>1</td>\n",
              "      <td>3</td>\n",
              "      <td>Heikkinen, Miss. Laina</td>\n",
              "      <td>female</td>\n",
              "      <td>26.0</td>\n",
              "      <td>0</td>\n",
              "      <td>0</td>\n",
              "      <td>STON/O2. 3101282</td>\n",
              "      <td>7.9250</td>\n",
              "      <td>NaN</td>\n",
              "      <td>S</td>\n",
              "    </tr>\n",
              "    <tr>\n",
              "      <th>3</th>\n",
              "      <td>4</td>\n",
              "      <td>1</td>\n",
              "      <td>1</td>\n",
              "      <td>Futrelle, Mrs. Jacques Heath (Lily May Peel)</td>\n",
              "      <td>female</td>\n",
              "      <td>35.0</td>\n",
              "      <td>1</td>\n",
              "      <td>0</td>\n",
              "      <td>113803</td>\n",
              "      <td>53.1000</td>\n",
              "      <td>C123</td>\n",
              "      <td>S</td>\n",
              "    </tr>\n",
              "    <tr>\n",
              "      <th>4</th>\n",
              "      <td>5</td>\n",
              "      <td>0</td>\n",
              "      <td>3</td>\n",
              "      <td>Allen, Mr. William Henry</td>\n",
              "      <td>male</td>\n",
              "      <td>35.0</td>\n",
              "      <td>0</td>\n",
              "      <td>0</td>\n",
              "      <td>373450</td>\n",
              "      <td>8.0500</td>\n",
              "      <td>NaN</td>\n",
              "      <td>S</td>\n",
              "    </tr>\n",
              "  </tbody>\n",
              "</table>\n",
              "</div>"
            ],
            "text/plain": [
              "   PassengerId  Survived  Pclass  \\\n",
              "0            1         0       3   \n",
              "1            2         1       1   \n",
              "2            3         1       3   \n",
              "3            4         1       1   \n",
              "4            5         0       3   \n",
              "\n",
              "                                                Name     Sex   Age  SibSp  \\\n",
              "0                            Braund, Mr. Owen Harris    male  22.0      1   \n",
              "1  Cumings, Mrs. John Bradley (Florence Briggs Th...  female  38.0      1   \n",
              "2                             Heikkinen, Miss. Laina  female  26.0      0   \n",
              "3       Futrelle, Mrs. Jacques Heath (Lily May Peel)  female  35.0      1   \n",
              "4                           Allen, Mr. William Henry    male  35.0      0   \n",
              "\n",
              "   Parch            Ticket     Fare Cabin Embarked  \n",
              "0      0         A/5 21171   7.2500   NaN        S  \n",
              "1      0          PC 17599  71.2833   C85        C  \n",
              "2      0  STON/O2. 3101282   7.9250   NaN        S  \n",
              "3      0            113803  53.1000  C123        S  \n",
              "4      0            373450   8.0500   NaN        S  "
            ]
          },
          "execution_count": 2,
          "metadata": {},
          "output_type": "execute_result"
        }
      ],
      "source": [
        "df = pd.read_csv(\"train.csv\")\n",
        "df.head()"
      ]
    },
    {
      "cell_type": "markdown",
      "metadata": {
        "id": "QPbzl7DbqRpp"
      },
      "source": [
        "##Task 2. Print dataframe's columns names and dimensionality(0.5 pt)"
      ]
    },
    {
      "cell_type": "code",
      "execution_count": 3,
      "metadata": {},
      "outputs": [
        {
          "data": {
            "text/plain": [
              "Index(['PassengerId', 'Survived', 'Pclass', 'Name', 'Sex', 'Age', 'SibSp',\n",
              "       'Parch', 'Ticket', 'Fare', 'Cabin', 'Embarked'],\n",
              "      dtype='object')"
            ]
          },
          "execution_count": 3,
          "metadata": {},
          "output_type": "execute_result"
        }
      ],
      "source": [
        "# bare minimum\n",
        "df.columns"
      ]
    },
    {
      "cell_type": "code",
      "execution_count": 4,
      "metadata": {},
      "outputs": [
        {
          "data": {
            "text/plain": [
              "(891, 12)"
            ]
          },
          "execution_count": 4,
          "metadata": {},
          "output_type": "execute_result"
        }
      ],
      "source": [
        "# bare minimum\n",
        "df.shape"
      ]
    },
    {
      "cell_type": "code",
      "execution_count": 5,
      "metadata": {
        "id": "o2zPw5Lak-kP"
      },
      "outputs": [
        {
          "name": "stdout",
          "output_type": "stream",
          "text": [
            "Columns:\n",
            "PassengerId\n",
            "Survived\n",
            "Pclass\n",
            "Name\n",
            "Sex\n",
            "Age\n",
            "SibSp\n",
            "Parch\n",
            "Ticket\n",
            "Fare\n",
            "Cabin\n",
            "Embarked\n",
            "\n",
            "The number of columns is 12, the number of rows is 891\n"
          ]
        }
      ],
      "source": [
        "# or you can do it in more fancy way, though it's not needed\n",
        "# from now on only the bare minimum will be shown\n",
        "print('Columns:')\n",
        "for c in df.columns: print(c)\n",
        "print('')\n",
        "print(f\"The number of columns is {df.shape[1]}, the number of rows is {df.shape[0]}\")"
      ]
    },
    {
      "cell_type": "markdown",
      "metadata": {
        "id": "TBPVlJd1gcSs"
      },
      "source": [
        "##Task 3. Calculate how many men and women are in the dataset (0.5 pt)\n"
      ]
    },
    {
      "cell_type": "code",
      "execution_count": 6,
      "metadata": {
        "id": "RbR2-xlwk-8C"
      },
      "outputs": [
        {
          "data": {
            "text/plain": [
              "Sex\n",
              "male      577\n",
              "female    314\n",
              "Name: count, dtype: int64"
            ]
          },
          "execution_count": 6,
          "metadata": {},
          "output_type": "execute_result"
        }
      ],
      "source": [
        "df[\"Sex\"].value_counts()"
      ]
    },
    {
      "cell_type": "markdown",
      "metadata": {
        "id": "70tg91GngxU5"
      },
      "source": [
        "#Task 4. Calculate survival rate for men and women (0.5 pt)"
      ]
    },
    {
      "cell_type": "code",
      "execution_count": 7,
      "metadata": {
        "id": "XDRFdWXPk_Tc"
      },
      "outputs": [
        {
          "name": "stdout",
          "output_type": "stream",
          "text": [
            "Sex\n",
            "female    0.742038\n",
            "male      0.188908\n",
            "Name: Survived, dtype: float64\n"
          ]
        }
      ],
      "source": [
        "survival_rate = df.groupby('Sex')['Survived'].mean()\n",
        "\n",
        "print(survival_rate)"
      ]
    },
    {
      "cell_type": "markdown",
      "metadata": {
        "id": "CFfvBxseiCND"
      },
      "source": [
        "#Task 5. Group the data by Pclass and and display statistics on Age and Fare (1 pt)"
      ]
    },
    {
      "cell_type": "code",
      "execution_count": 8,
      "metadata": {
        "id": "okhR3SU9lACa"
      },
      "outputs": [
        {
          "data": {
            "text/html": [
              "<div>\n",
              "<style scoped>\n",
              "    .dataframe tbody tr th:only-of-type {\n",
              "        vertical-align: middle;\n",
              "    }\n",
              "\n",
              "    .dataframe tbody tr th {\n",
              "        vertical-align: top;\n",
              "    }\n",
              "\n",
              "    .dataframe thead tr th {\n",
              "        text-align: left;\n",
              "    }\n",
              "\n",
              "    .dataframe thead tr:last-of-type th {\n",
              "        text-align: right;\n",
              "    }\n",
              "</style>\n",
              "<table border=\"1\" class=\"dataframe\">\n",
              "  <thead>\n",
              "    <tr>\n",
              "      <th></th>\n",
              "      <th colspan=\"8\" halign=\"left\">Age</th>\n",
              "      <th colspan=\"8\" halign=\"left\">Fare</th>\n",
              "    </tr>\n",
              "    <tr>\n",
              "      <th></th>\n",
              "      <th>count</th>\n",
              "      <th>mean</th>\n",
              "      <th>std</th>\n",
              "      <th>min</th>\n",
              "      <th>25%</th>\n",
              "      <th>50%</th>\n",
              "      <th>75%</th>\n",
              "      <th>max</th>\n",
              "      <th>count</th>\n",
              "      <th>mean</th>\n",
              "      <th>std</th>\n",
              "      <th>min</th>\n",
              "      <th>25%</th>\n",
              "      <th>50%</th>\n",
              "      <th>75%</th>\n",
              "      <th>max</th>\n",
              "    </tr>\n",
              "    <tr>\n",
              "      <th>Pclass</th>\n",
              "      <th></th>\n",
              "      <th></th>\n",
              "      <th></th>\n",
              "      <th></th>\n",
              "      <th></th>\n",
              "      <th></th>\n",
              "      <th></th>\n",
              "      <th></th>\n",
              "      <th></th>\n",
              "      <th></th>\n",
              "      <th></th>\n",
              "      <th></th>\n",
              "      <th></th>\n",
              "      <th></th>\n",
              "      <th></th>\n",
              "      <th></th>\n",
              "    </tr>\n",
              "  </thead>\n",
              "  <tbody>\n",
              "    <tr>\n",
              "      <th>1</th>\n",
              "      <td>186.0</td>\n",
              "      <td>38.233441</td>\n",
              "      <td>14.802856</td>\n",
              "      <td>0.92</td>\n",
              "      <td>27.0</td>\n",
              "      <td>37.0</td>\n",
              "      <td>49.0</td>\n",
              "      <td>80.0</td>\n",
              "      <td>216.0</td>\n",
              "      <td>84.154687</td>\n",
              "      <td>78.380373</td>\n",
              "      <td>0.0</td>\n",
              "      <td>30.92395</td>\n",
              "      <td>60.2875</td>\n",
              "      <td>93.5</td>\n",
              "      <td>512.3292</td>\n",
              "    </tr>\n",
              "    <tr>\n",
              "      <th>2</th>\n",
              "      <td>173.0</td>\n",
              "      <td>29.877630</td>\n",
              "      <td>14.001077</td>\n",
              "      <td>0.67</td>\n",
              "      <td>23.0</td>\n",
              "      <td>29.0</td>\n",
              "      <td>36.0</td>\n",
              "      <td>70.0</td>\n",
              "      <td>184.0</td>\n",
              "      <td>20.662183</td>\n",
              "      <td>13.417399</td>\n",
              "      <td>0.0</td>\n",
              "      <td>13.00000</td>\n",
              "      <td>14.2500</td>\n",
              "      <td>26.0</td>\n",
              "      <td>73.5000</td>\n",
              "    </tr>\n",
              "    <tr>\n",
              "      <th>3</th>\n",
              "      <td>355.0</td>\n",
              "      <td>25.140620</td>\n",
              "      <td>12.495398</td>\n",
              "      <td>0.42</td>\n",
              "      <td>18.0</td>\n",
              "      <td>24.0</td>\n",
              "      <td>32.0</td>\n",
              "      <td>74.0</td>\n",
              "      <td>491.0</td>\n",
              "      <td>13.675550</td>\n",
              "      <td>11.778142</td>\n",
              "      <td>0.0</td>\n",
              "      <td>7.75000</td>\n",
              "      <td>8.0500</td>\n",
              "      <td>15.5</td>\n",
              "      <td>69.5500</td>\n",
              "    </tr>\n",
              "  </tbody>\n",
              "</table>\n",
              "</div>"
            ],
            "text/plain": [
              "          Age                                                       Fare  \\\n",
              "        count       mean        std   min   25%   50%   75%   max  count   \n",
              "Pclass                                                                     \n",
              "1       186.0  38.233441  14.802856  0.92  27.0  37.0  49.0  80.0  216.0   \n",
              "2       173.0  29.877630  14.001077  0.67  23.0  29.0  36.0  70.0  184.0   \n",
              "3       355.0  25.140620  12.495398  0.42  18.0  24.0  32.0  74.0  491.0   \n",
              "\n",
              "                                                                      \n",
              "             mean        std  min       25%      50%   75%       max  \n",
              "Pclass                                                                \n",
              "1       84.154687  78.380373  0.0  30.92395  60.2875  93.5  512.3292  \n",
              "2       20.662183  13.417399  0.0  13.00000  14.2500  26.0   73.5000  \n",
              "3       13.675550  11.778142  0.0   7.75000   8.0500  15.5   69.5500  "
            ]
          },
          "execution_count": 8,
          "metadata": {},
          "output_type": "execute_result"
        }
      ],
      "source": [
        "df.groupby(['Pclass'])[['Age', 'Fare']].describe()"
      ]
    },
    {
      "cell_type": "markdown",
      "metadata": {
        "id": "1iKAvDNKiuFV"
      },
      "source": [
        "#Task 6. What is the most popular family name in the dataset (1 pt)"
      ]
    },
    {
      "cell_type": "code",
      "execution_count": 9,
      "metadata": {
        "id": "LeGmxqQwlAhU"
      },
      "outputs": [
        {
          "name": "stdout",
          "output_type": "stream",
          "text": [
            "The most popular family name is 'Andersson' with a count of 9.\n"
          ]
        }
      ],
      "source": [
        "# Splitting the names to extract the last name (assuming last names are the first word in the 'Name' column)\n",
        "last_names = df['Name'].apply(lambda x: x.split(',')[0])\n",
        "\n",
        "\n",
        "# Display the most popular family name and its count\n",
        "print(f\"The most popular family name is '{last_names.value_counts().idxmax()}' with a count of {last_names.value_counts().max()}.\")\n"
      ]
    },
    {
      "cell_type": "markdown",
      "metadata": {
        "id": "S8WQv-zij1sU"
      },
      "source": [
        "##Task 7. What is the mean and std for all columns for survived male passengers (1 pt)"
      ]
    },
    {
      "cell_type": "code",
      "execution_count": 10,
      "metadata": {
        "id": "Gz7QQo9AlBL7"
      },
      "outputs": [
        {
          "data": {
            "text/html": [
              "<div>\n",
              "<style scoped>\n",
              "    .dataframe tbody tr th:only-of-type {\n",
              "        vertical-align: middle;\n",
              "    }\n",
              "\n",
              "    .dataframe tbody tr th {\n",
              "        vertical-align: top;\n",
              "    }\n",
              "\n",
              "    .dataframe thead th {\n",
              "        text-align: right;\n",
              "    }\n",
              "</style>\n",
              "<table border=\"1\" class=\"dataframe\">\n",
              "  <thead>\n",
              "    <tr style=\"text-align: right;\">\n",
              "      <th></th>\n",
              "      <th>PassengerId</th>\n",
              "      <th>Survived</th>\n",
              "      <th>Pclass</th>\n",
              "      <th>Age</th>\n",
              "      <th>SibSp</th>\n",
              "      <th>Parch</th>\n",
              "      <th>Fare</th>\n",
              "    </tr>\n",
              "  </thead>\n",
              "  <tbody>\n",
              "    <tr>\n",
              "      <th>count</th>\n",
              "      <td>109.000000</td>\n",
              "      <td>109.0</td>\n",
              "      <td>109.000000</td>\n",
              "      <td>93.000000</td>\n",
              "      <td>109.000000</td>\n",
              "      <td>109.000000</td>\n",
              "      <td>109.000000</td>\n",
              "    </tr>\n",
              "    <tr>\n",
              "      <th>mean</th>\n",
              "      <td>475.724771</td>\n",
              "      <td>1.0</td>\n",
              "      <td>2.018349</td>\n",
              "      <td>27.276022</td>\n",
              "      <td>0.385321</td>\n",
              "      <td>0.357798</td>\n",
              "      <td>40.821484</td>\n",
              "    </tr>\n",
              "    <tr>\n",
              "      <th>std</th>\n",
              "      <td>244.717482</td>\n",
              "      <td>0.0</td>\n",
              "      <td>0.922774</td>\n",
              "      <td>16.504803</td>\n",
              "      <td>0.636952</td>\n",
              "      <td>0.645826</td>\n",
              "      <td>71.355967</td>\n",
              "    </tr>\n",
              "    <tr>\n",
              "      <th>min</th>\n",
              "      <td>18.000000</td>\n",
              "      <td>1.0</td>\n",
              "      <td>1.000000</td>\n",
              "      <td>0.420000</td>\n",
              "      <td>0.000000</td>\n",
              "      <td>0.000000</td>\n",
              "      <td>0.000000</td>\n",
              "    </tr>\n",
              "    <tr>\n",
              "      <th>25%</th>\n",
              "      <td>272.000000</td>\n",
              "      <td>1.0</td>\n",
              "      <td>1.000000</td>\n",
              "      <td>18.000000</td>\n",
              "      <td>0.000000</td>\n",
              "      <td>0.000000</td>\n",
              "      <td>9.500000</td>\n",
              "    </tr>\n",
              "    <tr>\n",
              "      <th>50%</th>\n",
              "      <td>508.000000</td>\n",
              "      <td>1.0</td>\n",
              "      <td>2.000000</td>\n",
              "      <td>28.000000</td>\n",
              "      <td>0.000000</td>\n",
              "      <td>0.000000</td>\n",
              "      <td>26.287500</td>\n",
              "    </tr>\n",
              "    <tr>\n",
              "      <th>75%</th>\n",
              "      <td>680.000000</td>\n",
              "      <td>1.0</td>\n",
              "      <td>3.000000</td>\n",
              "      <td>36.000000</td>\n",
              "      <td>1.000000</td>\n",
              "      <td>1.000000</td>\n",
              "      <td>39.000000</td>\n",
              "    </tr>\n",
              "    <tr>\n",
              "      <th>max</th>\n",
              "      <td>890.000000</td>\n",
              "      <td>1.0</td>\n",
              "      <td>3.000000</td>\n",
              "      <td>80.000000</td>\n",
              "      <td>4.000000</td>\n",
              "      <td>2.000000</td>\n",
              "      <td>512.329200</td>\n",
              "    </tr>\n",
              "  </tbody>\n",
              "</table>\n",
              "</div>"
            ],
            "text/plain": [
              "       PassengerId  Survived      Pclass        Age       SibSp       Parch  \\\n",
              "count   109.000000     109.0  109.000000  93.000000  109.000000  109.000000   \n",
              "mean    475.724771       1.0    2.018349  27.276022    0.385321    0.357798   \n",
              "std     244.717482       0.0    0.922774  16.504803    0.636952    0.645826   \n",
              "min      18.000000       1.0    1.000000   0.420000    0.000000    0.000000   \n",
              "25%     272.000000       1.0    1.000000  18.000000    0.000000    0.000000   \n",
              "50%     508.000000       1.0    2.000000  28.000000    0.000000    0.000000   \n",
              "75%     680.000000       1.0    3.000000  36.000000    1.000000    1.000000   \n",
              "max     890.000000       1.0    3.000000  80.000000    4.000000    2.000000   \n",
              "\n",
              "             Fare  \n",
              "count  109.000000  \n",
              "mean    40.821484  \n",
              "std     71.355967  \n",
              "min      0.000000  \n",
              "25%      9.500000  \n",
              "50%     26.287500  \n",
              "75%     39.000000  \n",
              "max    512.329200  "
            ]
          },
          "execution_count": 10,
          "metadata": {},
          "output_type": "execute_result"
        }
      ],
      "source": [
        "# Selecting rows where 'Survived' is 1 (survived) and 'Sex' is 'male'\n",
        "survived_males = df[(df['Survived'] == 1) & (df['Sex'] == 'male')]\n",
        "\n",
        "survived_males.describe()"
      ]
    },
    {
      "cell_type": "markdown",
      "metadata": {
        "id": "j6P-ivT2k12p"
      },
      "source": [
        "#Task 8. Display rows from 40th to 60th (in numeration from zero) (1 pt)"
      ]
    },
    {
      "cell_type": "code",
      "execution_count": 11,
      "metadata": {
        "id": "IGXepZZglB3U"
      },
      "outputs": [
        {
          "data": {
            "text/html": [
              "<div>\n",
              "<style scoped>\n",
              "    .dataframe tbody tr th:only-of-type {\n",
              "        vertical-align: middle;\n",
              "    }\n",
              "\n",
              "    .dataframe tbody tr th {\n",
              "        vertical-align: top;\n",
              "    }\n",
              "\n",
              "    .dataframe thead th {\n",
              "        text-align: right;\n",
              "    }\n",
              "</style>\n",
              "<table border=\"1\" class=\"dataframe\">\n",
              "  <thead>\n",
              "    <tr style=\"text-align: right;\">\n",
              "      <th></th>\n",
              "      <th>PassengerId</th>\n",
              "      <th>Survived</th>\n",
              "      <th>Pclass</th>\n",
              "      <th>Name</th>\n",
              "      <th>Sex</th>\n",
              "      <th>Age</th>\n",
              "      <th>SibSp</th>\n",
              "      <th>Parch</th>\n",
              "      <th>Ticket</th>\n",
              "      <th>Fare</th>\n",
              "      <th>Cabin</th>\n",
              "      <th>Embarked</th>\n",
              "    </tr>\n",
              "  </thead>\n",
              "  <tbody>\n",
              "    <tr>\n",
              "      <th>40</th>\n",
              "      <td>41</td>\n",
              "      <td>0</td>\n",
              "      <td>3</td>\n",
              "      <td>Ahlin, Mrs. Johan (Johanna Persdotter Larsson)</td>\n",
              "      <td>female</td>\n",
              "      <td>40.0</td>\n",
              "      <td>1</td>\n",
              "      <td>0</td>\n",
              "      <td>7546</td>\n",
              "      <td>9.4750</td>\n",
              "      <td>NaN</td>\n",
              "      <td>S</td>\n",
              "    </tr>\n",
              "    <tr>\n",
              "      <th>41</th>\n",
              "      <td>42</td>\n",
              "      <td>0</td>\n",
              "      <td>2</td>\n",
              "      <td>Turpin, Mrs. William John Robert (Dorothy Ann ...</td>\n",
              "      <td>female</td>\n",
              "      <td>27.0</td>\n",
              "      <td>1</td>\n",
              "      <td>0</td>\n",
              "      <td>11668</td>\n",
              "      <td>21.0000</td>\n",
              "      <td>NaN</td>\n",
              "      <td>S</td>\n",
              "    </tr>\n",
              "    <tr>\n",
              "      <th>42</th>\n",
              "      <td>43</td>\n",
              "      <td>0</td>\n",
              "      <td>3</td>\n",
              "      <td>Kraeff, Mr. Theodor</td>\n",
              "      <td>male</td>\n",
              "      <td>NaN</td>\n",
              "      <td>0</td>\n",
              "      <td>0</td>\n",
              "      <td>349253</td>\n",
              "      <td>7.8958</td>\n",
              "      <td>NaN</td>\n",
              "      <td>C</td>\n",
              "    </tr>\n",
              "  </tbody>\n",
              "</table>\n",
              "</div>"
            ],
            "text/plain": [
              "    PassengerId  Survived  Pclass  \\\n",
              "40           41         0       3   \n",
              "41           42         0       2   \n",
              "42           43         0       3   \n",
              "\n",
              "                                                 Name     Sex   Age  SibSp  \\\n",
              "40     Ahlin, Mrs. Johan (Johanna Persdotter Larsson)  female  40.0      1   \n",
              "41  Turpin, Mrs. William John Robert (Dorothy Ann ...  female  27.0      1   \n",
              "42                                Kraeff, Mr. Theodor    male   NaN      0   \n",
              "\n",
              "    Parch  Ticket     Fare Cabin Embarked  \n",
              "40      0    7546   9.4750   NaN        S  \n",
              "41      0   11668  21.0000   NaN        S  \n",
              "42      0  349253   7.8958   NaN        C  "
            ]
          },
          "execution_count": 11,
          "metadata": {},
          "output_type": "execute_result"
        }
      ],
      "source": [
        "# the key idea here is to use either df.loc[40:60] or df.iloc[40:61]\n",
        "# here are two examples of smaller samples to make it easy to see the difference\n",
        "df.loc[40:42]"
      ]
    },
    {
      "cell_type": "code",
      "execution_count": 12,
      "metadata": {},
      "outputs": [
        {
          "data": {
            "text/html": [
              "<div>\n",
              "<style scoped>\n",
              "    .dataframe tbody tr th:only-of-type {\n",
              "        vertical-align: middle;\n",
              "    }\n",
              "\n",
              "    .dataframe tbody tr th {\n",
              "        vertical-align: top;\n",
              "    }\n",
              "\n",
              "    .dataframe thead th {\n",
              "        text-align: right;\n",
              "    }\n",
              "</style>\n",
              "<table border=\"1\" class=\"dataframe\">\n",
              "  <thead>\n",
              "    <tr style=\"text-align: right;\">\n",
              "      <th></th>\n",
              "      <th>PassengerId</th>\n",
              "      <th>Survived</th>\n",
              "      <th>Pclass</th>\n",
              "      <th>Name</th>\n",
              "      <th>Sex</th>\n",
              "      <th>Age</th>\n",
              "      <th>SibSp</th>\n",
              "      <th>Parch</th>\n",
              "      <th>Ticket</th>\n",
              "      <th>Fare</th>\n",
              "      <th>Cabin</th>\n",
              "      <th>Embarked</th>\n",
              "    </tr>\n",
              "  </thead>\n",
              "  <tbody>\n",
              "    <tr>\n",
              "      <th>40</th>\n",
              "      <td>41</td>\n",
              "      <td>0</td>\n",
              "      <td>3</td>\n",
              "      <td>Ahlin, Mrs. Johan (Johanna Persdotter Larsson)</td>\n",
              "      <td>female</td>\n",
              "      <td>40.0</td>\n",
              "      <td>1</td>\n",
              "      <td>0</td>\n",
              "      <td>7546</td>\n",
              "      <td>9.475</td>\n",
              "      <td>NaN</td>\n",
              "      <td>S</td>\n",
              "    </tr>\n",
              "    <tr>\n",
              "      <th>41</th>\n",
              "      <td>42</td>\n",
              "      <td>0</td>\n",
              "      <td>2</td>\n",
              "      <td>Turpin, Mrs. William John Robert (Dorothy Ann ...</td>\n",
              "      <td>female</td>\n",
              "      <td>27.0</td>\n",
              "      <td>1</td>\n",
              "      <td>0</td>\n",
              "      <td>11668</td>\n",
              "      <td>21.000</td>\n",
              "      <td>NaN</td>\n",
              "      <td>S</td>\n",
              "    </tr>\n",
              "  </tbody>\n",
              "</table>\n",
              "</div>"
            ],
            "text/plain": [
              "    PassengerId  Survived  Pclass  \\\n",
              "40           41         0       3   \n",
              "41           42         0       2   \n",
              "\n",
              "                                                 Name     Sex   Age  SibSp  \\\n",
              "40     Ahlin, Mrs. Johan (Johanna Persdotter Larsson)  female  40.0      1   \n",
              "41  Turpin, Mrs. William John Robert (Dorothy Ann ...  female  27.0      1   \n",
              "\n",
              "    Parch Ticket    Fare Cabin Embarked  \n",
              "40      0   7546   9.475   NaN        S  \n",
              "41      0  11668  21.000   NaN        S  "
            ]
          },
          "execution_count": 12,
          "metadata": {},
          "output_type": "execute_result"
        }
      ],
      "source": [
        "df.iloc[40:42]"
      ]
    },
    {
      "cell_type": "markdown",
      "metadata": {},
      "source": [
        "If your DataFrame has a default integer index (0, 1, 2, ...), df.loc[40:60] and df.iloc[40:60] would give you the same result. However, if your DataFrame has a custom index or if the index doesn't follow the default integer sequence, the results may differ.\n",
        "You can check documentation for detailed information https://pandas.pydata.org/docs/user_guide/indexing.html"
      ]
    },
    {
      "cell_type": "markdown",
      "metadata": {
        "id": "Hl8tCRWiplx7"
      },
      "source": [
        "##Task 9. Sort the table by Fare in descending order (1 pt)"
      ]
    },
    {
      "cell_type": "code",
      "execution_count": 13,
      "metadata": {
        "id": "yFvqrEGplCR-"
      },
      "outputs": [
        {
          "data": {
            "text/html": [
              "<div>\n",
              "<style scoped>\n",
              "    .dataframe tbody tr th:only-of-type {\n",
              "        vertical-align: middle;\n",
              "    }\n",
              "\n",
              "    .dataframe tbody tr th {\n",
              "        vertical-align: top;\n",
              "    }\n",
              "\n",
              "    .dataframe thead th {\n",
              "        text-align: right;\n",
              "    }\n",
              "</style>\n",
              "<table border=\"1\" class=\"dataframe\">\n",
              "  <thead>\n",
              "    <tr style=\"text-align: right;\">\n",
              "      <th></th>\n",
              "      <th>PassengerId</th>\n",
              "      <th>Survived</th>\n",
              "      <th>Pclass</th>\n",
              "      <th>Name</th>\n",
              "      <th>Sex</th>\n",
              "      <th>Age</th>\n",
              "      <th>SibSp</th>\n",
              "      <th>Parch</th>\n",
              "      <th>Ticket</th>\n",
              "      <th>Fare</th>\n",
              "      <th>Cabin</th>\n",
              "      <th>Embarked</th>\n",
              "    </tr>\n",
              "  </thead>\n",
              "  <tbody>\n",
              "    <tr>\n",
              "      <th>258</th>\n",
              "      <td>259</td>\n",
              "      <td>1</td>\n",
              "      <td>1</td>\n",
              "      <td>Ward, Miss. Anna</td>\n",
              "      <td>female</td>\n",
              "      <td>35.0</td>\n",
              "      <td>0</td>\n",
              "      <td>0</td>\n",
              "      <td>PC 17755</td>\n",
              "      <td>512.3292</td>\n",
              "      <td>NaN</td>\n",
              "      <td>C</td>\n",
              "    </tr>\n",
              "    <tr>\n",
              "      <th>737</th>\n",
              "      <td>738</td>\n",
              "      <td>1</td>\n",
              "      <td>1</td>\n",
              "      <td>Lesurer, Mr. Gustave J</td>\n",
              "      <td>male</td>\n",
              "      <td>35.0</td>\n",
              "      <td>0</td>\n",
              "      <td>0</td>\n",
              "      <td>PC 17755</td>\n",
              "      <td>512.3292</td>\n",
              "      <td>B101</td>\n",
              "      <td>C</td>\n",
              "    </tr>\n",
              "    <tr>\n",
              "      <th>679</th>\n",
              "      <td>680</td>\n",
              "      <td>1</td>\n",
              "      <td>1</td>\n",
              "      <td>Cardeza, Mr. Thomas Drake Martinez</td>\n",
              "      <td>male</td>\n",
              "      <td>36.0</td>\n",
              "      <td>0</td>\n",
              "      <td>1</td>\n",
              "      <td>PC 17755</td>\n",
              "      <td>512.3292</td>\n",
              "      <td>B51 B53 B55</td>\n",
              "      <td>C</td>\n",
              "    </tr>\n",
              "    <tr>\n",
              "      <th>88</th>\n",
              "      <td>89</td>\n",
              "      <td>1</td>\n",
              "      <td>1</td>\n",
              "      <td>Fortune, Miss. Mabel Helen</td>\n",
              "      <td>female</td>\n",
              "      <td>23.0</td>\n",
              "      <td>3</td>\n",
              "      <td>2</td>\n",
              "      <td>19950</td>\n",
              "      <td>263.0000</td>\n",
              "      <td>C23 C25 C27</td>\n",
              "      <td>S</td>\n",
              "    </tr>\n",
              "    <tr>\n",
              "      <th>27</th>\n",
              "      <td>28</td>\n",
              "      <td>0</td>\n",
              "      <td>1</td>\n",
              "      <td>Fortune, Mr. Charles Alexander</td>\n",
              "      <td>male</td>\n",
              "      <td>19.0</td>\n",
              "      <td>3</td>\n",
              "      <td>2</td>\n",
              "      <td>19950</td>\n",
              "      <td>263.0000</td>\n",
              "      <td>C23 C25 C27</td>\n",
              "      <td>S</td>\n",
              "    </tr>\n",
              "  </tbody>\n",
              "</table>\n",
              "</div>"
            ],
            "text/plain": [
              "     PassengerId  Survived  Pclass                                Name  \\\n",
              "258          259         1       1                    Ward, Miss. Anna   \n",
              "737          738         1       1              Lesurer, Mr. Gustave J   \n",
              "679          680         1       1  Cardeza, Mr. Thomas Drake Martinez   \n",
              "88            89         1       1          Fortune, Miss. Mabel Helen   \n",
              "27            28         0       1      Fortune, Mr. Charles Alexander   \n",
              "\n",
              "        Sex   Age  SibSp  Parch    Ticket      Fare        Cabin Embarked  \n",
              "258  female  35.0      0      0  PC 17755  512.3292          NaN        C  \n",
              "737    male  35.0      0      0  PC 17755  512.3292         B101        C  \n",
              "679    male  36.0      0      1  PC 17755  512.3292  B51 B53 B55        C  \n",
              "88   female  23.0      3      2     19950  263.0000  C23 C25 C27        S  \n",
              "27     male  19.0      3      2     19950  263.0000  C23 C25 C27        S  "
            ]
          },
          "execution_count": 13,
          "metadata": {},
          "output_type": "execute_result"
        }
      ],
      "source": [
        "# by creating new DataFrame\n",
        "sorted_df = df.sort_values(by='Fare', ascending=False)\n",
        "\n",
        "sorted_df.head()"
      ]
    },
    {
      "cell_type": "code",
      "execution_count": 14,
      "metadata": {},
      "outputs": [
        {
          "data": {
            "text/html": [
              "<div>\n",
              "<style scoped>\n",
              "    .dataframe tbody tr th:only-of-type {\n",
              "        vertical-align: middle;\n",
              "    }\n",
              "\n",
              "    .dataframe tbody tr th {\n",
              "        vertical-align: top;\n",
              "    }\n",
              "\n",
              "    .dataframe thead th {\n",
              "        text-align: right;\n",
              "    }\n",
              "</style>\n",
              "<table border=\"1\" class=\"dataframe\">\n",
              "  <thead>\n",
              "    <tr style=\"text-align: right;\">\n",
              "      <th></th>\n",
              "      <th>PassengerId</th>\n",
              "      <th>Survived</th>\n",
              "      <th>Pclass</th>\n",
              "      <th>Name</th>\n",
              "      <th>Sex</th>\n",
              "      <th>Age</th>\n",
              "      <th>SibSp</th>\n",
              "      <th>Parch</th>\n",
              "      <th>Ticket</th>\n",
              "      <th>Fare</th>\n",
              "      <th>Cabin</th>\n",
              "      <th>Embarked</th>\n",
              "    </tr>\n",
              "  </thead>\n",
              "  <tbody>\n",
              "    <tr>\n",
              "      <th>258</th>\n",
              "      <td>259</td>\n",
              "      <td>1</td>\n",
              "      <td>1</td>\n",
              "      <td>Ward, Miss. Anna</td>\n",
              "      <td>female</td>\n",
              "      <td>35.0</td>\n",
              "      <td>0</td>\n",
              "      <td>0</td>\n",
              "      <td>PC 17755</td>\n",
              "      <td>512.3292</td>\n",
              "      <td>NaN</td>\n",
              "      <td>C</td>\n",
              "    </tr>\n",
              "    <tr>\n",
              "      <th>737</th>\n",
              "      <td>738</td>\n",
              "      <td>1</td>\n",
              "      <td>1</td>\n",
              "      <td>Lesurer, Mr. Gustave J</td>\n",
              "      <td>male</td>\n",
              "      <td>35.0</td>\n",
              "      <td>0</td>\n",
              "      <td>0</td>\n",
              "      <td>PC 17755</td>\n",
              "      <td>512.3292</td>\n",
              "      <td>B101</td>\n",
              "      <td>C</td>\n",
              "    </tr>\n",
              "    <tr>\n",
              "      <th>679</th>\n",
              "      <td>680</td>\n",
              "      <td>1</td>\n",
              "      <td>1</td>\n",
              "      <td>Cardeza, Mr. Thomas Drake Martinez</td>\n",
              "      <td>male</td>\n",
              "      <td>36.0</td>\n",
              "      <td>0</td>\n",
              "      <td>1</td>\n",
              "      <td>PC 17755</td>\n",
              "      <td>512.3292</td>\n",
              "      <td>B51 B53 B55</td>\n",
              "      <td>C</td>\n",
              "    </tr>\n",
              "    <tr>\n",
              "      <th>88</th>\n",
              "      <td>89</td>\n",
              "      <td>1</td>\n",
              "      <td>1</td>\n",
              "      <td>Fortune, Miss. Mabel Helen</td>\n",
              "      <td>female</td>\n",
              "      <td>23.0</td>\n",
              "      <td>3</td>\n",
              "      <td>2</td>\n",
              "      <td>19950</td>\n",
              "      <td>263.0000</td>\n",
              "      <td>C23 C25 C27</td>\n",
              "      <td>S</td>\n",
              "    </tr>\n",
              "    <tr>\n",
              "      <th>27</th>\n",
              "      <td>28</td>\n",
              "      <td>0</td>\n",
              "      <td>1</td>\n",
              "      <td>Fortune, Mr. Charles Alexander</td>\n",
              "      <td>male</td>\n",
              "      <td>19.0</td>\n",
              "      <td>3</td>\n",
              "      <td>2</td>\n",
              "      <td>19950</td>\n",
              "      <td>263.0000</td>\n",
              "      <td>C23 C25 C27</td>\n",
              "      <td>S</td>\n",
              "    </tr>\n",
              "  </tbody>\n",
              "</table>\n",
              "</div>"
            ],
            "text/plain": [
              "     PassengerId  Survived  Pclass                                Name  \\\n",
              "258          259         1       1                    Ward, Miss. Anna   \n",
              "737          738         1       1              Lesurer, Mr. Gustave J   \n",
              "679          680         1       1  Cardeza, Mr. Thomas Drake Martinez   \n",
              "88            89         1       1          Fortune, Miss. Mabel Helen   \n",
              "27            28         0       1      Fortune, Mr. Charles Alexander   \n",
              "\n",
              "        Sex   Age  SibSp  Parch    Ticket      Fare        Cabin Embarked  \n",
              "258  female  35.0      0      0  PC 17755  512.3292          NaN        C  \n",
              "737    male  35.0      0      0  PC 17755  512.3292         B101        C  \n",
              "679    male  36.0      0      1  PC 17755  512.3292  B51 B53 B55        C  \n",
              "88   female  23.0      3      2     19950  263.0000  C23 C25 C27        S  \n",
              "27     male  19.0      3      2     19950  263.0000  C23 C25 C27        S  "
            ]
          },
          "execution_count": 14,
          "metadata": {},
          "output_type": "execute_result"
        }
      ],
      "source": [
        "# in-place sorting \n",
        "df.sort_values(by='Fare', ascending=False, inplace=True)\n",
        "\n",
        "df.head()"
      ]
    },
    {
      "cell_type": "markdown",
      "metadata": {
        "id": "yLVxtEUXm127"
      },
      "source": [
        "##Task 10 Implement simple model to predict whether the person have survived according to knowledge you got from data analysis. Then calculate accuracy of your predictions on the dataset. Try to maximize accuracy (a student with maximum accuracy will recieve additional points). For example, the simplest model may look like (df[\"predict_survived\"] = df[\"Sex\"] == \"male\") (3 pt)"
      ]
    },
    {
      "cell_type": "markdown",
      "metadata": {},
      "source": [
        "In tackling prediction tasks, establishing a baseline model is crucial for assessing the performance of more complex models. While higher accuracy is generally desirable, you should avoid achieving it through overfitting. For this task, a sensible baseline could be predicting that all women survive and all men perish. Any solution surpassing this baseline accuracy is valid only if it reflects genuine predictive power and not data fitting."
      ]
    },
    {
      "cell_type": "code",
      "execution_count": 15,
      "metadata": {
        "id": "YsAI1BltlCtV"
      },
      "outputs": [
        {
          "name": "stdout",
          "output_type": "stream",
          "text": [
            "Baseline Accuracy: 78.68%\n"
          ]
        }
      ],
      "source": [
        "from sklearn.metrics import accuracy_score\n",
        "\n",
        "# Create a baseline prediction where all women survive and all men perish\n",
        "baseline_predictions = df['Sex'].map({'female': 1, 'male': 0})\n",
        "\n",
        "# Calculate accuracy of the baseline model\n",
        "baseline_accuracy = accuracy_score(df['Survived'], baseline_predictions)\n",
        "\n",
        "print(f\"Baseline Accuracy: {baseline_accuracy:.2%}\")\n"
      ]
    }
  ],
  "metadata": {
    "colab": {
      "provenance": []
    },
    "kernelspec": {
      "display_name": "Python 3",
      "name": "python3"
    },
    "language_info": {
      "codemirror_mode": {
        "name": "ipython",
        "version": 3
      },
      "file_extension": ".py",
      "mimetype": "text/x-python",
      "name": "python",
      "nbconvert_exporter": "python",
      "pygments_lexer": "ipython3",
      "version": "3.9.6"
    }
  },
  "nbformat": 4,
  "nbformat_minor": 0
}
